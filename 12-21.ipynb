{
 "cells": [
  {
   "cell_type": "markdown",
   "id": "8698a8df-5ebc-4aac-8ac7-9c2d88bbb169",
   "metadata": {},
   "source": [
    "# Part 1"
   ]
  },
  {
   "cell_type": "code",
   "execution_count": 1,
   "id": "5347382a-9ac2-4499-a705-30976be76860",
   "metadata": {
    "tags": []
   },
   "outputs": [],
   "source": [
    "filename = \"inputs/12-21.txt\"\n",
    "with open(filename, \"r\") as f:\n",
    "    data = f.read()"
   ]
  },
  {
   "cell_type": "code",
   "execution_count": 2,
   "id": "bad64deb-ff30-4aa2-b709-919ca4ed5724",
   "metadata": {},
   "outputs": [],
   "source": [
    "import re\n",
    "from collections import deque"
   ]
  },
  {
   "cell_type": "code",
   "execution_count": 3,
   "id": "d6a0cc9c-c10e-4666-98b1-93561c7e7f5c",
   "metadata": {},
   "outputs": [],
   "source": [
    "number_monkeys = {}\n",
    "op_monkeys = deque()\n",
    "for l in data.splitlines():\n",
    "    if m := re.match(\"([a-z]+): ([0-9]+)\", l):\n",
    "        mk, n = m.groups()\n",
    "        number_monkeys[mk] = int(n)\n",
    "    else:\n",
    "        m = re.match(\"([a-z]+): ([a-z]+) ([+*-/]) ([a-z]+)\", l)\n",
    "        mk, mk1, op, mk2 = m.groups()\n",
    "        op_monkeys.appendleft((mk, mk1, op, mk2))"
   ]
  },
  {
   "cell_type": "code",
   "execution_count": 4,
   "id": "dfd57b73-be9c-4faa-aefa-7f0321b5e7af",
   "metadata": {},
   "outputs": [
    {
     "name": "stdout",
     "output_type": "stream",
     "text": [
      "43699799094202\n"
     ]
    }
   ],
   "source": [
    "while op_monkeys:\n",
    "    mk, mk1, op, mk2 = op_monkeys.pop()\n",
    "    if mk1 in number_monkeys and mk2 in number_monkeys:\n",
    "        if op == \"+\":\n",
    "            number_monkeys[mk] = number_monkeys[mk1] + number_monkeys[mk2]\n",
    "        if op == \"*\":\n",
    "            number_monkeys[mk] = number_monkeys[mk1] * number_monkeys[mk2]\n",
    "        if op == \"-\":\n",
    "            number_monkeys[mk] = number_monkeys[mk1] - number_monkeys[mk2]\n",
    "        if op == \"/\":\n",
    "            assert number_monkeys[mk1] % number_monkeys[mk2] == 0\n",
    "            number_monkeys[mk] = number_monkeys[mk1] // number_monkeys[mk2]\n",
    "        if mk == \"root\":\n",
    "            print(number_monkeys[mk])\n",
    "    else:\n",
    "        op_monkeys.appendleft((mk, mk1, op, mk2))"
   ]
  },
  {
   "cell_type": "markdown",
   "id": "89f6ebc3-ac0d-4dfe-9a59-15d5f0493e7e",
   "metadata": {},
   "source": [
    "# Part 2"
   ]
  },
  {
   "cell_type": "code",
   "execution_count": 5,
   "id": "139f72ac-7944-4549-9063-c11c4bf18642",
   "metadata": {},
   "outputs": [],
   "source": [
    "number_monkeys = {}\n",
    "op_monkeys = deque()\n",
    "for l in data.splitlines():\n",
    "    if m := re.match(\"([a-z]+): ([0-9]+)\", l):\n",
    "        mk, n = m.groups()\n",
    "        number_monkeys[mk] = int(n)\n",
    "    else:\n",
    "        m = re.match(\"([a-z]+): ([a-z]+) ([+*-/]) ([a-z]+)\", l)\n",
    "        mk, mk1, op, mk2 = m.groups()\n",
    "        op_monkeys.appendleft((mk, mk1, op, mk2))\n",
    "del number_monkeys[\"humn\"]"
   ]
  },
  {
   "cell_type": "code",
   "execution_count": 6,
   "id": "0d0bd511-b368-46da-ac13-c0dead82efdc",
   "metadata": {},
   "outputs": [],
   "source": [
    "prev_len = len(op_monkeys)\n",
    "while True:\n",
    "    mk, mk1, op, mk2 = op_monkeys.pop()\n",
    "    if mk == \"root\" and (mk1 in number_monkeys or mk2 in number_monkeys):\n",
    "        if mk2 in number_monkeys:\n",
    "            mk1, mk2 = mk2, mk1\n",
    "        if prev_len == len(op_monkeys):\n",
    "            mk = mk2\n",
    "            n = number_monkeys[mk1]\n",
    "            break\n",
    "        else:\n",
    "            prev_len = len(op_monkeys)\n",
    "            op_monkeys.appendleft((mk, mk1, op, mk2))\n",
    "    elif mk1 in number_monkeys and mk2 in number_monkeys:\n",
    "        if op == \"+\":\n",
    "            number_monkeys[mk] = number_monkeys[mk1] + number_monkeys[mk2]\n",
    "        if op == \"*\":\n",
    "            number_monkeys[mk] = number_monkeys[mk1] * number_monkeys[mk2]\n",
    "        if op == \"-\":\n",
    "            number_monkeys[mk] = number_monkeys[mk1] - number_monkeys[mk2]\n",
    "        if op == \"/\":\n",
    "            assert number_monkeys[mk1] % number_monkeys[mk2] == 0\n",
    "            number_monkeys[mk] = number_monkeys[mk1] // number_monkeys[mk2]\n",
    "    else:\n",
    "        op_monkeys.appendleft((mk, mk1, op, mk2))\n",
    "\n",
    "target, value = mk, n"
   ]
  },
  {
   "cell_type": "code",
   "execution_count": 7,
   "id": "2a0f50b0-92a1-45ef-856c-1fff0070ea6e",
   "metadata": {},
   "outputs": [],
   "source": [
    "monkeys = {}\n",
    "for mk, mk1, op, mk2 in op_monkeys:\n",
    "    assert (mk1 in number_monkeys) != (mk2 in number_monkeys)\n",
    "    if mk1 in number_monkeys:\n",
    "        monkeys[mk] = (number_monkeys[mk1], op, mk2)\n",
    "    else:\n",
    "        monkeys[mk] = (mk1, op, number_monkeys[mk2])"
   ]
  },
  {
   "cell_type": "code",
   "execution_count": 8,
   "id": "762f35ad-a1d2-4297-b582-b88b7406877b",
   "metadata": {},
   "outputs": [
    {
     "name": "stdout",
     "output_type": "stream",
     "text": [
      "3375719472770\n"
     ]
    }
   ],
   "source": [
    "while True:\n",
    "    mk1, op, mk2 = monkeys[target]\n",
    "    if op in \"+*\" and isinstance(mk2, int):\n",
    "        mk1, mk2 = mk2, mk1\n",
    "    if op == \"+\":\n",
    "        target = mk2\n",
    "        n = n - mk1\n",
    "    if op == \"*\":\n",
    "        target = mk2\n",
    "        assert n % mk1 == 0\n",
    "        n = n // mk1\n",
    "    if op == \"/\":\n",
    "        if isinstance(mk1, int):\n",
    "            target = mk2\n",
    "            assert mk1 % n == 0\n",
    "            n = mk1 // n\n",
    "        else:\n",
    "            target = mk1\n",
    "            n = mk2 * n\n",
    "    if op == \"-\":\n",
    "        if isinstance(mk1, int):\n",
    "            target = mk2\n",
    "            n = mk1 - n\n",
    "        else:\n",
    "            target = mk1\n",
    "            n = mk2 + n\n",
    "    if target == \"humn\":\n",
    "        print(n)\n",
    "        break"
   ]
  },
  {
   "cell_type": "code",
   "execution_count": null,
   "id": "823745da-3eb2-476a-911c-eff1725ff11b",
   "metadata": {},
   "outputs": [],
   "source": []
  }
 ],
 "metadata": {
  "kernelspec": {
   "display_name": "Python 3 (ipykernel)",
   "language": "python",
   "name": "python3"
  },
  "language_info": {
   "codemirror_mode": {
    "name": "ipython",
    "version": 3
   },
   "file_extension": ".py",
   "mimetype": "text/x-python",
   "name": "python",
   "nbconvert_exporter": "python",
   "pygments_lexer": "ipython3",
   "version": "3.10.5"
  }
 },
 "nbformat": 4,
 "nbformat_minor": 5
}
