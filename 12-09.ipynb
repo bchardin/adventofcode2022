{
 "cells": [
  {
   "cell_type": "markdown",
   "id": "4f3cd170-07aa-4e23-b7d2-85044f1366b9",
   "metadata": {},
   "source": [
    "# Part 1"
   ]
  },
  {
   "cell_type": "code",
   "execution_count": 1,
   "id": "6a2ca4c5-a870-4ed3-9e03-34a367a2c33d",
   "metadata": {},
   "outputs": [],
   "source": [
    "def parse_input(filename):\n",
    "    moves = []\n",
    "    with open(filename, \"r\") as f:\n",
    "        for l in f.readlines():\n",
    "            d, length = l.split(\" \")\n",
    "            moves.append((d, int(length)))\n",
    "    return moves"
   ]
  },
  {
   "cell_type": "code",
   "execution_count": 2,
   "id": "d1673271-1cb2-4385-9559-5136bba46e7f",
   "metadata": {},
   "outputs": [],
   "source": [
    "moves = parse_input(\"12-09.txt\")"
   ]
  },
  {
   "cell_type": "code",
   "execution_count": 3,
   "id": "1b01c365-93f6-4104-865f-87d08219fdad",
   "metadata": {},
   "outputs": [],
   "source": [
    "import numpy as np"
   ]
  },
  {
   "cell_type": "code",
   "execution_count": 4,
   "id": "a6701fa4-17ed-4528-a277-22a349e87389",
   "metadata": {},
   "outputs": [],
   "source": [
    "DIRECTIONS = {\n",
    "    c: np.array(d, dtype=np.int32) for c, d in (\n",
    "        (\"R\", [1, 0]),\n",
    "        (\"L\", [-1, 0]),\n",
    "        (\"U\", [0, 1]),\n",
    "        (\"D\", [0, -1]),\n",
    "    )\n",
    "}\n",
    "\n",
    "def move(knots, direction):\n",
    "    knots[0] = knots[0] + DIRECTIONS[direction]\n",
    "    for i, knot in enumerate(knots[1:]):\n",
    "        delta = knots[i] - knot\n",
    "        if np.max(np.abs(delta)) > 1:\n",
    "            knots[i + 1] = knot + np.sign(delta)\n",
    "    return knots"
   ]
  },
  {
   "cell_type": "code",
   "execution_count": 5,
   "id": "053e0f30-ed71-470b-8384-5d3f462f99b5",
   "metadata": {},
   "outputs": [],
   "source": [
    "def apply_moves(moves, rope_length=2):\n",
    "    rope = np.zeros((rope_length, 2))\n",
    "    tail_history = [rope[-1].copy()]\n",
    "    for (d, length) in moves:\n",
    "        for i in range(length):\n",
    "            rope = move(rope, d)\n",
    "            tail_history.append(rope[-1].copy())\n",
    "    return tail_history"
   ]
  },
  {
   "cell_type": "code",
   "execution_count": 6,
   "id": "19550519-9f78-4175-b9e4-409b694eb9fe",
   "metadata": {},
   "outputs": [
    {
     "name": "stdout",
     "output_type": "stream",
     "text": [
      "There were 5907 unique tail positions.\n"
     ]
    }
   ],
   "source": [
    "tail_history = apply_moves(moves)\n",
    "print(f\"There were {len(np.unique(tail_history, axis=0))} unique tail positions.\")"
   ]
  },
  {
   "cell_type": "markdown",
   "id": "eb0917ca-6a95-463d-909c-f5e45a42f2d7",
   "metadata": {},
   "source": [
    "# Part 2"
   ]
  },
  {
   "cell_type": "code",
   "execution_count": 7,
   "id": "faf874e2-c041-4eb2-a93a-1319c5f55bc2",
   "metadata": {},
   "outputs": [
    {
     "name": "stdout",
     "output_type": "stream",
     "text": [
      "There were 2303 unique tail positions.\n"
     ]
    }
   ],
   "source": [
    "tail_history = apply_moves(moves, 10)\n",
    "print(f\"There were {len(np.unique(tail_history, axis=0))} unique tail positions.\")"
   ]
  },
  {
   "cell_type": "code",
   "execution_count": null,
   "id": "84de4e37-0f1b-4cc4-97d8-d7bdc2b5b1c1",
   "metadata": {},
   "outputs": [],
   "source": []
  }
 ],
 "metadata": {
  "kernelspec": {
   "display_name": "Python 3 (ipykernel)",
   "language": "python",
   "name": "python3"
  },
  "language_info": {
   "codemirror_mode": {
    "name": "ipython",
    "version": 3
   },
   "file_extension": ".py",
   "mimetype": "text/x-python",
   "name": "python",
   "nbconvert_exporter": "python",
   "pygments_lexer": "ipython3",
   "version": "3.10.5"
  }
 },
 "nbformat": 4,
 "nbformat_minor": 5
}
