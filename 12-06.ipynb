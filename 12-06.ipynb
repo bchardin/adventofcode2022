{
 "cells": [
  {
   "cell_type": "markdown",
   "id": "131f996b-ae44-4f47-abc6-026c3388c841",
   "metadata": {},
   "source": [
    "# Part 1"
   ]
  },
  {
   "cell_type": "code",
   "execution_count": 1,
   "id": "69fe53c2-6169-4d70-af08-1a24869df773",
   "metadata": {},
   "outputs": [],
   "source": [
    "def detect_start(input_, width=4):\n",
    "    for i in range(width, len(input_)):\n",
    "        if len(set(input_[i-width:i])) == width:\n",
    "            return i"
   ]
  },
  {
   "cell_type": "code",
   "execution_count": 2,
   "id": "390c8a9b-9cca-482f-985a-6a7474235682",
   "metadata": {},
   "outputs": [
    {
     "name": "stdout",
     "output_type": "stream",
     "text": [
      "1651\n"
     ]
    }
   ],
   "source": [
    "with open(\"12-06.txt\", \"r\") as f:\n",
    "    print(detect_start(f.read()))"
   ]
  },
  {
   "cell_type": "markdown",
   "id": "4969a978-46b1-4073-aa7d-72a0442497de",
   "metadata": {},
   "source": [
    "# Part 2"
   ]
  },
  {
   "cell_type": "code",
   "execution_count": 3,
   "id": "c0019fb3-85a7-43a6-9408-c2952403ec77",
   "metadata": {},
   "outputs": [
    {
     "name": "stdout",
     "output_type": "stream",
     "text": [
      "3837\n"
     ]
    }
   ],
   "source": [
    "with open(\"12-06.txt\", \"r\") as f:\n",
    "    print(detect_start(f.read(), 14))"
   ]
  },
  {
   "cell_type": "code",
   "execution_count": null,
   "id": "701eb6d3-5adf-4515-9777-65c2d3575106",
   "metadata": {},
   "outputs": [],
   "source": []
  }
 ],
 "metadata": {
  "kernelspec": {
   "display_name": "Python 3 (ipykernel)",
   "language": "python",
   "name": "python3"
  },
  "language_info": {
   "codemirror_mode": {
    "name": "ipython",
    "version": 3
   },
   "file_extension": ".py",
   "mimetype": "text/x-python",
   "name": "python",
   "nbconvert_exporter": "python",
   "pygments_lexer": "ipython3",
   "version": "3.10.5"
  }
 },
 "nbformat": 4,
 "nbformat_minor": 5
}
