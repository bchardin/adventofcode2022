{
 "cells": [
  {
   "cell_type": "markdown",
   "id": "131f996b-ae44-4f47-abc6-026c3388c841",
   "metadata": {},
   "source": [
    "# Part 1"
   ]
  },
  {
   "cell_type": "code",
   "execution_count": 1,
   "id": "8137d551-ad9b-431d-a344-27b2eb912054",
   "metadata": {
    "execution": {
     "iopub.execute_input": "2022-12-14T13:33:03.687948Z",
     "iopub.status.busy": "2022-12-14T13:33:03.687702Z",
     "iopub.status.idle": "2022-12-14T13:33:03.692217Z",
     "shell.execute_reply": "2022-12-14T13:33:03.691571Z",
     "shell.execute_reply.started": "2022-12-14T13:33:03.687880Z"
    },
    "tags": []
   },
   "outputs": [],
   "source": [
    "filename = \"inputs/12-06.txt\"\n",
    "with open(filename, \"r\") as f:\n",
    "    data = f.read()"
   ]
  },
  {
   "cell_type": "code",
   "execution_count": 2,
   "id": "69fe53c2-6169-4d70-af08-1a24869df773",
   "metadata": {
    "execution": {
     "iopub.execute_input": "2022-12-14T13:33:03.693581Z",
     "iopub.status.busy": "2022-12-14T13:33:03.693410Z",
     "iopub.status.idle": "2022-12-14T13:33:03.697654Z",
     "shell.execute_reply": "2022-12-14T13:33:03.697161Z",
     "shell.execute_reply.started": "2022-12-14T13:33:03.693560Z"
    }
   },
   "outputs": [],
   "source": [
    "def detect_start(input_, width=4):\n",
    "    for i in range(width, len(input_)):\n",
    "        if len(set(input_[i-width:i])) == width:\n",
    "            return i"
   ]
  },
  {
   "cell_type": "code",
   "execution_count": 3,
   "id": "390c8a9b-9cca-482f-985a-6a7474235682",
   "metadata": {
    "execution": {
     "iopub.execute_input": "2022-12-14T13:33:03.698630Z",
     "iopub.status.busy": "2022-12-14T13:33:03.698440Z",
     "iopub.status.idle": "2022-12-14T13:33:03.721614Z",
     "shell.execute_reply": "2022-12-14T13:33:03.720040Z",
     "shell.execute_reply.started": "2022-12-14T13:33:03.698609Z"
    }
   },
   "outputs": [
    {
     "data": {
      "text/plain": [
       "1651"
      ]
     },
     "execution_count": 3,
     "metadata": {},
     "output_type": "execute_result"
    }
   ],
   "source": [
    "detect_start(data)"
   ]
  },
  {
   "cell_type": "markdown",
   "id": "4969a978-46b1-4073-aa7d-72a0442497de",
   "metadata": {},
   "source": [
    "# Part 2"
   ]
  },
  {
   "cell_type": "code",
   "execution_count": 4,
   "id": "c0019fb3-85a7-43a6-9408-c2952403ec77",
   "metadata": {
    "execution": {
     "iopub.execute_input": "2022-12-14T13:33:03.723932Z",
     "iopub.status.busy": "2022-12-14T13:33:03.723520Z",
     "iopub.status.idle": "2022-12-14T13:33:03.730568Z",
     "shell.execute_reply": "2022-12-14T13:33:03.729998Z",
     "shell.execute_reply.started": "2022-12-14T13:33:03.723894Z"
    }
   },
   "outputs": [
    {
     "data": {
      "text/plain": [
       "3837"
      ]
     },
     "execution_count": 4,
     "metadata": {},
     "output_type": "execute_result"
    }
   ],
   "source": [
    "detect_start(data, 14)"
   ]
  },
  {
   "cell_type": "code",
   "execution_count": null,
   "id": "701eb6d3-5adf-4515-9777-65c2d3575106",
   "metadata": {},
   "outputs": [],
   "source": []
  }
 ],
 "metadata": {
  "kernelspec": {
   "display_name": "Python 3",
   "language": "python",
   "name": "python3"
  },
  "language_info": {
   "codemirror_mode": {
    "name": "ipython",
    "version": 3
   },
   "file_extension": ".py",
   "mimetype": "text/x-python",
   "name": "python",
   "nbconvert_exporter": "python",
   "pygments_lexer": "ipython3",
   "version": "3.8.5"
  }
 },
 "nbformat": 4,
 "nbformat_minor": 5
}
