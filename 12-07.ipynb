{
 "cells": [
  {
   "cell_type": "markdown",
   "metadata": {},
   "source": [
    "# Part 1"
   ]
  },
  {
   "cell_type": "code",
   "execution_count": 1,
   "metadata": {
    "execution": {
     "iopub.execute_input": "2022-12-14T13:33:42.458484Z",
     "iopub.status.busy": "2022-12-14T13:33:42.458305Z",
     "iopub.status.idle": "2022-12-14T13:33:42.524549Z",
     "shell.execute_reply": "2022-12-14T13:33:42.523514Z",
     "shell.execute_reply.started": "2022-12-14T13:33:42.458433Z"
    },
    "tags": []
   },
   "outputs": [],
   "source": [
    "import re\n",
    "import numpy as np"
   ]
  },
  {
   "cell_type": "code",
   "execution_count": 2,
   "metadata": {
    "execution": {
     "iopub.execute_input": "2022-12-14T13:33:42.526979Z",
     "iopub.status.busy": "2022-12-14T13:33:42.526784Z",
     "iopub.status.idle": "2022-12-14T13:33:42.531506Z",
     "shell.execute_reply": "2022-12-14T13:33:42.530972Z",
     "shell.execute_reply.started": "2022-12-14T13:33:42.526956Z"
    },
    "tags": []
   },
   "outputs": [],
   "source": [
    "filename = \"inputs/12-07.txt\"\n",
    "with open(filename, \"r\") as f:\n",
    "    data = f.read()"
   ]
  },
  {
   "cell_type": "code",
   "execution_count": 3,
   "metadata": {
    "execution": {
     "iopub.execute_input": "2022-12-14T13:33:42.532901Z",
     "iopub.status.busy": "2022-12-14T13:33:42.532482Z",
     "iopub.status.idle": "2022-12-14T13:33:42.544233Z",
     "shell.execute_reply": "2022-12-14T13:33:42.543664Z",
     "shell.execute_reply.started": "2022-12-14T13:33:42.532871Z"
    },
    "tags": []
   },
   "outputs": [],
   "source": [
    "fs = {}\n",
    "current_dir = None\n",
    "for l in data.splitlines():\n",
    "    if re.match(\"\\$ cd /\", l):\n",
    "        current_dir = [\"\"]\n",
    "        fs[\"/\".join(current_dir)] = 0\n",
    "    if re.match(\"\\$ cd \\.\\.\", l):\n",
    "        current_dir = current_dir[:-1]\n",
    "    if m := re.match(\"\\$ cd (\\w+)\", l):\n",
    "        current_dir = current_dir + [m.group(1)]\n",
    "        fs[\"/\".join(current_dir)] = 0\n",
    "    if m := re.match(\"(\\d+) \\w+\\.?\\w*\", l):\n",
    "        fs[\"/\".join(current_dir)] += int(m.group(1))"
   ]
  },
  {
   "cell_type": "code",
   "execution_count": 4,
   "metadata": {
    "execution": {
     "iopub.execute_input": "2022-12-14T13:33:42.547135Z",
     "iopub.status.busy": "2022-12-14T13:33:42.546927Z",
     "iopub.status.idle": "2022-12-14T13:33:42.556390Z",
     "shell.execute_reply": "2022-12-14T13:33:42.555951Z",
     "shell.execute_reply.started": "2022-12-14T13:33:42.547111Z"
    },
    "tags": []
   },
   "outputs": [],
   "source": [
    "fs_sat = fs.copy()\n",
    "for dir_, size in fs.items():\n",
    "    for d in fs_sat:\n",
    "        if dir_.startswith(d) and not dir_ == d:\n",
    "            fs_sat[d] += size"
   ]
  },
  {
   "cell_type": "code",
   "execution_count": 5,
   "metadata": {
    "execution": {
     "iopub.execute_input": "2022-12-14T13:33:42.557451Z",
     "iopub.status.busy": "2022-12-14T13:33:42.557240Z",
     "iopub.status.idle": "2022-12-14T13:33:42.571996Z",
     "shell.execute_reply": "2022-12-14T13:33:42.571273Z",
     "shell.execute_reply.started": "2022-12-14T13:33:42.557423Z"
    },
    "tags": []
   },
   "outputs": [
    {
     "data": {
      "text/plain": [
       "1390824"
      ]
     },
     "execution_count": 5,
     "metadata": {},
     "output_type": "execute_result"
    }
   ],
   "source": [
    "tot_size = np.array(list(fs_sat.values()))\n",
    "tot_size[tot_size <= 100000].sum()"
   ]
  },
  {
   "cell_type": "markdown",
   "metadata": {},
   "source": [
    "# Part 2"
   ]
  },
  {
   "cell_type": "code",
   "execution_count": 6,
   "metadata": {
    "execution": {
     "iopub.execute_input": "2022-12-14T13:33:42.573213Z",
     "iopub.status.busy": "2022-12-14T13:33:42.572986Z",
     "iopub.status.idle": "2022-12-14T13:33:42.576430Z",
     "shell.execute_reply": "2022-12-14T13:33:42.576033Z",
     "shell.execute_reply.started": "2022-12-14T13:33:42.573180Z"
    },
    "tags": []
   },
   "outputs": [],
   "source": [
    "target = fs_sat[''] - 40000000"
   ]
  },
  {
   "cell_type": "code",
   "execution_count": 7,
   "metadata": {
    "execution": {
     "iopub.execute_input": "2022-12-14T13:33:42.577573Z",
     "iopub.status.busy": "2022-12-14T13:33:42.577421Z",
     "iopub.status.idle": "2022-12-14T13:33:42.583250Z",
     "shell.execute_reply": "2022-12-14T13:33:42.582598Z",
     "shell.execute_reply.started": "2022-12-14T13:33:42.577554Z"
    },
    "tags": []
   },
   "outputs": [
    {
     "data": {
      "text/plain": [
       "7490863"
      ]
     },
     "execution_count": 7,
     "metadata": {},
     "output_type": "execute_result"
    }
   ],
   "source": [
    "np.min(tot_size[tot_size >= target])"
   ]
  },
  {
   "cell_type": "code",
   "execution_count": null,
   "metadata": {},
   "outputs": [],
   "source": []
  }
 ],
 "metadata": {
  "kernelspec": {
   "display_name": "Python 3",
   "language": "python",
   "name": "python3"
  },
  "language_info": {
   "codemirror_mode": {
    "name": "ipython",
    "version": 3
   },
   "file_extension": ".py",
   "mimetype": "text/x-python",
   "name": "python",
   "nbconvert_exporter": "python",
   "pygments_lexer": "ipython3",
   "version": "3.8.5"
  }
 },
 "nbformat": 4,
 "nbformat_minor": 4
}
