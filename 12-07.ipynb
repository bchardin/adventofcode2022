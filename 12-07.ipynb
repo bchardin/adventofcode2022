{
 "cells": [
  {
   "cell_type": "markdown",
   "metadata": {},
   "source": [
    "# Part 1"
   ]
  },
  {
   "cell_type": "code",
   "execution_count": 1,
   "metadata": {
    "execution": {
     "iopub.execute_input": "2022-12-07T18:01:37.483794Z",
     "iopub.status.busy": "2022-12-07T18:01:37.483308Z",
     "iopub.status.idle": "2022-12-07T18:01:37.563696Z",
     "shell.execute_reply": "2022-12-07T18:01:37.562989Z",
     "shell.execute_reply.started": "2022-12-07T18:01:37.483672Z"
    },
    "tags": []
   },
   "outputs": [],
   "source": [
    "import re\n",
    "import numpy as np"
   ]
  },
  {
   "cell_type": "code",
   "execution_count": 2,
   "metadata": {
    "execution": {
     "iopub.execute_input": "2022-12-07T18:01:38.129251Z",
     "iopub.status.busy": "2022-12-07T18:01:38.128844Z",
     "iopub.status.idle": "2022-12-07T18:01:38.144610Z",
     "shell.execute_reply": "2022-12-07T18:01:38.143802Z",
     "shell.execute_reply.started": "2022-12-07T18:01:38.129209Z"
    },
    "tags": []
   },
   "outputs": [],
   "source": [
    "with open(\"12-07.txt\", \"r\") as f:\n",
    "    fs = {}\n",
    "    current_dir = None\n",
    "    for l in f.read().splitlines():\n",
    "        if re.match(\"\\$ cd /\", l):\n",
    "            current_dir = [\"\"]\n",
    "            fs[\"/\".join(current_dir)] = 0\n",
    "        if re.match(\"\\$ cd \\.\\.\", l):\n",
    "            current_dir = current_dir[:-1]\n",
    "        if m := re.match(\"\\$ cd (\\w+)\", l):\n",
    "            current_dir = current_dir + [m.group(1)]\n",
    "            fs[\"/\".join(current_dir)] = 0\n",
    "        if m := re.match(\"(\\d+) \\w+\\.?\\w*\", l):\n",
    "            fs[\"/\".join(current_dir)] += int(m.group(1))"
   ]
  },
  {
   "cell_type": "code",
   "execution_count": 3,
   "metadata": {
    "execution": {
     "iopub.execute_input": "2022-12-07T18:01:38.612204Z",
     "iopub.status.busy": "2022-12-07T18:01:38.611773Z",
     "iopub.status.idle": "2022-12-07T18:01:38.625842Z",
     "shell.execute_reply": "2022-12-07T18:01:38.624719Z",
     "shell.execute_reply.started": "2022-12-07T18:01:38.612158Z"
    },
    "tags": []
   },
   "outputs": [],
   "source": [
    "fs_sat = fs.copy()\n",
    "for dir_, size in fs.items():\n",
    "    for d in fs_sat:\n",
    "        if dir_.startswith(d) and not dir_ == d:\n",
    "            fs_sat[d] += size"
   ]
  },
  {
   "cell_type": "code",
   "execution_count": 4,
   "metadata": {
    "execution": {
     "iopub.execute_input": "2022-12-07T18:01:39.085231Z",
     "iopub.status.busy": "2022-12-07T18:01:39.084778Z",
     "iopub.status.idle": "2022-12-07T18:01:39.100746Z",
     "shell.execute_reply": "2022-12-07T18:01:39.099715Z",
     "shell.execute_reply.started": "2022-12-07T18:01:39.085185Z"
    },
    "tags": []
   },
   "outputs": [
    {
     "data": {
      "text/plain": [
       "1390824"
      ]
     },
     "execution_count": 4,
     "metadata": {},
     "output_type": "execute_result"
    }
   ],
   "source": [
    "tot_size = np.array(list(fs_sat.values()))\n",
    "tot_size[tot_size <= 100000].sum()"
   ]
  },
  {
   "cell_type": "markdown",
   "metadata": {},
   "source": [
    "# Part 2"
   ]
  },
  {
   "cell_type": "code",
   "execution_count": 5,
   "metadata": {
    "execution": {
     "iopub.execute_input": "2022-12-07T18:01:40.234537Z",
     "iopub.status.busy": "2022-12-07T18:01:40.234116Z",
     "iopub.status.idle": "2022-12-07T18:01:40.240193Z",
     "shell.execute_reply": "2022-12-07T18:01:40.238997Z",
     "shell.execute_reply.started": "2022-12-07T18:01:40.234493Z"
    },
    "tags": []
   },
   "outputs": [],
   "source": [
    "target = fs_sat[''] - 40000000"
   ]
  },
  {
   "cell_type": "code",
   "execution_count": 6,
   "metadata": {
    "execution": {
     "iopub.execute_input": "2022-12-07T18:01:41.020311Z",
     "iopub.status.busy": "2022-12-07T18:01:41.019847Z",
     "iopub.status.idle": "2022-12-07T18:01:41.027657Z",
     "shell.execute_reply": "2022-12-07T18:01:41.026442Z",
     "shell.execute_reply.started": "2022-12-07T18:01:41.020261Z"
    },
    "tags": []
   },
   "outputs": [
    {
     "data": {
      "text/plain": [
       "7490863"
      ]
     },
     "execution_count": 6,
     "metadata": {},
     "output_type": "execute_result"
    }
   ],
   "source": [
    "np.min(tot_size[tot_size >= target])"
   ]
  },
  {
   "cell_type": "code",
   "execution_count": null,
   "metadata": {},
   "outputs": [],
   "source": []
  }
 ],
 "metadata": {
  "kernelspec": {
   "display_name": "Python 3",
   "language": "python",
   "name": "python3"
  },
  "language_info": {
   "codemirror_mode": {
    "name": "ipython",
    "version": 3
   },
   "file_extension": ".py",
   "mimetype": "text/x-python",
   "name": "python",
   "nbconvert_exporter": "python",
   "pygments_lexer": "ipython3",
   "version": "3.8.5"
  }
 },
 "nbformat": 4,
 "nbformat_minor": 4
}
