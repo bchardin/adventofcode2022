{
 "cells": [
  {
   "cell_type": "markdown",
   "metadata": {},
   "source": [
    "# Part 1"
   ]
  },
  {
   "cell_type": "code",
   "execution_count": 1,
   "metadata": {
    "execution": {
     "iopub.execute_input": "2022-12-07T17:58:11.803001Z",
     "iopub.status.busy": "2022-12-07T17:58:11.802617Z",
     "iopub.status.idle": "2022-12-07T17:58:11.873125Z",
     "shell.execute_reply": "2022-12-07T17:58:11.872517Z",
     "shell.execute_reply.started": "2022-12-07T17:58:11.802903Z"
    },
    "tags": []
   },
   "outputs": [],
   "source": [
    "import re\n",
    "import numpy as np"
   ]
  },
  {
   "cell_type": "code",
   "execution_count": 2,
   "metadata": {
    "execution": {
     "iopub.execute_input": "2022-12-07T17:58:11.874786Z",
     "iopub.status.busy": "2022-12-07T17:58:11.874578Z",
     "iopub.status.idle": "2022-12-07T17:58:11.891242Z",
     "shell.execute_reply": "2022-12-07T17:58:11.890388Z",
     "shell.execute_reply.started": "2022-12-07T17:58:11.874762Z"
    },
    "tags": []
   },
   "outputs": [],
   "source": [
    "with open(\"12-07.txt\", \"r\") as f:\n",
    "    fs = {}\n",
    "    current_dir = None\n",
    "    for l in f.read().splitlines():\n",
    "        if re.match(\"\\$ cd /\", l):\n",
    "            current_dir = [\"\"]\n",
    "            fs[\"/\".join(current_dir)] = 0\n",
    "        if re.match(\"\\$ cd \\.\\.\", l):\n",
    "            current_dir = current_dir[:-1]\n",
    "        if m := re.match(\"\\$ cd (\\w+)\", l):\n",
    "            current_dir = current_dir + [m.group(1)]\n",
    "            fs[\"/\".join(current_dir)] = 0\n",
    "        if m := re.match(\"(\\d+) \\w+\\.?\\w*\", l):\n",
    "            fs[\"/\".join(current_dir)] += int(m.group(1))"
   ]
  },
  {
   "cell_type": "code",
   "execution_count": 3,
   "metadata": {
    "execution": {
     "iopub.execute_input": "2022-12-07T17:58:11.892165Z",
     "iopub.status.busy": "2022-12-07T17:58:11.891993Z",
     "iopub.status.idle": "2022-12-07T17:58:11.908156Z",
     "shell.execute_reply": "2022-12-07T17:58:11.907562Z",
     "shell.execute_reply.started": "2022-12-07T17:58:11.892143Z"
    },
    "tags": []
   },
   "outputs": [],
   "source": [
    "fs_sat = fs.copy()\n",
    "for dir_, size in fs.items():\n",
    "    for d in fs_sat:\n",
    "        if dir_.startswith(d) and not dir_ == d:\n",
    "            fs_sat[d] += size"
   ]
  },
  {
   "cell_type": "code",
   "execution_count": 4,
   "metadata": {
    "execution": {
     "iopub.execute_input": "2022-12-07T17:58:11.909039Z",
     "iopub.status.busy": "2022-12-07T17:58:11.908869Z",
     "iopub.status.idle": "2022-12-07T17:58:11.919995Z",
     "shell.execute_reply": "2022-12-07T17:58:11.919525Z",
     "shell.execute_reply.started": "2022-12-07T17:58:11.909021Z"
    },
    "tags": []
   },
   "outputs": [
    {
     "data": {
      "text/plain": [
       "1390824"
      ]
     },
     "execution_count": 4,
     "metadata": {},
     "output_type": "execute_result"
    }
   ],
   "source": [
    "tot_size = np.array(list(fs_sat.values()))\n",
    "tot_size[tot_size <= 100000].sum()"
   ]
  },
  {
   "cell_type": "markdown",
   "metadata": {},
   "source": [
    "# Part 2"
   ]
  },
  {
   "cell_type": "code",
   "execution_count": 5,
   "metadata": {
    "execution": {
     "iopub.execute_input": "2022-12-07T17:58:11.920828Z",
     "iopub.status.busy": "2022-12-07T17:58:11.920679Z",
     "iopub.status.idle": "2022-12-07T17:58:11.925577Z",
     "shell.execute_reply": "2022-12-07T17:58:11.924710Z",
     "shell.execute_reply.started": "2022-12-07T17:58:11.920810Z"
    },
    "tags": []
   },
   "outputs": [],
   "source": [
    "target = fs_sat[''] - 40000000"
   ]
  },
  {
   "cell_type": "code",
   "execution_count": 6,
   "metadata": {
    "execution": {
     "iopub.execute_input": "2022-12-07T17:58:11.926917Z",
     "iopub.status.busy": "2022-12-07T17:58:11.926665Z",
     "iopub.status.idle": "2022-12-07T17:58:11.933566Z",
     "shell.execute_reply": "2022-12-07T17:58:11.932158Z",
     "shell.execute_reply.started": "2022-12-07T17:58:11.926887Z"
    },
    "tags": []
   },
   "outputs": [
    {
     "data": {
      "text/plain": [
       "7490863"
      ]
     },
     "execution_count": 6,
     "metadata": {},
     "output_type": "execute_result"
    }
   ],
   "source": [
    "np.sort(tot_size[tot_size >= target])[0]"
   ]
  },
  {
   "cell_type": "code",
   "execution_count": null,
   "metadata": {},
   "outputs": [],
   "source": []
  }
 ],
 "metadata": {
  "kernelspec": {
   "display_name": "Python 3",
   "language": "python",
   "name": "python3"
  },
  "language_info": {
   "codemirror_mode": {
    "name": "ipython",
    "version": 3
   },
   "file_extension": ".py",
   "mimetype": "text/x-python",
   "name": "python",
   "nbconvert_exporter": "python",
   "pygments_lexer": "ipython3",
   "version": "3.8.5"
  }
 },
 "nbformat": 4,
 "nbformat_minor": 4
}
