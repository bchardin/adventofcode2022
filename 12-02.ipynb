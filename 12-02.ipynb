{
 "cells": [
  {
   "cell_type": "code",
   "execution_count": 1,
   "id": "b82b55b9-fa3c-470f-aafc-3fde75e56e3b",
   "metadata": {
    "execution": {
     "iopub.execute_input": "2022-12-14T13:27:04.599517Z",
     "iopub.status.busy": "2022-12-14T13:27:04.599006Z",
     "iopub.status.idle": "2022-12-14T13:27:04.832470Z",
     "shell.execute_reply": "2022-12-14T13:27:04.831970Z",
     "shell.execute_reply.started": "2022-12-14T13:27:04.599378Z"
    }
   },
   "outputs": [],
   "source": [
    "import pandas as pd"
   ]
  },
  {
   "cell_type": "markdown",
   "id": "40717b0e-53e8-46be-a1ab-5430eb04fc16",
   "metadata": {},
   "source": [
    "# Part 1"
   ]
  },
  {
   "cell_type": "code",
   "execution_count": 2,
   "id": "9e3ca4b5-4e5e-4e8d-ae76-fa2a13666b4e",
   "metadata": {
    "execution": {
     "iopub.execute_input": "2022-12-14T13:27:04.833467Z",
     "iopub.status.busy": "2022-12-14T13:27:04.833317Z",
     "iopub.status.idle": "2022-12-14T13:27:04.841558Z",
     "shell.execute_reply": "2022-12-14T13:27:04.840876Z",
     "shell.execute_reply.started": "2022-12-14T13:27:04.833449Z"
    }
   },
   "outputs": [],
   "source": [
    "filename = \"inputs/12-02.txt\"\n",
    "df = pd.read_csv(filename, sep=\" \", names=[\"op\", \"me\"])\n",
    "df = df.replace({\n",
    "    \"A\": \"Rock\",\n",
    "    \"X\": \"Rock\",\n",
    "    \"B\": \"Paper\",\n",
    "    \"Y\": \"Paper\",\n",
    "    \"C\": \"Scissors\",\n",
    "    \"Z\": \"Scissors\",\n",
    "})"
   ]
  },
  {
   "cell_type": "code",
   "execution_count": 3,
   "id": "721e3081-47b9-4913-adb7-2f2c6981e730",
   "metadata": {
    "execution": {
     "iopub.execute_input": "2022-12-14T13:27:04.842906Z",
     "iopub.status.busy": "2022-12-14T13:27:04.842676Z",
     "iopub.status.idle": "2022-12-14T13:27:04.847071Z",
     "shell.execute_reply": "2022-12-14T13:27:04.846151Z",
     "shell.execute_reply.started": "2022-12-14T13:27:04.842880Z"
    }
   },
   "outputs": [],
   "source": [
    "def result(other, me):\n",
    "    order = [\"Rock\", \"Paper\", \"Scissors\"]\n",
    "    if other == me:\n",
    "        return \"Draw\"\n",
    "    elif order[order.index(me)-1] == other:\n",
    "        return \"Win\"\n",
    "    else:\n",
    "        return \"Loss\""
   ]
  },
  {
   "cell_type": "code",
   "execution_count": 4,
   "id": "34d939f9-4310-4be2-9990-36bd949ee967",
   "metadata": {
    "execution": {
     "iopub.execute_input": "2022-12-14T13:27:04.848176Z",
     "iopub.status.busy": "2022-12-14T13:27:04.847989Z",
     "iopub.status.idle": "2022-12-14T13:27:04.878887Z",
     "shell.execute_reply": "2022-12-14T13:27:04.878329Z",
     "shell.execute_reply.started": "2022-12-14T13:27:04.848155Z"
    }
   },
   "outputs": [],
   "source": [
    "df[\"result\"] = df.apply(lambda row: result(row[\"op\"], row[\"me\"]), axis=1)"
   ]
  },
  {
   "cell_type": "code",
   "execution_count": 5,
   "id": "e3e6ba00-3f6d-4a8c-a161-9e461592bf99",
   "metadata": {
    "execution": {
     "iopub.execute_input": "2022-12-14T13:27:04.879788Z",
     "iopub.status.busy": "2022-12-14T13:27:04.879638Z",
     "iopub.status.idle": "2022-12-14T13:27:04.884481Z",
     "shell.execute_reply": "2022-12-14T13:27:04.884054Z",
     "shell.execute_reply.started": "2022-12-14T13:27:04.879771Z"
    }
   },
   "outputs": [],
   "source": [
    "def points(me, result):\n",
    "    selected = {\n",
    "        \"Rock\": 1,\n",
    "        \"Paper\": 2,\n",
    "        \"Scissors\": 3,\n",
    "    }\n",
    "    outcome = {\n",
    "        \"Loss\": 0,\n",
    "        \"Draw\": 3,\n",
    "        \"Win\": 6,\n",
    "    }\n",
    "    return selected[me] + outcome[result]"
   ]
  },
  {
   "cell_type": "code",
   "execution_count": 6,
   "id": "47a35e5e-8f22-4c21-9482-2c0155e75525",
   "metadata": {
    "execution": {
     "iopub.execute_input": "2022-12-14T13:27:04.885274Z",
     "iopub.status.busy": "2022-12-14T13:27:04.885126Z",
     "iopub.status.idle": "2022-12-14T13:27:04.921525Z",
     "shell.execute_reply": "2022-12-14T13:27:04.921032Z",
     "shell.execute_reply.started": "2022-12-14T13:27:04.885257Z"
    }
   },
   "outputs": [],
   "source": [
    "df[\"points\"] = df.apply(lambda row: points(row[\"me\"], row[\"result\"]), axis=1)"
   ]
  },
  {
   "cell_type": "code",
   "execution_count": 7,
   "id": "cd6cbb3d-4fc0-420e-b470-5cbcc98db7bf",
   "metadata": {
    "execution": {
     "iopub.execute_input": "2022-12-14T13:27:04.923045Z",
     "iopub.status.busy": "2022-12-14T13:27:04.922786Z",
     "iopub.status.idle": "2022-12-14T13:27:04.927385Z",
     "shell.execute_reply": "2022-12-14T13:27:04.926782Z",
     "shell.execute_reply.started": "2022-12-14T13:27:04.923014Z"
    }
   },
   "outputs": [
    {
     "name": "stdout",
     "output_type": "stream",
     "text": [
      "Total score with the first strategy is: 13005\n"
     ]
    }
   ],
   "source": [
    "print(f'Total score with the first strategy is: {df[\"points\"].sum()}')"
   ]
  },
  {
   "cell_type": "markdown",
   "id": "0373774a-b6f7-4156-ad64-dbc8d24e4ee0",
   "metadata": {},
   "source": [
    "# Part 2"
   ]
  },
  {
   "cell_type": "code",
   "execution_count": 8,
   "id": "33b91c60-97e9-40ee-91ab-e6c09b329af8",
   "metadata": {
    "execution": {
     "iopub.execute_input": "2022-12-14T13:27:04.928380Z",
     "iopub.status.busy": "2022-12-14T13:27:04.928227Z",
     "iopub.status.idle": "2022-12-14T13:27:04.939175Z",
     "shell.execute_reply": "2022-12-14T13:27:04.938483Z",
     "shell.execute_reply.started": "2022-12-14T13:27:04.928363Z"
    }
   },
   "outputs": [],
   "source": [
    "df = pd.read_csv(filename, sep=\" \", names=[\"op\", \"result\"])"
   ]
  },
  {
   "cell_type": "code",
   "execution_count": 9,
   "id": "f97f5eac-c573-43af-9392-298820559da0",
   "metadata": {
    "execution": {
     "iopub.execute_input": "2022-12-14T13:27:04.941014Z",
     "iopub.status.busy": "2022-12-14T13:27:04.940533Z",
     "iopub.status.idle": "2022-12-14T13:27:04.953222Z",
     "shell.execute_reply": "2022-12-14T13:27:04.952249Z",
     "shell.execute_reply.started": "2022-12-14T13:27:04.940975Z"
    }
   },
   "outputs": [],
   "source": [
    "df = df.replace({\n",
    "    \"A\": \"Rock\",\n",
    "    \"X\": \"Loss\",\n",
    "    \"B\": \"Paper\",\n",
    "    \"Y\": \"Draw\",\n",
    "    \"C\": \"Scissors\",\n",
    "    \"Z\": \"Win\",\n",
    "})"
   ]
  },
  {
   "cell_type": "code",
   "execution_count": 10,
   "id": "7f89bcf5-f5b2-4c10-a600-b293da42f767",
   "metadata": {
    "execution": {
     "iopub.execute_input": "2022-12-14T13:27:04.954690Z",
     "iopub.status.busy": "2022-12-14T13:27:04.954400Z",
     "iopub.status.idle": "2022-12-14T13:27:04.959643Z",
     "shell.execute_reply": "2022-12-14T13:27:04.958719Z",
     "shell.execute_reply.started": "2022-12-14T13:27:04.954659Z"
    }
   },
   "outputs": [],
   "source": [
    "def choice(op, result):\n",
    "    order = [\"Rock\", \"Paper\", \"Scissors\"]\n",
    "    pos = order.index(op)\n",
    "    if result == \"Win\":\n",
    "        pos += 1\n",
    "    elif result == \"Loss\":\n",
    "        pos -= 1\n",
    "    pos = pos % len(order)\n",
    "    return order[pos]"
   ]
  },
  {
   "cell_type": "code",
   "execution_count": 11,
   "id": "5e25bb89-c28c-41b8-9722-f9445252785b",
   "metadata": {
    "execution": {
     "iopub.execute_input": "2022-12-14T13:27:04.961859Z",
     "iopub.status.busy": "2022-12-14T13:27:04.961427Z",
     "iopub.status.idle": "2022-12-14T13:27:05.001043Z",
     "shell.execute_reply": "2022-12-14T13:27:05.000342Z",
     "shell.execute_reply.started": "2022-12-14T13:27:04.961808Z"
    }
   },
   "outputs": [],
   "source": [
    "df[\"me\"] = df.apply(lambda row: choice(row[\"op\"], row[\"result\"]), axis=1) "
   ]
  },
  {
   "cell_type": "code",
   "execution_count": 12,
   "id": "02ece74a-4ba6-4c4c-8ba0-bf824a69d6c7",
   "metadata": {
    "execution": {
     "iopub.execute_input": "2022-12-14T13:27:05.002146Z",
     "iopub.status.busy": "2022-12-14T13:27:05.001919Z",
     "iopub.status.idle": "2022-12-14T13:27:05.033250Z",
     "shell.execute_reply": "2022-12-14T13:27:05.032200Z",
     "shell.execute_reply.started": "2022-12-14T13:27:05.002115Z"
    }
   },
   "outputs": [],
   "source": [
    "df[\"points\"] = df.apply(lambda row: points(row[\"me\"], row[\"result\"]), axis=1)"
   ]
  },
  {
   "cell_type": "code",
   "execution_count": 13,
   "id": "5bb49856-86ce-4371-a25e-3f19ebb5a055",
   "metadata": {
    "execution": {
     "iopub.execute_input": "2022-12-14T13:27:05.034899Z",
     "iopub.status.busy": "2022-12-14T13:27:05.034540Z",
     "iopub.status.idle": "2022-12-14T13:27:05.040940Z",
     "shell.execute_reply": "2022-12-14T13:27:05.039897Z",
     "shell.execute_reply.started": "2022-12-14T13:27:05.034867Z"
    }
   },
   "outputs": [
    {
     "name": "stdout",
     "output_type": "stream",
     "text": [
      "Total score with the second strategy is: 11373\n"
     ]
    }
   ],
   "source": [
    "print(f'Total score with the second strategy is: {df[\"points\"].sum()}')"
   ]
  },
  {
   "cell_type": "code",
   "execution_count": null,
   "id": "86d63331-ee5e-491d-ac79-b0775ff79e70",
   "metadata": {},
   "outputs": [],
   "source": []
  }
 ],
 "metadata": {
  "kernelspec": {
   "display_name": "Python 3",
   "language": "python",
   "name": "python3"
  },
  "language_info": {
   "codemirror_mode": {
    "name": "ipython",
    "version": 3
   },
   "file_extension": ".py",
   "mimetype": "text/x-python",
   "name": "python",
   "nbconvert_exporter": "python",
   "pygments_lexer": "ipython3",
   "version": "3.8.5"
  }
 },
 "nbformat": 4,
 "nbformat_minor": 5
}
