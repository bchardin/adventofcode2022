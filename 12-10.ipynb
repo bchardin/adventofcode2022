{
 "cells": [
  {
   "cell_type": "markdown",
   "id": "6bcd3c0b-b74d-4596-870a-3ebc30faa8f6",
   "metadata": {},
   "source": [
    "# Part 1"
   ]
  },
  {
   "cell_type": "code",
   "execution_count": 1,
   "id": "d63248be-aa95-419f-bab9-b6ff57daf8ac",
   "metadata": {
    "execution": {
     "iopub.execute_input": "2022-12-14T13:37:05.527201Z",
     "iopub.status.busy": "2022-12-14T13:37:05.526798Z",
     "iopub.status.idle": "2022-12-14T13:37:05.532905Z",
     "shell.execute_reply": "2022-12-14T13:37:05.531533Z",
     "shell.execute_reply.started": "2022-12-14T13:37:05.527094Z"
    }
   },
   "outputs": [],
   "source": [
    "import re"
   ]
  },
  {
   "cell_type": "code",
   "execution_count": 2,
   "id": "8ae69f37-4cd1-4c1b-8315-490997458949",
   "metadata": {
    "execution": {
     "iopub.execute_input": "2022-12-14T13:37:05.535024Z",
     "iopub.status.busy": "2022-12-14T13:37:05.534491Z",
     "iopub.status.idle": "2022-12-14T13:37:05.540609Z",
     "shell.execute_reply": "2022-12-14T13:37:05.539083Z",
     "shell.execute_reply.started": "2022-12-14T13:37:05.534985Z"
    },
    "tags": []
   },
   "outputs": [],
   "source": [
    "filename = \"inputs/12-10.txt\"\n",
    "with open(filename, \"r\") as f:\n",
    "    data = f.read()"
   ]
  },
  {
   "cell_type": "code",
   "execution_count": 3,
   "id": "6209ea03-f1df-48a9-bf0d-cc8e37020d1d",
   "metadata": {
    "execution": {
     "iopub.execute_input": "2022-12-14T13:37:05.544237Z",
     "iopub.status.busy": "2022-12-14T13:37:05.543693Z",
     "iopub.status.idle": "2022-12-14T13:37:05.554807Z",
     "shell.execute_reply": "2022-12-14T13:37:05.553985Z",
     "shell.execute_reply.started": "2022-12-14T13:37:05.544188Z"
    }
   },
   "outputs": [],
   "source": [
    "def cycle_increment(state, incr=1):\n",
    "    if incr > 40:\n",
    "        raise NotImplementedError(\"Large increments are currently not supported.\")\n",
    "    for i in range(incr):\n",
    "        x_pos = (state[\"cycle\"] + i) % 40\n",
    "        if abs(x_pos - state[\"x\"]) <= 1:\n",
    "            state[\"screen\"][state[\"cycle\"] + i] = \"#\"\n",
    "        else:\n",
    "            state[\"screen\"][state[\"cycle\"] + i] = \".\"\n",
    "    if (state[\"cycle\"] % 40) < 20 <= (state[\"cycle\"] % 40) + incr:\n",
    "        state[\"strength\"] += state[\"x\"] * ((state[\"cycle\"] + incr - 20) // 40 * 40 + 20)\n",
    "    state[\"cycle\"] += incr\n",
    "    return state"
   ]
  },
  {
   "cell_type": "code",
   "execution_count": 4,
   "id": "8f05a62a-fcdc-4966-a822-7f26c60a88a9",
   "metadata": {
    "execution": {
     "iopub.execute_input": "2022-12-14T13:37:05.556265Z",
     "iopub.status.busy": "2022-12-14T13:37:05.556005Z",
     "iopub.status.idle": "2022-12-14T13:37:05.566292Z",
     "shell.execute_reply": "2022-12-14T13:37:05.565235Z",
     "shell.execute_reply.started": "2022-12-14T13:37:05.556235Z"
    }
   },
   "outputs": [
    {
     "name": "stdout",
     "output_type": "stream",
     "text": [
      "Total signal strength is 16020\n"
     ]
    }
   ],
   "source": [
    "state = {\n",
    "    \"cycle\": 0,\n",
    "    \"x\": 1,\n",
    "    \"strength\": 0,\n",
    "    \"screen\": [\"?\"] * 40 * 6,\n",
    "}\n",
    "\n",
    "for l in data.splitlines():\n",
    "    if re.match(\"noop\", l):\n",
    "        state = cycle_increment(state)\n",
    "    elif m := re.match(\"addx (-?\\d+)\", l):\n",
    "        state = cycle_increment(state, 2)\n",
    "        x_incr = int(m.group(1))\n",
    "        state[\"x\"] += x_incr\n",
    "    else:\n",
    "        raise ValueError(f\"Unknow operation: '{l}'\")\n",
    "\n",
    "print(f\"Total signal strength is {state['strength']}\")"
   ]
  },
  {
   "cell_type": "markdown",
   "id": "749b5d82-7571-4025-af39-5783fe52172a",
   "metadata": {},
   "source": [
    "# Part 2"
   ]
  },
  {
   "cell_type": "code",
   "execution_count": 5,
   "id": "3e7b59ee-dd86-43f3-b522-065aa8f8bceb",
   "metadata": {
    "execution": {
     "iopub.execute_input": "2022-12-14T13:37:05.567753Z",
     "iopub.status.busy": "2022-12-14T13:37:05.567526Z",
     "iopub.status.idle": "2022-12-14T13:37:05.572726Z",
     "shell.execute_reply": "2022-12-14T13:37:05.571902Z",
     "shell.execute_reply.started": "2022-12-14T13:37:05.567727Z"
    }
   },
   "outputs": [
    {
     "name": "stdout",
     "output_type": "stream",
     "text": [
      "####..##..####.#..#.####..##..#....###..\n",
      "#....#..#....#.#..#....#.#..#.#....#..#.\n",
      "###..#......#..#..#...#..#..#.#....#..#.\n",
      "#....#.....#...#..#..#...####.#....###..\n",
      "#....#..#.#....#..#.#....#..#.#....#.#..\n",
      "####..##..####..##..####.#..#.####.#..#.\n"
     ]
    }
   ],
   "source": [
    "print(\"\\n\".join([\"\".join(state[\"screen\"][line*40:(line+1)*40]) for line in range(6)]))"
   ]
  },
  {
   "cell_type": "code",
   "execution_count": null,
   "id": "d9cf189e-8cf0-46de-91ee-6c32677ee5e2",
   "metadata": {},
   "outputs": [],
   "source": []
  }
 ],
 "metadata": {
  "kernelspec": {
   "display_name": "Python 3",
   "language": "python",
   "name": "python3"
  },
  "language_info": {
   "codemirror_mode": {
    "name": "ipython",
    "version": 3
   },
   "file_extension": ".py",
   "mimetype": "text/x-python",
   "name": "python",
   "nbconvert_exporter": "python",
   "pygments_lexer": "ipython3",
   "version": "3.8.5"
  }
 },
 "nbformat": 4,
 "nbformat_minor": 5
}
