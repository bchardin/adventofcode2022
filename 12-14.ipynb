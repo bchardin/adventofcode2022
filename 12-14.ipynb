{
 "cells": [
  {
   "cell_type": "markdown",
   "metadata": {},
   "source": [
    "# Part 1"
   ]
  },
  {
   "cell_type": "code",
   "execution_count": 1,
   "metadata": {
    "execution": {
     "iopub.execute_input": "2022-12-14T13:39:20.358178Z",
     "iopub.status.busy": "2022-12-14T13:39:20.357483Z",
     "iopub.status.idle": "2022-12-14T13:39:20.364215Z",
     "shell.execute_reply": "2022-12-14T13:39:20.362988Z",
     "shell.execute_reply.started": "2022-12-14T13:39:20.358001Z"
    },
    "tags": []
   },
   "outputs": [],
   "source": [
    "filename = \"inputs/12-14.txt\"\n",
    "with open(filename, \"r\") as f:\n",
    "    data = f.read()"
   ]
  },
  {
   "cell_type": "code",
   "execution_count": 2,
   "metadata": {
    "execution": {
     "iopub.execute_input": "2022-12-14T13:39:20.919341Z",
     "iopub.status.busy": "2022-12-14T13:39:20.918990Z",
     "iopub.status.idle": "2022-12-14T13:39:20.937614Z",
     "shell.execute_reply": "2022-12-14T13:39:20.936646Z",
     "shell.execute_reply.started": "2022-12-14T13:39:20.919305Z"
    },
    "tags": []
   },
   "outputs": [],
   "source": [
    "lines = []\n",
    "xmax = 500\n",
    "xmin = 500\n",
    "ymax = 0\n",
    "ymin = 0\n",
    "for line in (data.splitlines()):\n",
    "    prev = None\n",
    "    for part in line.split(\"->\"):\n",
    "        x, y = part.split(\",\")\n",
    "        x, y = int(x), int(y)\n",
    "        xmax = max(xmax, x)\n",
    "        xmin = min(xmin, x)\n",
    "        ymax = max(ymax, y)\n",
    "        ymin = min(ymin, y)\n",
    "        if prev is not None:\n",
    "            lines.append((prev, (x, y)))\n",
    "        prev = (x, y)\n",
    "xmin -= 1\n",
    "xmax += 1\n",
    "ymax += 1"
   ]
  },
  {
   "cell_type": "code",
   "execution_count": 3,
   "metadata": {
    "execution": {
     "iopub.execute_input": "2022-12-14T13:39:21.351385Z",
     "iopub.status.busy": "2022-12-14T13:39:21.350823Z",
     "iopub.status.idle": "2022-12-14T13:39:21.356921Z",
     "shell.execute_reply": "2022-12-14T13:39:21.355947Z",
     "shell.execute_reply.started": "2022-12-14T13:39:21.351318Z"
    },
    "tags": []
   },
   "outputs": [],
   "source": [
    "from collections import defaultdict"
   ]
  },
  {
   "cell_type": "code",
   "execution_count": 4,
   "metadata": {
    "execution": {
     "iopub.execute_input": "2022-12-14T13:39:21.670736Z",
     "iopub.status.busy": "2022-12-14T13:39:21.670367Z",
     "iopub.status.idle": "2022-12-14T13:39:21.686225Z",
     "shell.execute_reply": "2022-12-14T13:39:21.685339Z",
     "shell.execute_reply.started": "2022-12-14T13:39:21.670697Z"
    },
    "tags": []
   },
   "outputs": [],
   "source": [
    "cave = defaultdict(lambda: 0)\n",
    "\n",
    "for (x1, y1), (x2, y2) in lines:\n",
    "    if x1 == x2:\n",
    "        for y in range(min(y1, y2), max(y1, y2) + 1):\n",
    "            cave[x1, y] = 1\n",
    "    else:\n",
    "        assert y1 == y2\n",
    "        for x in range(min(x1, x2), max(x1, x2) + 1):\n",
    "            cave[x, y1] = 1\n",
    "\n",
    "empty_cave = cave"
   ]
  },
  {
   "cell_type": "code",
   "execution_count": 5,
   "metadata": {
    "execution": {
     "iopub.execute_input": "2022-12-14T13:39:22.143653Z",
     "iopub.status.busy": "2022-12-14T13:39:22.143299Z",
     "iopub.status.idle": "2022-12-14T13:39:22.151941Z",
     "shell.execute_reply": "2022-12-14T13:39:22.151081Z",
     "shell.execute_reply.started": "2022-12-14T13:39:22.143616Z"
    },
    "tags": []
   },
   "outputs": [],
   "source": [
    "def drop_sand(cave, from_=(500, 0), ymax=ymax, floor=False):\n",
    "    \"\"\" returns False if sand overflowed or did not flow, True otherwise\"\"\"\n",
    "    x, y = from_\n",
    "    if cave[x, y] != 0:\n",
    "        return False\n",
    "    while y < ymax:\n",
    "        blocked = True\n",
    "        for dx, dy in [(0, 1), (-1, 1), (1, 1)]:\n",
    "            if cave[x+dx, y+dy] == 0:\n",
    "                blocked = False\n",
    "                x += dx\n",
    "                y += dy\n",
    "                break\n",
    "        if blocked:\n",
    "            cave[x, y] = 2\n",
    "            return True\n",
    "    if floor:\n",
    "        cave[x, y] = 2\n",
    "        return True\n",
    "    return False"
   ]
  },
  {
   "cell_type": "code",
   "execution_count": 6,
   "metadata": {
    "execution": {
     "iopub.execute_input": "2022-12-14T13:39:22.697130Z",
     "iopub.status.busy": "2022-12-14T13:39:22.696769Z",
     "iopub.status.idle": "2022-12-14T13:39:22.752296Z",
     "shell.execute_reply": "2022-12-14T13:39:22.751600Z",
     "shell.execute_reply.started": "2022-12-14T13:39:22.697092Z"
    },
    "tags": []
   },
   "outputs": [
    {
     "data": {
      "text/plain": [
       "964"
      ]
     },
     "execution_count": 6,
     "metadata": {},
     "output_type": "execute_result"
    }
   ],
   "source": [
    "cave = empty_cave.copy()\n",
    "sand = 0\n",
    "while drop_sand(cave):\n",
    "    sand += 1\n",
    "sand"
   ]
  },
  {
   "cell_type": "markdown",
   "metadata": {},
   "source": [
    "# Part 2"
   ]
  },
  {
   "cell_type": "code",
   "execution_count": 7,
   "metadata": {
    "execution": {
     "iopub.execute_input": "2022-12-14T13:39:23.609028Z",
     "iopub.status.busy": "2022-12-14T13:39:23.608690Z",
     "iopub.status.idle": "2022-12-14T13:39:25.185009Z",
     "shell.execute_reply": "2022-12-14T13:39:25.184619Z",
     "shell.execute_reply.started": "2022-12-14T13:39:23.608992Z"
    },
    "tags": []
   },
   "outputs": [
    {
     "data": {
      "text/plain": [
       "32041"
      ]
     },
     "execution_count": 7,
     "metadata": {},
     "output_type": "execute_result"
    }
   ],
   "source": [
    "cave = empty_cave.copy()\n",
    "sand = 0\n",
    "while drop_sand(cave, floor=True):\n",
    "    sand += 1\n",
    "sand"
   ]
  },
  {
   "cell_type": "markdown",
   "metadata": {},
   "source": [
    "# Misc"
   ]
  },
  {
   "cell_type": "code",
   "execution_count": null,
   "metadata": {
    "tags": []
   },
   "outputs": [],
   "source": [
    "def display(cave):\n",
    "    xmin, ymin = [min(l) for l in zip(*cave.keys())]\n",
    "    xmax, ymax = [max(l) for l in zip(*cave.keys())]\n",
    "    DISP = {\n",
    "        0: \".\",\n",
    "        1: \"#\",\n",
    "        2: \"o\",\n",
    "    }\n",
    "    for y in range(ymin, ymax + 1):\n",
    "        print(\"\".join([DISP[cave[x, y]] for x in range(xmin, xmax + 1)]))"
   ]
  },
  {
   "cell_type": "code",
   "execution_count": null,
   "metadata": {},
   "outputs": [],
   "source": []
  }
 ],
 "metadata": {
  "kernelspec": {
   "display_name": "Python 3",
   "language": "python",
   "name": "python3"
  },
  "language_info": {
   "codemirror_mode": {
    "name": "ipython",
    "version": 3
   },
   "file_extension": ".py",
   "mimetype": "text/x-python",
   "name": "python",
   "nbconvert_exporter": "python",
   "pygments_lexer": "ipython3",
   "version": "3.8.5"
  }
 },
 "nbformat": 4,
 "nbformat_minor": 4
}
