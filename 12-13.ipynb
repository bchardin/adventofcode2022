{
 "cells": [
  {
   "cell_type": "markdown",
   "metadata": {},
   "source": [
    "# Part 1"
   ]
  },
  {
   "cell_type": "code",
   "execution_count": 1,
   "metadata": {
    "execution": {
     "iopub.execute_input": "2022-12-14T13:38:41.963804Z",
     "iopub.status.busy": "2022-12-14T13:38:41.963647Z",
     "iopub.status.idle": "2022-12-14T13:38:41.967002Z",
     "shell.execute_reply": "2022-12-14T13:38:41.966463Z",
     "shell.execute_reply.started": "2022-12-14T13:38:41.963763Z"
    },
    "tags": []
   },
   "outputs": [],
   "source": [
    "filename = \"inputs/12-13.txt\"\n",
    "with open(filename, \"r\") as f:\n",
    "    data = f.read()"
   ]
  },
  {
   "cell_type": "code",
   "execution_count": 2,
   "metadata": {
    "execution": {
     "iopub.execute_input": "2022-12-14T13:38:41.968103Z",
     "iopub.status.busy": "2022-12-14T13:38:41.967937Z",
     "iopub.status.idle": "2022-12-14T13:38:41.993755Z",
     "shell.execute_reply": "2022-12-14T13:38:41.993184Z",
     "shell.execute_reply.started": "2022-12-14T13:38:41.968083Z"
    },
    "tags": []
   },
   "outputs": [],
   "source": [
    "import pyparsing as pp"
   ]
  },
  {
   "cell_type": "code",
   "execution_count": 3,
   "metadata": {
    "execution": {
     "iopub.execute_input": "2022-12-14T13:38:41.994630Z",
     "iopub.status.busy": "2022-12-14T13:38:41.994471Z",
     "iopub.status.idle": "2022-12-14T13:38:42.002500Z",
     "shell.execute_reply": "2022-12-14T13:38:42.002057Z",
     "shell.execute_reply.started": "2022-12-14T13:38:41.994613Z"
    },
    "tags": []
   },
   "outputs": [],
   "source": [
    "%%capture\n",
    "list_ = pp.Forward()\n",
    "lbracket = pp.Suppress(pp.Literal(\"[\"))\n",
    "rbracket = pp.Suppress(pp.Literal(\"]\"))\n",
    "list_ << pp.Group(lbracket + pp.Opt(pp.delimited_list(pp.common.integer | list_)) + rbracket)"
   ]
  },
  {
   "cell_type": "code",
   "execution_count": 4,
   "metadata": {
    "execution": {
     "iopub.execute_input": "2022-12-14T13:38:42.003412Z",
     "iopub.status.busy": "2022-12-14T13:38:42.003271Z",
     "iopub.status.idle": "2022-12-14T13:38:42.008722Z",
     "shell.execute_reply": "2022-12-14T13:38:42.008262Z",
     "shell.execute_reply.started": "2022-12-14T13:38:42.003396Z"
    },
    "tags": []
   },
   "outputs": [],
   "source": [
    "def comp(left, right):\n",
    "    if isinstance(left, int) and isinstance(right, int):\n",
    "        return left - right\n",
    "    if isinstance(left, int):\n",
    "        left = [left]\n",
    "    if isinstance(right, int):\n",
    "        right = [right]\n",
    "    for l, r in zip(left, right):\n",
    "        if (c := comp(l, r)) != 0:\n",
    "            return c\n",
    "    return len(left) - len(right)"
   ]
  },
  {
   "cell_type": "code",
   "execution_count": 5,
   "metadata": {
    "execution": {
     "iopub.execute_input": "2022-12-14T13:38:42.009850Z",
     "iopub.status.busy": "2022-12-14T13:38:42.009639Z",
     "iopub.status.idle": "2022-12-14T13:38:42.319563Z",
     "shell.execute_reply": "2022-12-14T13:38:42.319150Z",
     "shell.execute_reply.started": "2022-12-14T13:38:42.009826Z"
    },
    "tags": []
   },
   "outputs": [
    {
     "data": {
      "text/plain": [
       "5366"
      ]
     },
     "execution_count": 5,
     "metadata": {},
     "output_type": "execute_result"
    }
   ],
   "source": [
    "sum_ = 0\n",
    "for idx, pair in enumerate(data.split(\"\\n\\n\")):\n",
    "    for left, right in [[list_.parse_string(expr).as_list()[0] for expr in pair.strip().split(\"\\n\")]]:\n",
    "        c = comp(left, right)\n",
    "        assert comp != 0\n",
    "        if comp(left, right) < 0:\n",
    "            sum_ += idx + 1\n",
    "sum_"
   ]
  },
  {
   "cell_type": "markdown",
   "metadata": {},
   "source": [
    "# Part 2"
   ]
  },
  {
   "cell_type": "code",
   "execution_count": 6,
   "metadata": {
    "execution": {
     "iopub.execute_input": "2022-12-14T13:38:42.320950Z",
     "iopub.status.busy": "2022-12-14T13:38:42.320805Z",
     "iopub.status.idle": "2022-12-14T13:38:42.584552Z",
     "shell.execute_reply": "2022-12-14T13:38:42.583549Z",
     "shell.execute_reply.started": "2022-12-14T13:38:42.320932Z"
    },
    "tags": []
   },
   "outputs": [],
   "source": [
    "packets = []\n",
    "for expr in data.split(\"\\n\"):\n",
    "    if expr:\n",
    "        packets.append(list_.parse_string(expr).as_list()[0])\n",
    "div_packets = [[[2]], [[6]]]\n",
    "for p in div_packets:\n",
    "    packets.append(p)"
   ]
  },
  {
   "cell_type": "code",
   "execution_count": 7,
   "metadata": {
    "execution": {
     "iopub.execute_input": "2022-12-14T13:38:42.587798Z",
     "iopub.status.busy": "2022-12-14T13:38:42.587560Z",
     "iopub.status.idle": "2022-12-14T13:38:42.590710Z",
     "shell.execute_reply": "2022-12-14T13:38:42.590003Z",
     "shell.execute_reply.started": "2022-12-14T13:38:42.587771Z"
    },
    "tags": []
   },
   "outputs": [],
   "source": [
    "from functools import cmp_to_key"
   ]
  },
  {
   "cell_type": "code",
   "execution_count": 8,
   "metadata": {
    "execution": {
     "iopub.execute_input": "2022-12-14T13:38:42.591850Z",
     "iopub.status.busy": "2022-12-14T13:38:42.591648Z",
     "iopub.status.idle": "2022-12-14T13:38:42.599828Z",
     "shell.execute_reply": "2022-12-14T13:38:42.599390Z",
     "shell.execute_reply.started": "2022-12-14T13:38:42.591824Z"
    },
    "tags": []
   },
   "outputs": [],
   "source": [
    "sort = sorted(packets, key=cmp_to_key(comp))"
   ]
  },
  {
   "cell_type": "code",
   "execution_count": 9,
   "metadata": {
    "execution": {
     "iopub.execute_input": "2022-12-14T13:38:42.600803Z",
     "iopub.status.busy": "2022-12-14T13:38:42.600601Z",
     "iopub.status.idle": "2022-12-14T13:38:42.607971Z",
     "shell.execute_reply": "2022-12-14T13:38:42.607296Z",
     "shell.execute_reply.started": "2022-12-14T13:38:42.600777Z"
    },
    "tags": []
   },
   "outputs": [
    {
     "data": {
      "text/plain": [
       "23391"
      ]
     },
     "execution_count": 9,
     "metadata": {},
     "output_type": "execute_result"
    }
   ],
   "source": [
    "idx1, idx2 = (sort.index(p) + 1 for p in div_packets)\n",
    "idx1 * idx2"
   ]
  },
  {
   "cell_type": "raw",
   "metadata": {},
   "source": []
  }
 ],
 "metadata": {
  "kernelspec": {
   "display_name": "Python 3",
   "language": "python",
   "name": "python3"
  },
  "language_info": {
   "codemirror_mode": {
    "name": "ipython",
    "version": 3
   },
   "file_extension": ".py",
   "mimetype": "text/x-python",
   "name": "python",
   "nbconvert_exporter": "python",
   "pygments_lexer": "ipython3",
   "version": "3.8.5"
  }
 },
 "nbformat": 4,
 "nbformat_minor": 4
}
