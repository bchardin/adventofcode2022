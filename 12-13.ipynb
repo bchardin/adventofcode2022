{
 "cells": [
  {
   "cell_type": "markdown",
   "metadata": {},
   "source": [
    "# Part 1"
   ]
  },
  {
   "cell_type": "code",
   "execution_count": 1,
   "metadata": {
    "execution": {
     "iopub.execute_input": "2022-12-14T10:18:01.423377Z",
     "iopub.status.busy": "2022-12-14T10:18:01.422864Z",
     "iopub.status.idle": "2022-12-14T10:18:01.428936Z",
     "shell.execute_reply": "2022-12-14T10:18:01.428061Z",
     "shell.execute_reply.started": "2022-12-14T10:18:01.423250Z"
    },
    "tags": []
   },
   "outputs": [],
   "source": [
    "filename = \"12-13.txt\"\n",
    "with open(filename, \"r\") as f:\n",
    "    data = f.read()"
   ]
  },
  {
   "cell_type": "code",
   "execution_count": 2,
   "metadata": {
    "execution": {
     "iopub.execute_input": "2022-12-14T10:18:01.430604Z",
     "iopub.status.busy": "2022-12-14T10:18:01.430310Z",
     "iopub.status.idle": "2022-12-14T10:18:01.462002Z",
     "shell.execute_reply": "2022-12-14T10:18:01.461474Z",
     "shell.execute_reply.started": "2022-12-14T10:18:01.430562Z"
    },
    "tags": []
   },
   "outputs": [],
   "source": [
    "import pyparsing as pp"
   ]
  },
  {
   "cell_type": "code",
   "execution_count": 3,
   "metadata": {
    "execution": {
     "iopub.execute_input": "2022-12-14T10:18:01.462941Z",
     "iopub.status.busy": "2022-12-14T10:18:01.462786Z",
     "iopub.status.idle": "2022-12-14T10:18:01.474822Z",
     "shell.execute_reply": "2022-12-14T10:18:01.474257Z",
     "shell.execute_reply.started": "2022-12-14T10:18:01.462924Z"
    },
    "tags": []
   },
   "outputs": [
    {
     "data": {
      "text/plain": [
       "Forward: None"
      ]
     },
     "execution_count": 3,
     "metadata": {},
     "output_type": "execute_result"
    }
   ],
   "source": [
    "list_ = pp.Forward()\n",
    "lbracket = pp.Suppress(pp.Literal(\"[\"))\n",
    "rbracket = pp.Suppress(pp.Literal(\"]\"))\n",
    "list_ << pp.Group(lbracket + pp.Opt(pp.delimited_list(pp.common.integer | list_)) + rbracket)"
   ]
  },
  {
   "cell_type": "code",
   "execution_count": 4,
   "metadata": {
    "execution": {
     "iopub.execute_input": "2022-12-14T10:18:01.475833Z",
     "iopub.status.busy": "2022-12-14T10:18:01.475560Z",
     "iopub.status.idle": "2022-12-14T10:18:01.479922Z",
     "shell.execute_reply": "2022-12-14T10:18:01.479265Z",
     "shell.execute_reply.started": "2022-12-14T10:18:01.475813Z"
    },
    "tags": []
   },
   "outputs": [],
   "source": [
    "def comp(left, right):\n",
    "    if isinstance(left, int) and isinstance(right, int):\n",
    "        return left - right\n",
    "    if isinstance(left, int):\n",
    "        left = [left]\n",
    "    if isinstance(right, int):\n",
    "        right = [right]\n",
    "    for l, r in zip(left, right):\n",
    "        if (c := comp(l, r)) != 0:\n",
    "            return c\n",
    "    return len(left) - len(right)"
   ]
  },
  {
   "cell_type": "code",
   "execution_count": 5,
   "metadata": {
    "execution": {
     "iopub.execute_input": "2022-12-14T10:18:01.481395Z",
     "iopub.status.busy": "2022-12-14T10:18:01.481126Z",
     "iopub.status.idle": "2022-12-14T10:18:01.800593Z",
     "shell.execute_reply": "2022-12-14T10:18:01.799987Z",
     "shell.execute_reply.started": "2022-12-14T10:18:01.481360Z"
    },
    "tags": []
   },
   "outputs": [
    {
     "data": {
      "text/plain": [
       "5366"
      ]
     },
     "execution_count": 5,
     "metadata": {},
     "output_type": "execute_result"
    }
   ],
   "source": [
    "sum_ = 0\n",
    "for idx, pair in enumerate(data.split(\"\\n\\n\")):\n",
    "    for left, right in [[list_.parse_string(expr).as_list()[0] for expr in pair.strip().split(\"\\n\")]]:\n",
    "        c = comp(left, right)\n",
    "        assert comp != 0\n",
    "        if comp(left, right) < 0:\n",
    "            sum_ += idx + 1\n",
    "sum_"
   ]
  },
  {
   "cell_type": "markdown",
   "metadata": {},
   "source": [
    "# Part 2"
   ]
  },
  {
   "cell_type": "code",
   "execution_count": 6,
   "metadata": {
    "execution": {
     "iopub.execute_input": "2022-12-14T10:18:01.801444Z",
     "iopub.status.busy": "2022-12-14T10:18:01.801309Z",
     "iopub.status.idle": "2022-12-14T10:18:02.066415Z",
     "shell.execute_reply": "2022-12-14T10:18:02.065484Z",
     "shell.execute_reply.started": "2022-12-14T10:18:01.801428Z"
    },
    "tags": []
   },
   "outputs": [],
   "source": [
    "packets = []\n",
    "for expr in data.split(\"\\n\"):\n",
    "    if expr:\n",
    "        packets.append(list_.parse_string(expr).as_list()[0])\n",
    "div_packets = [[[2]], [[6]]]\n",
    "for p in div_packets:\n",
    "    packets.append(p)"
   ]
  },
  {
   "cell_type": "code",
   "execution_count": 7,
   "metadata": {
    "execution": {
     "iopub.execute_input": "2022-12-14T10:18:02.067790Z",
     "iopub.status.busy": "2022-12-14T10:18:02.067640Z",
     "iopub.status.idle": "2022-12-14T10:18:02.071362Z",
     "shell.execute_reply": "2022-12-14T10:18:02.070251Z",
     "shell.execute_reply.started": "2022-12-14T10:18:02.067774Z"
    },
    "tags": []
   },
   "outputs": [],
   "source": [
    "from functools import cmp_to_key"
   ]
  },
  {
   "cell_type": "code",
   "execution_count": 8,
   "metadata": {
    "execution": {
     "iopub.execute_input": "2022-12-14T10:18:02.073803Z",
     "iopub.status.busy": "2022-12-14T10:18:02.073364Z",
     "iopub.status.idle": "2022-12-14T10:18:02.091412Z",
     "shell.execute_reply": "2022-12-14T10:18:02.090345Z",
     "shell.execute_reply.started": "2022-12-14T10:18:02.073749Z"
    },
    "tags": []
   },
   "outputs": [],
   "source": [
    "sort = sorted(packets, key=cmp_to_key(comp))"
   ]
  },
  {
   "cell_type": "code",
   "execution_count": 9,
   "metadata": {
    "execution": {
     "iopub.execute_input": "2022-12-14T10:18:02.092609Z",
     "iopub.status.busy": "2022-12-14T10:18:02.092403Z",
     "iopub.status.idle": "2022-12-14T10:18:02.098341Z",
     "shell.execute_reply": "2022-12-14T10:18:02.097588Z",
     "shell.execute_reply.started": "2022-12-14T10:18:02.092574Z"
    },
    "tags": []
   },
   "outputs": [
    {
     "data": {
      "text/plain": [
       "23391"
      ]
     },
     "execution_count": 9,
     "metadata": {},
     "output_type": "execute_result"
    }
   ],
   "source": [
    "idx1, idx2 = (sort.index(p) + 1 for p in div_packets)\n",
    "idx1 * idx2"
   ]
  },
  {
   "cell_type": "raw",
   "metadata": {},
   "source": []
  }
 ],
 "metadata": {
  "kernelspec": {
   "display_name": "Python 3",
   "language": "python",
   "name": "python3"
  },
  "language_info": {
   "codemirror_mode": {
    "name": "ipython",
    "version": 3
   },
   "file_extension": ".py",
   "mimetype": "text/x-python",
   "name": "python",
   "nbconvert_exporter": "python",
   "pygments_lexer": "ipython3",
   "version": "3.8.5"
  }
 },
 "nbformat": 4,
 "nbformat_minor": 4
}
