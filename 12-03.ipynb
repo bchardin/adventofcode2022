{
 "cells": [
  {
   "cell_type": "markdown",
   "id": "8db09f0e-4af0-422b-a851-d1d249c12a84",
   "metadata": {},
   "source": [
    "# Part 1"
   ]
  },
  {
   "cell_type": "code",
   "execution_count": 1,
   "id": "43e041c2-03b5-4b77-bf6c-256f84e16323",
   "metadata": {},
   "outputs": [],
   "source": [
    "def priority(item):\n",
    "    if item.islower():\n",
    "        return ord(item) - ord('a') + 1\n",
    "    else:\n",
    "        return ord(item) - ord('A') + 27\n",
    "def priorities(items):\n",
    "    return sum([priority(item) for item in items])"
   ]
  },
  {
   "cell_type": "code",
   "execution_count": 2,
   "id": "66200a06-efaa-43a6-ba08-40ed8bfc4cd6",
   "metadata": {},
   "outputs": [],
   "source": [
    "with open(\"12-03.txt\", \"r\") as f:\n",
    "    packs = [(set(l[:len(l)//2]), set(l[len(l)//2:-1])) for l in f]"
   ]
  },
  {
   "cell_type": "code",
   "execution_count": 3,
   "id": "403a0cc7-7aeb-4320-9d24-66e79b070907",
   "metadata": {},
   "outputs": [
    {
     "data": {
      "text/plain": [
       "8018"
      ]
     },
     "execution_count": 3,
     "metadata": {},
     "output_type": "execute_result"
    }
   ],
   "source": [
    "sum(priorities(left & right) for left, right in packs)"
   ]
  },
  {
   "cell_type": "markdown",
   "id": "5cd52773-0191-491d-9be5-87c7bedc1cb8",
   "metadata": {},
   "source": [
    "# Part 2"
   ]
  },
  {
   "cell_type": "code",
   "execution_count": 4,
   "id": "4cf7b265-907c-47a0-bf49-56c93a3543cc",
   "metadata": {},
   "outputs": [],
   "source": [
    "import numpy as np"
   ]
  },
  {
   "cell_type": "code",
   "execution_count": 5,
   "id": "69b5ee74-400f-48a7-9d91-2444016b4547",
   "metadata": {},
   "outputs": [],
   "source": [
    "with open(\"12-03.txt\", \"r\") as f:\n",
    "    packs = np.array([set(l[:-1]) for l in f]).reshape((-1, 3))"
   ]
  },
  {
   "cell_type": "code",
   "execution_count": 6,
   "id": "9657ed76-a4c0-45b8-8990-9afbf7693779",
   "metadata": {},
   "outputs": [
    {
     "data": {
      "text/plain": [
       "2518"
      ]
     },
     "execution_count": 6,
     "metadata": {},
     "output_type": "execute_result"
    }
   ],
   "source": [
    "sum(priorities(set.intersection(*groups)) for groups in packs)"
   ]
  },
  {
   "cell_type": "code",
   "execution_count": null,
   "id": "689f8c58-a7a6-46c4-930a-3da4be3c4cf9",
   "metadata": {},
   "outputs": [],
   "source": []
  }
 ],
 "metadata": {
  "kernelspec": {
   "display_name": "Python 3 (ipykernel)",
   "language": "python",
   "name": "python3"
  },
  "language_info": {
   "codemirror_mode": {
    "name": "ipython",
    "version": 3
   },
   "file_extension": ".py",
   "mimetype": "text/x-python",
   "name": "python",
   "nbconvert_exporter": "python",
   "pygments_lexer": "ipython3",
   "version": "3.10.5"
  }
 },
 "nbformat": 4,
 "nbformat_minor": 5
}
