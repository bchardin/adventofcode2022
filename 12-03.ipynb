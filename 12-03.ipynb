{
 "cells": [
  {
   "cell_type": "markdown",
   "id": "8db09f0e-4af0-422b-a851-d1d249c12a84",
   "metadata": {},
   "source": [
    "# Part 1"
   ]
  },
  {
   "cell_type": "code",
   "execution_count": 1,
   "id": "b59e9d6f-b1d5-43fb-a188-164cae0681be",
   "metadata": {
    "execution": {
     "iopub.execute_input": "2022-12-14T13:29:53.501397Z",
     "iopub.status.busy": "2022-12-14T13:29:53.501034Z",
     "iopub.status.idle": "2022-12-14T13:29:53.506652Z",
     "shell.execute_reply": "2022-12-14T13:29:53.505909Z",
     "shell.execute_reply.started": "2022-12-14T13:29:53.501300Z"
    },
    "tags": []
   },
   "outputs": [],
   "source": [
    "filename = \"inputs/12-03.txt\"\n",
    "with open(filename, \"r\") as f:\n",
    "    data = f.read()"
   ]
  },
  {
   "cell_type": "code",
   "execution_count": 2,
   "id": "43e041c2-03b5-4b77-bf6c-256f84e16323",
   "metadata": {
    "execution": {
     "iopub.execute_input": "2022-12-14T13:29:53.508240Z",
     "iopub.status.busy": "2022-12-14T13:29:53.507977Z",
     "iopub.status.idle": "2022-12-14T13:29:53.515720Z",
     "shell.execute_reply": "2022-12-14T13:29:53.514506Z",
     "shell.execute_reply.started": "2022-12-14T13:29:53.508211Z"
    },
    "tags": []
   },
   "outputs": [],
   "source": [
    "def priority(item):\n",
    "    if item.islower():\n",
    "        return ord(item) - ord('a') + 1\n",
    "    else:\n",
    "        return ord(item) - ord('A') + 27\n",
    "def priorities(items):\n",
    "    return sum([priority(item) for item in items])"
   ]
  },
  {
   "cell_type": "code",
   "execution_count": 3,
   "id": "66200a06-efaa-43a6-ba08-40ed8bfc4cd6",
   "metadata": {
    "execution": {
     "iopub.execute_input": "2022-12-14T13:29:53.519002Z",
     "iopub.status.busy": "2022-12-14T13:29:53.518181Z",
     "iopub.status.idle": "2022-12-14T13:29:53.528876Z",
     "shell.execute_reply": "2022-12-14T13:29:53.528072Z",
     "shell.execute_reply.started": "2022-12-14T13:29:53.518899Z"
    },
    "tags": []
   },
   "outputs": [],
   "source": [
    "packs = [(set(l[:len(l)//2]), set(l[len(l)//2:])) for l in data.splitlines()]"
   ]
  },
  {
   "cell_type": "code",
   "execution_count": 4,
   "id": "403a0cc7-7aeb-4320-9d24-66e79b070907",
   "metadata": {
    "execution": {
     "iopub.execute_input": "2022-12-14T13:29:53.530377Z",
     "iopub.status.busy": "2022-12-14T13:29:53.530097Z",
     "iopub.status.idle": "2022-12-14T13:29:53.547130Z",
     "shell.execute_reply": "2022-12-14T13:29:53.546462Z",
     "shell.execute_reply.started": "2022-12-14T13:29:53.530344Z"
    }
   },
   "outputs": [
    {
     "data": {
      "text/plain": [
       "8018"
      ]
     },
     "execution_count": 4,
     "metadata": {},
     "output_type": "execute_result"
    }
   ],
   "source": [
    "sum(priorities(left & right) for left, right in packs)"
   ]
  },
  {
   "cell_type": "markdown",
   "id": "5cd52773-0191-491d-9be5-87c7bedc1cb8",
   "metadata": {},
   "source": [
    "# Part 2"
   ]
  },
  {
   "cell_type": "code",
   "execution_count": 5,
   "id": "4cf7b265-907c-47a0-bf49-56c93a3543cc",
   "metadata": {
    "execution": {
     "iopub.execute_input": "2022-12-14T13:29:53.548278Z",
     "iopub.status.busy": "2022-12-14T13:29:53.548070Z",
     "iopub.status.idle": "2022-12-14T13:29:53.640434Z",
     "shell.execute_reply": "2022-12-14T13:29:53.639858Z",
     "shell.execute_reply.started": "2022-12-14T13:29:53.548256Z"
    }
   },
   "outputs": [],
   "source": [
    "import numpy as np"
   ]
  },
  {
   "cell_type": "code",
   "execution_count": 6,
   "id": "69b5ee74-400f-48a7-9d91-2444016b4547",
   "metadata": {
    "execution": {
     "iopub.execute_input": "2022-12-14T13:29:53.641613Z",
     "iopub.status.busy": "2022-12-14T13:29:53.641390Z",
     "iopub.status.idle": "2022-12-14T13:29:53.645678Z",
     "shell.execute_reply": "2022-12-14T13:29:53.645013Z",
     "shell.execute_reply.started": "2022-12-14T13:29:53.641586Z"
    },
    "tags": []
   },
   "outputs": [],
   "source": [
    "packs = np.array([set(l) for l in data.splitlines()]).reshape((-1, 3))"
   ]
  },
  {
   "cell_type": "code",
   "execution_count": 7,
   "id": "9657ed76-a4c0-45b8-8990-9afbf7693779",
   "metadata": {
    "execution": {
     "iopub.execute_input": "2022-12-14T13:29:53.647185Z",
     "iopub.status.busy": "2022-12-14T13:29:53.647005Z",
     "iopub.status.idle": "2022-12-14T13:29:53.653731Z",
     "shell.execute_reply": "2022-12-14T13:29:53.653132Z",
     "shell.execute_reply.started": "2022-12-14T13:29:53.647164Z"
    },
    "tags": []
   },
   "outputs": [
    {
     "data": {
      "text/plain": [
       "2518"
      ]
     },
     "execution_count": 7,
     "metadata": {},
     "output_type": "execute_result"
    }
   ],
   "source": [
    "sum(priorities(set.intersection(*groups)) for groups in packs)"
   ]
  },
  {
   "cell_type": "code",
   "execution_count": null,
   "id": "2760601d-a7c7-4fd6-a4bf-6c5df1a33fac",
   "metadata": {},
   "outputs": [],
   "source": []
  }
 ],
 "metadata": {
  "kernelspec": {
   "display_name": "Python 3",
   "language": "python",
   "name": "python3"
  },
  "language_info": {
   "codemirror_mode": {
    "name": "ipython",
    "version": 3
   },
   "file_extension": ".py",
   "mimetype": "text/x-python",
   "name": "python",
   "nbconvert_exporter": "python",
   "pygments_lexer": "ipython3",
   "version": "3.8.5"
  }
 },
 "nbformat": 4,
 "nbformat_minor": 5
}
