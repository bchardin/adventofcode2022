{
 "cells": [
  {
   "cell_type": "markdown",
   "metadata": {},
   "source": [
    "# Part 1"
   ]
  },
  {
   "cell_type": "code",
   "execution_count": 1,
   "metadata": {
    "tags": []
   },
   "outputs": [],
   "source": [
    "filename = \"inputs/12-19.txt\"\n",
    "with open(filename, \"r\") as f:\n",
    "    data = f.read()"
   ]
  },
  {
   "cell_type": "code",
   "execution_count": 2,
   "metadata": {
    "tags": []
   },
   "outputs": [],
   "source": [
    "import re\n",
    "from functools import cache\n",
    "import math"
   ]
  },
  {
   "cell_type": "code",
   "execution_count": 3,
   "metadata": {
    "tags": []
   },
   "outputs": [],
   "source": [
    "blueprints = {}\n",
    "for l in data.splitlines():\n",
    "    bp, or_or, cl_or, ob_or, ob_cl, ge_or, ge_ob = (int(v) for v in re.findall(\"\\d+\", l))\n",
    "    blueprints[bp] = {\n",
    "        \"ore\": {\n",
    "            \"ore\": or_or,\n",
    "        },\n",
    "        \"clay\": {\n",
    "            \"ore\": cl_or,\n",
    "        },\n",
    "        \"obsidian\": {\n",
    "            \"ore\": ob_or,\n",
    "            \"clay\": ob_cl,\n",
    "        },\n",
    "        \"geode\": {\n",
    "            \"ore\": ge_or,\n",
    "            \"obsidian\": ge_ob,\n",
    "        },\n",
    "    }\n",
    "def bp_to_tuple(bp):\n",
    "    return tuple(v for d in bp.values() for v in d.values())"
   ]
  },
  {
   "cell_type": "code",
   "execution_count": 4,
   "metadata": {
    "tags": []
   },
   "outputs": [],
   "source": [
    "@cache\n",
    "def geodes(t, state, bp):\n",
    "    (ore_r, clay_r, obs_r, geo_r, ore, clay, obs, geo) = state\n",
    "    (ore_ore, clay_ore, obs_ore, obs_clay, geo_ore, geo_obs) = bp\n",
    "    # stop if we can't possibly build another geode before t = 1 (excluded)\n",
    "    if obs + (obs_r + (clay + (clay_r + (ore + ore_r * (t-4))//clay_ore) * (t-3))//obs_clay) * (t-2) < geo_obs:\n",
    "        return geo + t * geo_r\n",
    "    else:\n",
    "        # build a geode robot now if possible, as delaying geode robots is never profitable\n",
    "        if ore >= geo_ore and obs >= geo_obs:\n",
    "            return geodes(\n",
    "                t - 1,\n",
    "                (ore_r, clay_r, obs_r, geo_r + 1, ore + ore_r - geo_ore, clay + clay_r, obs + obs_r - geo_obs, geo + geo_r),\n",
    "                bp\n",
    "            )\n",
    "        geos = [0]\n",
    "        # build a geode robot\n",
    "        if obs_r > 0:\n",
    "            dt = max((math.ceil((geo_obs - obs) / obs_r), math.ceil((geo_ore - ore) / ore_r), 0)) + 1\n",
    "            if t - dt >= 1:\n",
    "                geos.append(geodes(\n",
    "                    t - dt,\n",
    "                    (ore_r, clay_r, obs_r, geo_r + 1, ore + dt * ore_r - geo_ore, clay + dt * clay_r, obs + dt * obs_r - geo_obs, geo + dt * geo_r),\n",
    "                    bp\n",
    "                ))\n",
    "        # build an obsidian robot (up to a maximum)\n",
    "        if clay_r > 0 and obs_r < geo_obs:\n",
    "            dt = max((math.ceil((obs_clay - clay) / clay_r), math.ceil((obs_ore - ore) / ore_r), 0)) + 1\n",
    "            if t - dt >= 2:\n",
    "                geos.append(geodes(\n",
    "                    t - dt,\n",
    "                    (ore_r, clay_r, obs_r + 1, geo_r, ore + dt * ore_r - obs_ore, clay + dt * clay_r - obs_clay, obs + dt * obs_r, geo + dt * geo_r),\n",
    "                    bp\n",
    "                ))\n",
    "        # build a clay robot (up to a maximum)\n",
    "        if clay_r < obs_clay:\n",
    "            dt = max(math.ceil((clay_ore - ore) / ore_r), 0) + 1\n",
    "            if t - dt >= 3:\n",
    "                geos.append(geodes(\n",
    "                    t - dt,\n",
    "                    (ore_r, clay_r + 1, obs_r, geo_r, ore + dt * ore_r - clay_ore, clay + dt * clay_r, obs + dt * obs_r, geo + dt * geo_r),\n",
    "                    bp\n",
    "                ))\n",
    "        # build an ore robot (up to a maximum)\n",
    "        if ore_r < max([clay_ore, obs_ore, geo_ore]):\n",
    "            dt = max(math.ceil((ore_ore - ore) / ore_r), 0) + 1\n",
    "            if t - dt >= 2:\n",
    "                geos.append(geodes(\n",
    "                    t - dt,\n",
    "                    (ore_r + 1, clay_r, obs_r, geo_r, ore + dt * ore_r - ore_ore, clay + dt * clay_r, obs + dt * obs_r, geo + dt * geo_r),\n",
    "                    bp\n",
    "                ))\n",
    "\n",
    "        return max(geos)"
   ]
  },
  {
   "cell_type": "code",
   "execution_count": 5,
   "metadata": {
    "tags": []
   },
   "outputs": [
    {
     "name": "stdout",
     "output_type": "stream",
     "text": [
      "CPU times: total: 344 ms\n",
      "Wall time: 336 ms\n"
     ]
    },
    {
     "data": {
      "text/plain": [
       "1092"
      ]
     },
     "execution_count": 5,
     "metadata": {},
     "output_type": "execute_result"
    }
   ],
   "source": [
    "%%time\n",
    "s = 0\n",
    "for i, bp in blueprints.items():\n",
    "    geo = geodes(24, (1, 0, 0, 0, 0, 0, 0, 0), bp_to_tuple(bp))\n",
    "    s += i * geo\n",
    "s"
   ]
  },
  {
   "cell_type": "markdown",
   "metadata": {},
   "source": [
    "# Part 2"
   ]
  },
  {
   "cell_type": "code",
   "execution_count": 6,
   "metadata": {
    "tags": []
   },
   "outputs": [
    {
     "name": "stdout",
     "output_type": "stream",
     "text": [
      "CPU times: total: 3.19 s\n",
      "Wall time: 3.21 s\n"
     ]
    },
    {
     "data": {
      "text/plain": [
       "3542"
      ]
     },
     "execution_count": 6,
     "metadata": {},
     "output_type": "execute_result"
    }
   ],
   "source": [
    "%%time\n",
    "p = 1\n",
    "for i, bp in list(blueprints.items())[:3]:\n",
    "    geo = geodes(32, (1, 0, 0, 0, 0, 0, 0, 0), bp_to_tuple(bp))\n",
    "    p *= geo\n",
    "p"
   ]
  },
  {
   "cell_type": "code",
   "execution_count": null,
   "metadata": {},
   "outputs": [],
   "source": []
  }
 ],
 "metadata": {
  "kernelspec": {
   "display_name": "Python 3 (ipykernel)",
   "language": "python",
   "name": "python3"
  },
  "language_info": {
   "codemirror_mode": {
    "name": "ipython",
    "version": 3
   },
   "file_extension": ".py",
   "mimetype": "text/x-python",
   "name": "python",
   "nbconvert_exporter": "python",
   "pygments_lexer": "ipython3",
   "version": "3.10.5"
  }
 },
 "nbformat": 4,
 "nbformat_minor": 4
}
