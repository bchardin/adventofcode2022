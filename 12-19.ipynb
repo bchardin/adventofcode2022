{
 "cells": [
  {
   "cell_type": "markdown",
   "metadata": {},
   "source": [
    "# Part 1"
   ]
  },
  {
   "cell_type": "code",
   "execution_count": 1,
   "metadata": {
    "execution": {
     "iopub.execute_input": "2022-12-19T16:39:57.996335Z",
     "iopub.status.busy": "2022-12-19T16:39:57.995990Z",
     "iopub.status.idle": "2022-12-19T16:39:58.001453Z",
     "shell.execute_reply": "2022-12-19T16:39:58.000732Z",
     "shell.execute_reply.started": "2022-12-19T16:39:57.996245Z"
    },
    "tags": []
   },
   "outputs": [],
   "source": [
    "filename = \"inputs/12-19.txt\"\n",
    "with open(filename, \"r\") as f:\n",
    "    data = f.read()"
   ]
  },
  {
   "cell_type": "code",
   "execution_count": 2,
   "metadata": {
    "execution": {
     "iopub.execute_input": "2022-12-19T16:39:58.003178Z",
     "iopub.status.busy": "2022-12-19T16:39:58.002849Z",
     "iopub.status.idle": "2022-12-19T16:39:58.007587Z",
     "shell.execute_reply": "2022-12-19T16:39:58.006887Z",
     "shell.execute_reply.started": "2022-12-19T16:39:58.003140Z"
    },
    "tags": []
   },
   "outputs": [],
   "source": [
    "import re\n",
    "from functools import lru_cache"
   ]
  },
  {
   "cell_type": "code",
   "execution_count": 3,
   "metadata": {
    "execution": {
     "iopub.execute_input": "2022-12-19T16:39:58.009070Z",
     "iopub.status.busy": "2022-12-19T16:39:58.008764Z",
     "iopub.status.idle": "2022-12-19T16:39:58.021907Z",
     "shell.execute_reply": "2022-12-19T16:39:58.020832Z",
     "shell.execute_reply.started": "2022-12-19T16:39:58.009019Z"
    },
    "tags": []
   },
   "outputs": [],
   "source": [
    "blueprints = {}\n",
    "for l in data.splitlines():\n",
    "    bp, or_or, cl_or, ob_or, ob_cl, ge_or, ge_ob = (int(v) for v in re.findall(\"\\d+\", l))\n",
    "    blueprints[bp] = {\n",
    "        \"ore\": {\n",
    "            \"ore\": or_or,\n",
    "        },\n",
    "        \"clay\": {\n",
    "            \"ore\": cl_or,\n",
    "        },\n",
    "        \"obsidian\": {\n",
    "            \"ore\": ob_or,\n",
    "            \"clay\": ob_cl,\n",
    "        },\n",
    "        \"geode\": {\n",
    "            \"ore\": ge_or,\n",
    "            \"obsidian\": ge_ob,\n",
    "        },\n",
    "    }\n",
    "def bp_to_tuple(bp):\n",
    "    return tuple(v for d in bp.values() for v in d.values())"
   ]
  },
  {
   "cell_type": "code",
   "execution_count": 4,
   "metadata": {
    "execution": {
     "iopub.execute_input": "2022-12-19T16:39:58.024006Z",
     "iopub.status.busy": "2022-12-19T16:39:58.023571Z",
     "iopub.status.idle": "2022-12-19T16:39:58.037750Z",
     "shell.execute_reply": "2022-12-19T16:39:58.036714Z",
     "shell.execute_reply.started": "2022-12-19T16:39:58.023950Z"
    },
    "tags": []
   },
   "outputs": [],
   "source": [
    "@lru_cache(maxsize=None)\n",
    "def geodes(t, state, bp):\n",
    "    (ore_r, clay_r, obs_r, geo_r, ore, clay, obs) = state\n",
    "    (ore_ore, clay_ore, obs_ore, obs_clay, geo_ore, geo_obs) = bp\n",
    "    # if we can't possibly build another geode before t = 1 (excluded)\n",
    "    if obs + (obs_r + (clay + (clay_r + (ore + ore_r * (t-4))//clay_ore) * (t-3))//obs_clay) * (t-2) < geo_obs:\n",
    "        return t * geo_r\n",
    "    else:\n",
    "        next_ore = ore + ore_r\n",
    "        next_clay = clay + clay_r\n",
    "        next_obs = obs + obs_r\n",
    "        # delaying geode robots is never profitable\n",
    "        if ore >= geo_ore and obs >= geo_obs:\n",
    "            return geo_r + geodes(\n",
    "                t - 1,\n",
    "                (ore_r, clay_r, obs_r, geo_r + 1, next_ore - geo_ore, next_clay, next_obs - geo_obs),\n",
    "                bp\n",
    "            )\n",
    "        # possibly do nothing\n",
    "        geos = [geodes(\n",
    "            t - 1,\n",
    "            (ore_r, clay_r, obs_r, geo_r, next_ore, next_clay, next_obs),\n",
    "            bp\n",
    "        )]\n",
    "        # build an ore robot (up to a maximum)\n",
    "        if ore >= ore_ore and ore_r < max([clay_ore, obs_ore, geo_ore]):\n",
    "             geos.append(geodes(\n",
    "                t - 1,\n",
    "                (ore_r + 1, clay_r, obs_r, geo_r, next_ore - ore_ore, next_clay, next_obs),\n",
    "                bp\n",
    "            ))\n",
    "        # build a clay robot (up to a maximum)\n",
    "        if ore >= clay_ore and clay_r < obs_clay:\n",
    "            geos.append(geodes(\n",
    "                t - 1,\n",
    "                (ore_r, clay_r + 1, obs_r, geo_r, next_ore - clay_ore, next_clay, next_obs),\n",
    "                bp\n",
    "            ))\n",
    "        # build an obsidian robot (up to a maximum)\n",
    "        if ore >= obs_ore and clay >= obs_clay and obs_r < geo_obs:\n",
    "            geos.append(geodes(\n",
    "                t - 1,\n",
    "                (ore_r, clay_r, obs_r + 1, geo_r, next_ore - obs_ore, next_clay - obs_clay, next_obs),\n",
    "                bp\n",
    "            ))\n",
    "        return geo_r + max(geos)"
   ]
  },
  {
   "cell_type": "code",
   "execution_count": 5,
   "metadata": {
    "execution": {
     "iopub.execute_input": "2022-12-19T16:39:58.038889Z",
     "iopub.status.busy": "2022-12-19T16:39:58.038686Z",
     "iopub.status.idle": "2022-12-19T16:40:08.077143Z",
     "shell.execute_reply": "2022-12-19T16:40:08.076323Z",
     "shell.execute_reply.started": "2022-12-19T16:39:58.038864Z"
    },
    "tags": []
   },
   "outputs": [
    {
     "name": "stdout",
     "output_type": "stream",
     "text": [
      "CPU times: user 9.82 s, sys: 204 ms, total: 10 s\n",
      "Wall time: 10 s\n"
     ]
    },
    {
     "data": {
      "text/plain": [
       "1092"
      ]
     },
     "execution_count": 5,
     "metadata": {},
     "output_type": "execute_result"
    }
   ],
   "source": [
    "%%time\n",
    "s = 0\n",
    "for i, bp in blueprints.items():\n",
    "    geo = geodes(24, (1, 0, 0, 0, 0, 0, 0), bp_to_tuple(bp))\n",
    "    s += i * geo\n",
    "s"
   ]
  },
  {
   "cell_type": "markdown",
   "metadata": {},
   "source": [
    "# Part 2"
   ]
  },
  {
   "cell_type": "code",
   "execution_count": 6,
   "metadata": {
    "execution": {
     "iopub.execute_input": "2022-12-19T16:40:08.078318Z",
     "iopub.status.busy": "2022-12-19T16:40:08.078103Z",
     "iopub.status.idle": "2022-12-19T16:42:15.750836Z",
     "shell.execute_reply": "2022-12-19T16:42:15.750300Z",
     "shell.execute_reply.started": "2022-12-19T16:40:08.078290Z"
    },
    "tags": []
   },
   "outputs": [
    {
     "name": "stdout",
     "output_type": "stream",
     "text": [
      "CPU times: user 2min 6s, sys: 1.44 s, total: 2min 7s\n",
      "Wall time: 2min 7s\n"
     ]
    },
    {
     "data": {
      "text/plain": [
       "3542"
      ]
     },
     "execution_count": 6,
     "metadata": {},
     "output_type": "execute_result"
    }
   ],
   "source": [
    "%%time\n",
    "p = 1\n",
    "for i, bp in list(blueprints.items())[:3]:\n",
    "    geo = geodes(32, (1, 0, 0, 0, 0, 0, 0), bp_to_tuple(bp))\n",
    "    p *= geo\n",
    "p"
   ]
  },
  {
   "cell_type": "code",
   "execution_count": null,
   "metadata": {},
   "outputs": [],
   "source": []
  }
 ],
 "metadata": {
  "kernelspec": {
   "display_name": "Python 3",
   "language": "python",
   "name": "python3"
  },
  "language_info": {
   "codemirror_mode": {
    "name": "ipython",
    "version": 3
   },
   "file_extension": ".py",
   "mimetype": "text/x-python",
   "name": "python",
   "nbconvert_exporter": "python",
   "pygments_lexer": "ipython3",
   "version": "3.8.5"
  }
 },
 "nbformat": 4,
 "nbformat_minor": 4
}
