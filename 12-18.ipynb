{
 "cells": [
  {
   "cell_type": "markdown",
   "id": "6c267adf-983b-47c2-af64-4b9301159e9d",
   "metadata": {},
   "source": [
    "# Part 1"
   ]
  },
  {
   "cell_type": "code",
   "execution_count": 1,
   "id": "0cf1f2ef-02a0-4b2d-a924-a17000101037",
   "metadata": {
    "tags": []
   },
   "outputs": [],
   "source": [
    "filename = \"inputs/12-18.txt\"\n",
    "with open(filename, \"r\") as f:\n",
    "    data = f.read()"
   ]
  },
  {
   "cell_type": "code",
   "execution_count": 2,
   "id": "52b4ad03-d473-4a1d-b696-c6e698d779e7",
   "metadata": {},
   "outputs": [],
   "source": [
    "blocks = [tuple(int(v) for v in l.split(\",\")) for l in data.splitlines()]"
   ]
  },
  {
   "cell_type": "code",
   "execution_count": 3,
   "id": "bca44f91-ccc8-4128-8d32-934823db291a",
   "metadata": {},
   "outputs": [],
   "source": [
    "from itertools import combinations"
   ]
  },
  {
   "cell_type": "code",
   "execution_count": 4,
   "id": "eb1a288e-d872-416c-841a-f55befc6f4df",
   "metadata": {},
   "outputs": [],
   "source": [
    "def count_sides(blocks):\n",
    "    sides = 6 * len(blocks)\n",
    "    for (x1, y1, z1), (x2, y2, z2) in combinations(blocks, 2):\n",
    "        d = abs(x1 - x2) + abs(y1 - y2) + abs(z1 - z2)\n",
    "        if d == 1:\n",
    "            sides -= 2\n",
    "    return sides"
   ]
  },
  {
   "cell_type": "code",
   "execution_count": 5,
   "id": "8915dff5-0eb9-472b-9141-6e7dd2824f0b",
   "metadata": {},
   "outputs": [
    {
     "data": {
      "text/plain": [
       "4500"
      ]
     },
     "execution_count": 5,
     "metadata": {},
     "output_type": "execute_result"
    }
   ],
   "source": [
    "count_sides(blocks)"
   ]
  },
  {
   "cell_type": "markdown",
   "id": "7f8e101b-ca2f-48ac-869d-f5f4a278081d",
   "metadata": {},
   "source": [
    "# Part 2"
   ]
  },
  {
   "cell_type": "code",
   "execution_count": 6,
   "id": "38522926-13e6-4f51-92db-4c849d5ddadb",
   "metadata": {},
   "outputs": [],
   "source": [
    "from itertools import product"
   ]
  },
  {
   "cell_type": "code",
   "execution_count": 7,
   "id": "7ab285ff-56cb-4a15-8164-eb9227b99620",
   "metadata": {},
   "outputs": [],
   "source": [
    "cube = {}\n",
    "ranges = [[f(b[i] for b in blocks) for f in (min, max)] for i in range(3)]\n",
    "water = set()\n",
    "for p in product(*(range(ranges[i][0], ranges[i][1] + 1) for i in range(3))):\n",
    "    if p in blocks:\n",
    "        cube[p] = \"#\"\n",
    "    else:\n",
    "        cube[p] = \".\"\n",
    "        # add the border as water\n",
    "        if any(p[i] in ranges[i] for i in range(3)):\n",
    "            water.add(p)"
   ]
  },
  {
   "cell_type": "code",
   "execution_count": 8,
   "id": "f9150a40-0ad6-4d94-a2a2-7f2e9dcb487b",
   "metadata": {},
   "outputs": [],
   "source": [
    "NEIGHBORS = [\n",
    "    (1, 0, 0),\n",
    "    (-1, 0, 0),\n",
    "    (0, 1, 0),\n",
    "    (0, -1, 0),\n",
    "    (0, 0, 1),\n",
    "    (0, 0, -1),\n",
    "]\n",
    "\n",
    "while water:\n",
    "    x, y, z = water.pop()\n",
    "    cube[x, y, z] = \"w\"\n",
    "    for dx, dy, dz in NEIGHBORS:\n",
    "        neighbor = (x + dx, y + dy, z + dz)\n",
    "        if neighbor in cube and cube[neighbor] == \".\":\n",
    "            water.add(neighbor)"
   ]
  },
  {
   "cell_type": "code",
   "execution_count": 9,
   "id": "5b076b9b-84fd-4de5-9f5f-8dc3432fe482",
   "metadata": {},
   "outputs": [],
   "source": [
    "filled = blocks + [b for b in cube if cube[b] == \".\"]"
   ]
  },
  {
   "cell_type": "code",
   "execution_count": 10,
   "id": "096886e2-5d1e-4b3c-a833-38535799eeba",
   "metadata": {},
   "outputs": [
    {
     "data": {
      "text/plain": [
       "2558"
      ]
     },
     "execution_count": 10,
     "metadata": {},
     "output_type": "execute_result"
    }
   ],
   "source": [
    "count_sides(filled)"
   ]
  },
  {
   "cell_type": "code",
   "execution_count": null,
   "id": "907b3f91-0a36-4eea-a958-f852e79871bc",
   "metadata": {},
   "outputs": [],
   "source": []
  }
 ],
 "metadata": {
  "kernelspec": {
   "display_name": "Python 3 (ipykernel)",
   "language": "python",
   "name": "python3"
  },
  "language_info": {
   "codemirror_mode": {
    "name": "ipython",
    "version": 3
   },
   "file_extension": ".py",
   "mimetype": "text/x-python",
   "name": "python",
   "nbconvert_exporter": "python",
   "pygments_lexer": "ipython3",
   "version": "3.10.5"
  }
 },
 "nbformat": 4,
 "nbformat_minor": 5
}
