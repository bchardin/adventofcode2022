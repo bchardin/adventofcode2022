{
 "cells": [
  {
   "cell_type": "markdown",
   "metadata": {},
   "source": [
    "# Part 1\n",
    "\n",
    "Local optimum only (with randomized starting states)."
   ]
  },
  {
   "cell_type": "code",
   "execution_count": 1,
   "metadata": {
    "tags": []
   },
   "outputs": [],
   "source": [
    "filename = \"inputs/12-16.txt\"\n",
    "with open(filename, \"r\") as f:\n",
    "    data = f.read()"
   ]
  },
  {
   "cell_type": "code",
   "execution_count": 2,
   "metadata": {},
   "outputs": [],
   "source": [
    "import re\n",
    "import networkx as nx"
   ]
  },
  {
   "cell_type": "code",
   "execution_count": 3,
   "metadata": {},
   "outputs": [],
   "source": [
    "flows = {}\n",
    "G = nx.Graph()\n",
    "for l in data.splitlines():\n",
    "    m = re.match(\"Valve ([A-Z]+) has flow rate=(\\d+); tunnels? leads? to valves? (.*)\", l)\n",
    "    valve, flow, neighbors = m.groups()\n",
    "    for n in neighbors.split(\", \"):\n",
    "        G.add_edge(valve, n)\n",
    "    flows[valve] = int(flow)"
   ]
  },
  {
   "cell_type": "code",
   "execution_count": 4,
   "metadata": {},
   "outputs": [],
   "source": [
    "def flow(order, graph, flows, time=30, start=\"AA\"):\n",
    "    pos = start\n",
    "    opened = []\n",
    "    pressure = 0\n",
    "    for target in order:\n",
    "        time -= nx.shortest_path_length(G, pos, target) + 1\n",
    "        if time <= 0:\n",
    "            break\n",
    "        pressure += flows[target] * time\n",
    "        pos = target\n",
    "    return pressure"
   ]
  },
  {
   "cell_type": "code",
   "execution_count": 5,
   "metadata": {},
   "outputs": [],
   "source": [
    "import random"
   ]
  },
  {
   "cell_type": "code",
   "execution_count": 6,
   "metadata": {},
   "outputs": [
    {
     "name": "stdout",
     "output_type": "stream",
     "text": [
      "1880 ['OM', 'VR', 'SP', 'RO', 'KZ', 'DI', 'SO', 'SC', 'AJ', 'JD', 'PW', 'IR', 'VG', 'JL', 'RI'] 0\n"
     ]
    }
   ],
   "source": [
    "candidates = [v for v in flows if flows[v] > 0]\n",
    "iorder = candidates.copy()\n",
    "imax_flow = flow(candidates, G, flows)\n",
    "when = None\n",
    "for iter_ in range(100):\n",
    "    max_flow = flow(candidates, G, flows)\n",
    "    better = True\n",
    "    order = candidates.copy()\n",
    "    random.shuffle(order)\n",
    "    while better:\n",
    "        better = False\n",
    "        # try to move the i-th valve to the j-th position\n",
    "        for i in range(len(candidates)):\n",
    "            for j in range(len(candidates) - 1):\n",
    "                cand = order.copy()\n",
    "                cand.insert(j, cand.pop(i))\n",
    "                fl = flow(cand, G, flows)\n",
    "                if fl > max_flow:\n",
    "                    order = cand\n",
    "                    better = True\n",
    "                    max_flow = fl\n",
    "    if max_flow > imax_flow:\n",
    "        iorder = order\n",
    "        imax_flow = max_flow\n",
    "        when = iter_\n",
    "print(imax_flow, iorder, when)"
   ]
  },
  {
   "cell_type": "markdown",
   "metadata": {},
   "source": [
    "# Part 2\n",
    "\n",
    "Local optimum only (with randomized starting states)."
   ]
  },
  {
   "cell_type": "code",
   "execution_count": 7,
   "metadata": {},
   "outputs": [],
   "source": [
    "def flow(orders, spt, graph, flows, st_time=26, start=\"AA\"):\n",
    "    if not 0 <= spt < len(orders):\n",
    "        return 0\n",
    "    pressure = 0\n",
    "    for order in (orders[:spt], orders[spt:]):\n",
    "        time = st_time\n",
    "        pos = start\n",
    "        opened = []\n",
    "        for target in order:\n",
    "            time -= nx.shortest_path_length(G, pos, target) + 1\n",
    "            if time <= 0:\n",
    "                break\n",
    "            pressure += flows[target] * time\n",
    "            pos = target\n",
    "    return pressure"
   ]
  },
  {
   "cell_type": "code",
   "execution_count": 8,
   "metadata": {},
   "outputs": [
    {
     "name": "stdout",
     "output_type": "stream",
     "text": [
      "2520 ['OM', 'VR', 'SP', 'RO', 'KZ', 'DI', 'SO', 'SC', 'PW', 'JL', 'IR', 'VG', 'AJ', 'RI', 'JD'] 8 4\n"
     ]
    }
   ],
   "source": [
    "candidates = [v for v in flows if flows[v] > 0]\n",
    "iorder = candidates\n",
    "ispt = 0\n",
    "imax_flow = flow(candidates, 0, G, flows)\n",
    "when = None\n",
    "for iter_ in range(100):\n",
    "    better = True\n",
    "    order = candidates.copy()\n",
    "    random.shuffle(order)\n",
    "    spt = random.randrange(len(candidates))\n",
    "    max_flow = flow(order, spt, G, flows)\n",
    "    while better:\n",
    "        better = False\n",
    "        # try to move the i-th valve to the j-th position\n",
    "        for i in range(len(candidates)):\n",
    "            for j in range(len(candidates) - 1):\n",
    "                cand = order.copy()\n",
    "                cand.insert(j, cand.pop(i))\n",
    "                for s in (spt - 1, spt, spt + 1):\n",
    "                    fl = flow(cand, s, G, flows)\n",
    "                    if fl > max_flow:\n",
    "                        spt = s\n",
    "                        order = cand\n",
    "                        better = True\n",
    "                        max_flow = fl\n",
    "    if max_flow > imax_flow:\n",
    "        iorder = order\n",
    "        imax_flow = max_flow\n",
    "        ispt = spt\n",
    "        when = iter_\n",
    "print(imax_flow, iorder, ispt, when)"
   ]
  },
  {
   "cell_type": "code",
   "execution_count": null,
   "metadata": {},
   "outputs": [],
   "source": []
  }
 ],
 "metadata": {
  "kernelspec": {
   "display_name": "Python 3",
   "language": "python",
   "name": "python3"
  },
  "language_info": {
   "codemirror_mode": {
    "name": "ipython",
    "version": 3
   },
   "file_extension": ".py",
   "mimetype": "text/x-python",
   "name": "python",
   "nbconvert_exporter": "python",
   "pygments_lexer": "ipython3",
   "version": "3.8.10"
  }
 },
 "nbformat": 4,
 "nbformat_minor": 4
}
