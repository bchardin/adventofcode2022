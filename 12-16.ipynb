{
 "cells": [
  {
   "cell_type": "markdown",
   "metadata": {},
   "source": [
    "# Part 1"
   ]
  },
  {
   "cell_type": "code",
   "execution_count": 1,
   "metadata": {
    "tags": []
   },
   "outputs": [],
   "source": [
    "filename = \"inputs/12-16.txt\"\n",
    "with open(filename, \"r\") as f:\n",
    "    data = f.read()"
   ]
  },
  {
   "cell_type": "code",
   "execution_count": 2,
   "metadata": {},
   "outputs": [],
   "source": [
    "import re\n",
    "import networkx as nx"
   ]
  },
  {
   "cell_type": "code",
   "execution_count": 3,
   "metadata": {},
   "outputs": [],
   "source": [
    "flows = {}\n",
    "G = nx.Graph()\n",
    "for l in data.splitlines():\n",
    "    m = re.match(\"Valve ([A-Z]+) has flow rate=(\\d+); tunnels? leads? to valves? (.*)\", l)\n",
    "    valve, flow, neighbors = m.groups()\n",
    "    for n in neighbors.split(\", \"):\n",
    "        G.add_edge(valve, n)\n",
    "    flows[valve] = int(flow)"
   ]
  },
  {
   "cell_type": "code",
   "execution_count": 4,
   "metadata": {},
   "outputs": [],
   "source": [
    "flows = {v : flows[v] for v in flows if flows[v] or v == \"AA\"}\n",
    "distances = {(x, y): nx.shortest_path_length(G, x, y) for x in flows for y in flows}"
   ]
  },
  {
   "cell_type": "code",
   "execution_count": 5,
   "metadata": {},
   "outputs": [],
   "source": [
    "def pressure(t, valves, pos, distances, flows):\n",
    "    if len(valves) == 0 or t < 0:\n",
    "        return 0\n",
    "    max_flow = 0\n",
    "    for v in valves:\n",
    "        nt = t - distances[pos, v] - 1\n",
    "        flow = flows[v] * nt\n",
    "        if flow <= 0:\n",
    "            continue\n",
    "        max_flow = max(max_flow, flow + pressure(nt, valves - {v}, v, distances, flows))\n",
    "    return max_flow"
   ]
  },
  {
   "cell_type": "code",
   "execution_count": 6,
   "metadata": {},
   "outputs": [
    {
     "data": {
      "text/plain": [
       "1880"
      ]
     },
     "execution_count": 6,
     "metadata": {},
     "output_type": "execute_result"
    }
   ],
   "source": [
    "pressure(30, set(flows.keys()), \"AA\", distances, flows)"
   ]
  },
  {
   "cell_type": "markdown",
   "metadata": {},
   "source": [
    "# Part 2"
   ]
  },
  {
   "cell_type": "code",
   "execution_count": 7,
   "metadata": {},
   "outputs": [],
   "source": [
    "from functools import cache"
   ]
  },
  {
   "cell_type": "code",
   "execution_count": 8,
   "metadata": {},
   "outputs": [],
   "source": [
    "@cache\n",
    "def pressure_human(t, valves, pos):\n",
    "    if len(valves) == 0 or t < 0:\n",
    "        return 0\n",
    "    max_flow = 0\n",
    "    for v in valves:\n",
    "        nt = t - distances[pos, v] - 1\n",
    "        flow = flows[v] * nt\n",
    "        if flow <= 0:\n",
    "            continue\n",
    "        max_flow = max(max_flow, flow + pressure_human(nt, valves - {v}, v))\n",
    "    return max_flow"
   ]
  },
  {
   "cell_type": "code",
   "execution_count": 9,
   "metadata": {},
   "outputs": [],
   "source": [
    "@cache\n",
    "def pressure_elephant(t, valves, pos):\n",
    "    if len(valves) == 0 or t < 0:\n",
    "        return pressure_human(26, valves, \"AA\")\n",
    "    max_flow = 0\n",
    "    for v in valves:\n",
    "        nt = t - distances[pos, v] - 1\n",
    "        flow = flows[v] * nt\n",
    "        if flow <= 0:\n",
    "            continue\n",
    "        max_flow = max([max_flow, flow + pressure_elephant(nt, valves - {v}, v), flow + pressure_human(26, valves - {v}, \"AA\")])\n",
    "    return max_flow"
   ]
  },
  {
   "cell_type": "code",
   "execution_count": 10,
   "metadata": {},
   "outputs": [
    {
     "data": {
      "text/plain": [
       "2520"
      ]
     },
     "execution_count": 10,
     "metadata": {},
     "output_type": "execute_result"
    }
   ],
   "source": [
    "pressure_elephant(26, frozenset(flows.keys()), \"AA\")"
   ]
  },
  {
   "cell_type": "code",
   "execution_count": null,
   "metadata": {},
   "outputs": [],
   "source": []
  }
 ],
 "metadata": {
  "kernelspec": {
   "display_name": "Python 3 (ipykernel)",
   "language": "python",
   "name": "python3"
  },
  "language_info": {
   "codemirror_mode": {
    "name": "ipython",
    "version": 3
   },
   "file_extension": ".py",
   "mimetype": "text/x-python",
   "name": "python",
   "nbconvert_exporter": "python",
   "pygments_lexer": "ipython3",
   "version": "3.10.5"
  }
 },
 "nbformat": 4,
 "nbformat_minor": 4
}
