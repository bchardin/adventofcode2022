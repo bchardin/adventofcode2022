{
 "cells": [
  {
   "cell_type": "markdown",
   "id": "dfc0290f-0cbb-4502-a082-a77add4a414b",
   "metadata": {},
   "source": [
    "# Part 1"
   ]
  },
  {
   "cell_type": "code",
   "execution_count": 1,
   "id": "f5bacccb-2bf8-4c69-a434-81c238709f3c",
   "metadata": {
    "tags": []
   },
   "outputs": [],
   "source": [
    "filename = \"inputs/12-20.txt\"\n",
    "with open(filename, \"r\") as f:\n",
    "    data = f.read()"
   ]
  },
  {
   "cell_type": "code",
   "execution_count": 2,
   "id": "c36f1ac2-35ed-4609-a257-0ccb91503ed1",
   "metadata": {},
   "outputs": [],
   "source": [
    "values = [int(v) for v in data.splitlines()]"
   ]
  },
  {
   "cell_type": "code",
   "execution_count": 3,
   "id": "0ea0a27f-177f-41d7-a786-44cc18b6479b",
   "metadata": {},
   "outputs": [],
   "source": [
    "positions = [i for i in range(len(values))]\n",
    "for i in range(len(values)):\n",
    "    pos = positions.index(i)\n",
    "    idx = positions.pop(pos)\n",
    "    positions.insert((pos + values[idx]) % len(positions), idx)"
   ]
  },
  {
   "cell_type": "code",
   "execution_count": 4,
   "id": "09477d00-a5b4-4257-923e-9ed10007874d",
   "metadata": {},
   "outputs": [],
   "source": [
    "def coordinates(values, positions):\n",
    "    s = 0\n",
    "    start = positions.index(values.index(0))\n",
    "    assert values[positions[start]] == 0\n",
    "    for pos in (1000, 2000, 3000):\n",
    "        s += values[positions[(start + pos) % len(values)]]\n",
    "    return s"
   ]
  },
  {
   "cell_type": "code",
   "execution_count": 5,
   "id": "058de569-bd1f-4779-b2d0-c79012ad7b20",
   "metadata": {},
   "outputs": [
    {
     "data": {
      "text/plain": [
       "10707"
      ]
     },
     "execution_count": 5,
     "metadata": {},
     "output_type": "execute_result"
    }
   ],
   "source": [
    "coordinates(values, positions)"
   ]
  },
  {
   "cell_type": "markdown",
   "id": "44e3ab0d-f921-47a5-b5b6-8b9be0c50dcb",
   "metadata": {},
   "source": [
    "# Part 2"
   ]
  },
  {
   "cell_type": "code",
   "execution_count": 6,
   "id": "4d105921-ed07-4c4f-8dd3-7456737283ad",
   "metadata": {},
   "outputs": [],
   "source": [
    "key = 811589153\n",
    "iterations = 10"
   ]
  },
  {
   "cell_type": "code",
   "execution_count": 7,
   "id": "c0cdde2c-a73c-409e-819e-df43d309e6e8",
   "metadata": {},
   "outputs": [],
   "source": [
    "values = [v * key for v in values]\n",
    "positions = [i for i in range(len(values))]\n",
    "for _ in range(iterations):\n",
    "    for i in range(len(values)):\n",
    "        pos = positions.index(i)\n",
    "        idx = positions.pop(pos)\n",
    "        positions.insert((pos + values[idx]) % len(positions), idx)"
   ]
  },
  {
   "cell_type": "code",
   "execution_count": 8,
   "id": "c3c74b9a-bcbc-4a24-91ee-51fa1d448a62",
   "metadata": {},
   "outputs": [
    {
     "data": {
      "text/plain": [
       "2488332343098"
      ]
     },
     "execution_count": 8,
     "metadata": {},
     "output_type": "execute_result"
    }
   ],
   "source": [
    "coordinates(values, positions)"
   ]
  },
  {
   "cell_type": "code",
   "execution_count": null,
   "id": "54e66ab6-d4ec-4468-b0ff-81f3b97a63d9",
   "metadata": {},
   "outputs": [],
   "source": []
  }
 ],
 "metadata": {
  "kernelspec": {
   "display_name": "Python 3 (ipykernel)",
   "language": "python",
   "name": "python3"
  },
  "language_info": {
   "codemirror_mode": {
    "name": "ipython",
    "version": 3
   },
   "file_extension": ".py",
   "mimetype": "text/x-python",
   "name": "python",
   "nbconvert_exporter": "python",
   "pygments_lexer": "ipython3",
   "version": "3.10.5"
  }
 },
 "nbformat": 4,
 "nbformat_minor": 5
}
