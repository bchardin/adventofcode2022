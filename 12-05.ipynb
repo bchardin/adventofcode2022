{
 "cells": [
  {
   "cell_type": "markdown",
   "metadata": {},
   "source": [
    "# Part 1"
   ]
  },
  {
   "cell_type": "code",
   "execution_count": 1,
   "metadata": {
    "execution": {
     "iopub.execute_input": "2022-12-05T20:46:15.064939Z",
     "iopub.status.busy": "2022-12-05T20:46:15.064548Z",
     "iopub.status.idle": "2022-12-05T20:46:15.069772Z",
     "shell.execute_reply": "2022-12-05T20:46:15.068901Z",
     "shell.execute_reply.started": "2022-12-05T20:46:15.064835Z"
    },
    "tags": []
   },
   "outputs": [],
   "source": [
    "import re"
   ]
  },
  {
   "cell_type": "code",
   "execution_count": 2,
   "metadata": {
    "execution": {
     "iopub.execute_input": "2022-12-05T20:46:15.071651Z",
     "iopub.status.busy": "2022-12-05T20:46:15.071338Z",
     "iopub.status.idle": "2022-12-05T20:46:15.083142Z",
     "shell.execute_reply": "2022-12-05T20:46:15.081388Z",
     "shell.execute_reply.started": "2022-12-05T20:46:15.071613Z"
    },
    "tags": []
   },
   "outputs": [],
   "source": [
    "def load_stacks(filename):\n",
    "    \"\"\"Load stacks from file.\n",
    "    \n",
    "    Does not work if any stack is empty.\"\"\"\n",
    "    stacks = {}\n",
    "    with open(filename, \"r\") as f:\n",
    "        for l in f.read().splitlines():\n",
    "            nstacks = (len(l)+1)//4\n",
    "            found_any = False\n",
    "            for i in range(nstacks):\n",
    "                if m := re.search(\"\\[([A-Z])\\]\", l[4*i:4*i+3]):\n",
    "                    found_any |= True\n",
    "                    crate = m.group(1)\n",
    "                    if i + 1 in stacks:\n",
    "                        stacks[i + 1].append(crate)\n",
    "                    else:\n",
    "                        stacks[i + 1] = [crate]\n",
    "            if not found_any:\n",
    "                return dict(sorted(stacks.items()))"
   ]
  },
  {
   "cell_type": "code",
   "execution_count": 3,
   "metadata": {
    "execution": {
     "iopub.execute_input": "2022-12-05T20:46:15.086512Z",
     "iopub.status.busy": "2022-12-05T20:46:15.085907Z",
     "iopub.status.idle": "2022-12-05T20:46:15.095744Z",
     "shell.execute_reply": "2022-12-05T20:46:15.094950Z",
     "shell.execute_reply.started": "2022-12-05T20:46:15.086459Z"
    },
    "tags": []
   },
   "outputs": [],
   "source": [
    "stacks = load_stacks(\"12-05.txt\")\n",
    "with open(\"12-05.txt\", \"r\") as f:\n",
    "    for l in f.read().splitlines():\n",
    "        if m := re.search(\"move ([0-9]+) from ([0-9]+) to ([0-9]+)\", l):\n",
    "            quantity, from_, to = (int(v) for v in m.groups())\n",
    "            stacks[to] = stacks[from_][:quantity][::-1] + stacks[to]\n",
    "            stacks[from_] = stacks[from_][quantity:]"
   ]
  },
  {
   "cell_type": "code",
   "execution_count": 4,
   "metadata": {
    "execution": {
     "iopub.execute_input": "2022-12-05T20:46:15.097091Z",
     "iopub.status.busy": "2022-12-05T20:46:15.096840Z",
     "iopub.status.idle": "2022-12-05T20:46:15.110617Z",
     "shell.execute_reply": "2022-12-05T20:46:15.109934Z",
     "shell.execute_reply.started": "2022-12-05T20:46:15.097053Z"
    },
    "tags": []
   },
   "outputs": [
    {
     "data": {
      "text/plain": [
       "'TLFGBZHCN'"
      ]
     },
     "execution_count": 4,
     "metadata": {},
     "output_type": "execute_result"
    }
   ],
   "source": [
    "\"\".join(stack[0] for _, stack in stacks.items())"
   ]
  },
  {
   "cell_type": "markdown",
   "metadata": {},
   "source": [
    "# Part 2"
   ]
  },
  {
   "cell_type": "code",
   "execution_count": 5,
   "metadata": {
    "execution": {
     "iopub.execute_input": "2022-12-05T20:46:15.112088Z",
     "iopub.status.busy": "2022-12-05T20:46:15.111784Z",
     "iopub.status.idle": "2022-12-05T20:46:15.120585Z",
     "shell.execute_reply": "2022-12-05T20:46:15.119705Z",
     "shell.execute_reply.started": "2022-12-05T20:46:15.112054Z"
    },
    "tags": []
   },
   "outputs": [],
   "source": [
    "stacks = load_stacks(\"12-05.txt\")\n",
    "with open(\"12-05.txt\", \"r\") as f:\n",
    "    for l in f.read().splitlines():\n",
    "        if m := re.search(\"move ([0-9]+) from ([0-9]+) to ([0-9]+)\", l):\n",
    "            quantity, from_, to = (int(v) for v in m.groups())\n",
    "            stacks[to] = stacks[from_][:quantity] + stacks[to]\n",
    "            stacks[from_] = stacks[from_][quantity:]"
   ]
  },
  {
   "cell_type": "code",
   "execution_count": 6,
   "metadata": {
    "execution": {
     "iopub.execute_input": "2022-12-05T20:46:15.122073Z",
     "iopub.status.busy": "2022-12-05T20:46:15.121800Z",
     "iopub.status.idle": "2022-12-05T20:46:15.128122Z",
     "shell.execute_reply": "2022-12-05T20:46:15.127320Z",
     "shell.execute_reply.started": "2022-12-05T20:46:15.122042Z"
    },
    "tags": []
   },
   "outputs": [
    {
     "data": {
      "text/plain": [
       "'QRQFHFWCL'"
      ]
     },
     "execution_count": 6,
     "metadata": {},
     "output_type": "execute_result"
    }
   ],
   "source": [
    "\"\".join(stack[0] for _, stack in stacks.items())"
   ]
  },
  {
   "cell_type": "code",
   "execution_count": null,
   "metadata": {},
   "outputs": [],
   "source": []
  }
 ],
 "metadata": {
  "kernelspec": {
   "display_name": "Python 3",
   "language": "python",
   "name": "python3"
  },
  "language_info": {
   "codemirror_mode": {
    "name": "ipython",
    "version": 3
   },
   "file_extension": ".py",
   "mimetype": "text/x-python",
   "name": "python",
   "nbconvert_exporter": "python",
   "pygments_lexer": "ipython3",
   "version": "3.8.5"
  }
 },
 "nbformat": 4,
 "nbformat_minor": 4
}
