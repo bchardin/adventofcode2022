{
 "cells": [
  {
   "cell_type": "markdown",
   "metadata": {},
   "source": [
    "# Part 1"
   ]
  },
  {
   "cell_type": "code",
   "execution_count": 1,
   "metadata": {
    "execution": {
     "iopub.execute_input": "2022-12-14T13:32:09.161451Z",
     "iopub.status.busy": "2022-12-14T13:32:09.161196Z",
     "iopub.status.idle": "2022-12-14T13:32:09.165552Z",
     "shell.execute_reply": "2022-12-14T13:32:09.164765Z",
     "shell.execute_reply.started": "2022-12-14T13:32:09.161380Z"
    },
    "tags": []
   },
   "outputs": [],
   "source": [
    "import re"
   ]
  },
  {
   "cell_type": "code",
   "execution_count": 2,
   "metadata": {
    "execution": {
     "iopub.execute_input": "2022-12-14T13:32:09.167022Z",
     "iopub.status.busy": "2022-12-14T13:32:09.166824Z",
     "iopub.status.idle": "2022-12-14T13:32:09.171373Z",
     "shell.execute_reply": "2022-12-14T13:32:09.170698Z",
     "shell.execute_reply.started": "2022-12-14T13:32:09.166999Z"
    },
    "tags": []
   },
   "outputs": [],
   "source": [
    "filename = \"inputs/12-05.txt\"\n",
    "with open(filename, \"r\") as f:\n",
    "    data = f.read()"
   ]
  },
  {
   "cell_type": "code",
   "execution_count": 3,
   "metadata": {
    "execution": {
     "iopub.execute_input": "2022-12-14T13:32:09.174883Z",
     "iopub.status.busy": "2022-12-14T13:32:09.174431Z",
     "iopub.status.idle": "2022-12-14T13:32:09.185761Z",
     "shell.execute_reply": "2022-12-14T13:32:09.184823Z",
     "shell.execute_reply.started": "2022-12-14T13:32:09.174827Z"
    },
    "tags": []
   },
   "outputs": [],
   "source": [
    "def load_stacks(data):\n",
    "    \"\"\"Load stacks from file.\n",
    "    \n",
    "    Does not work if any stack is empty.\"\"\"\n",
    "    stacks = {}\n",
    "    for l in data.splitlines():\n",
    "        nstacks = (len(l)+1)//4\n",
    "        found_any = False\n",
    "        for i in range(nstacks):\n",
    "            if m := re.search(\"\\[([A-Z])\\]\", l[4*i:4*i+3]):\n",
    "                found_any |= True\n",
    "                crate = m.group(1)\n",
    "                if i + 1 in stacks:\n",
    "                    stacks[i + 1].append(crate)\n",
    "                else:\n",
    "                    stacks[i + 1] = [crate]\n",
    "        if not found_any:\n",
    "            return dict(sorted(stacks.items()))"
   ]
  },
  {
   "cell_type": "code",
   "execution_count": 4,
   "metadata": {
    "execution": {
     "iopub.execute_input": "2022-12-14T13:32:09.187265Z",
     "iopub.status.busy": "2022-12-14T13:32:09.186985Z",
     "iopub.status.idle": "2022-12-14T13:32:09.195194Z",
     "shell.execute_reply": "2022-12-14T13:32:09.194692Z",
     "shell.execute_reply.started": "2022-12-14T13:32:09.187229Z"
    },
    "tags": []
   },
   "outputs": [],
   "source": [
    "stacks = load_stacks(data)\n",
    "for l in data.splitlines():\n",
    "    if m := re.search(\"move ([0-9]+) from ([0-9]+) to ([0-9]+)\", l):\n",
    "        quantity, from_, to = (int(v) for v in m.groups())\n",
    "        stacks[to] = stacks[from_][:quantity][::-1] + stacks[to]\n",
    "        stacks[from_] = stacks[from_][quantity:]"
   ]
  },
  {
   "cell_type": "code",
   "execution_count": 5,
   "metadata": {
    "execution": {
     "iopub.execute_input": "2022-12-14T13:32:09.196031Z",
     "iopub.status.busy": "2022-12-14T13:32:09.195890Z",
     "iopub.status.idle": "2022-12-14T13:32:09.206455Z",
     "shell.execute_reply": "2022-12-14T13:32:09.205945Z",
     "shell.execute_reply.started": "2022-12-14T13:32:09.196015Z"
    },
    "tags": []
   },
   "outputs": [
    {
     "data": {
      "text/plain": [
       "'TLFGBZHCN'"
      ]
     },
     "execution_count": 5,
     "metadata": {},
     "output_type": "execute_result"
    }
   ],
   "source": [
    "\"\".join(stack[0] for _, stack in stacks.items())"
   ]
  },
  {
   "cell_type": "markdown",
   "metadata": {},
   "source": [
    "# Part 2"
   ]
  },
  {
   "cell_type": "code",
   "execution_count": 6,
   "metadata": {
    "execution": {
     "iopub.execute_input": "2022-12-14T13:32:09.207815Z",
     "iopub.status.busy": "2022-12-14T13:32:09.207653Z",
     "iopub.status.idle": "2022-12-14T13:32:09.213485Z",
     "shell.execute_reply": "2022-12-14T13:32:09.213049Z",
     "shell.execute_reply.started": "2022-12-14T13:32:09.207797Z"
    },
    "tags": []
   },
   "outputs": [],
   "source": [
    "stacks = load_stacks(data)\n",
    "for l in data.splitlines():\n",
    "    if m := re.search(\"move ([0-9]+) from ([0-9]+) to ([0-9]+)\", l):\n",
    "        quantity, from_, to = (int(v) for v in m.groups())\n",
    "        stacks[to] = stacks[from_][:quantity] + stacks[to]\n",
    "        stacks[from_] = stacks[from_][quantity:]"
   ]
  },
  {
   "cell_type": "code",
   "execution_count": 7,
   "metadata": {
    "execution": {
     "iopub.execute_input": "2022-12-14T13:32:09.214312Z",
     "iopub.status.busy": "2022-12-14T13:32:09.214169Z",
     "iopub.status.idle": "2022-12-14T13:32:09.220217Z",
     "shell.execute_reply": "2022-12-14T13:32:09.219515Z",
     "shell.execute_reply.started": "2022-12-14T13:32:09.214294Z"
    },
    "tags": []
   },
   "outputs": [
    {
     "data": {
      "text/plain": [
       "'QRQFHFWCL'"
      ]
     },
     "execution_count": 7,
     "metadata": {},
     "output_type": "execute_result"
    }
   ],
   "source": [
    "\"\".join(stack[0] for _, stack in stacks.items())"
   ]
  },
  {
   "cell_type": "code",
   "execution_count": null,
   "metadata": {},
   "outputs": [],
   "source": []
  }
 ],
 "metadata": {
  "kernelspec": {
   "display_name": "Python 3",
   "language": "python",
   "name": "python3"
  },
  "language_info": {
   "codemirror_mode": {
    "name": "ipython",
    "version": 3
   },
   "file_extension": ".py",
   "mimetype": "text/x-python",
   "name": "python",
   "nbconvert_exporter": "python",
   "pygments_lexer": "ipython3",
   "version": "3.8.5"
  }
 },
 "nbformat": 4,
 "nbformat_minor": 4
}
