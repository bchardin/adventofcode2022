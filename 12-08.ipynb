{
 "cells": [
  {
   "cell_type": "markdown",
   "metadata": {},
   "source": [
    "# Part 1"
   ]
  },
  {
   "cell_type": "code",
   "execution_count": 1,
   "metadata": {
    "execution": {
     "iopub.execute_input": "2022-12-08T13:41:19.029337Z",
     "iopub.status.busy": "2022-12-08T13:41:19.028924Z",
     "iopub.status.idle": "2022-12-08T13:41:19.097803Z",
     "shell.execute_reply": "2022-12-08T13:41:19.097168Z",
     "shell.execute_reply.started": "2022-12-08T13:41:19.029211Z"
    },
    "tags": []
   },
   "outputs": [],
   "source": [
    "import numpy as np"
   ]
  },
  {
   "cell_type": "code",
   "execution_count": 2,
   "metadata": {
    "execution": {
     "iopub.execute_input": "2022-12-08T13:41:19.099566Z",
     "iopub.status.busy": "2022-12-08T13:41:19.099133Z",
     "iopub.status.idle": "2022-12-08T13:41:19.102513Z",
     "shell.execute_reply": "2022-12-08T13:41:19.101756Z",
     "shell.execute_reply.started": "2022-12-08T13:41:19.099535Z"
    },
    "tags": []
   },
   "outputs": [],
   "source": [
    "input_ = \"12-08.txt\""
   ]
  },
  {
   "cell_type": "code",
   "execution_count": 3,
   "metadata": {
    "execution": {
     "iopub.execute_input": "2022-12-08T13:41:19.104341Z",
     "iopub.status.busy": "2022-12-08T13:41:19.103750Z",
     "iopub.status.idle": "2022-12-08T13:41:19.112709Z",
     "shell.execute_reply": "2022-12-08T13:41:19.112023Z",
     "shell.execute_reply.started": "2022-12-08T13:41:19.104308Z"
    },
    "tags": []
   },
   "outputs": [],
   "source": [
    "with open(input_, \"r\") as f:\n",
    "    grid = np.array([[int(height) for height in l] for l in f.read().splitlines()])"
   ]
  },
  {
   "cell_type": "code",
   "execution_count": 4,
   "metadata": {
    "execution": {
     "iopub.execute_input": "2022-12-08T13:41:19.113703Z",
     "iopub.status.busy": "2022-12-08T13:41:19.113531Z",
     "iopub.status.idle": "2022-12-08T13:41:19.255839Z",
     "shell.execute_reply": "2022-12-08T13:41:19.255356Z",
     "shell.execute_reply.started": "2022-12-08T13:41:19.113682Z"
    },
    "tags": []
   },
   "outputs": [],
   "source": [
    "visible = np.zeros(grid.shape, dtype=np.int32)\n",
    "for (i, j), v in np.ndenumerate(grid):\n",
    "    visible[i, j] = (\n",
    "        (grid[:i, j] < v).all() or\n",
    "        (grid[i+1:, j] < v).all() or\n",
    "        (grid[i, :j] < v).all() or\n",
    "        (grid[i, j+1:] < v).all()\n",
    "    )"
   ]
  },
  {
   "cell_type": "code",
   "execution_count": 5,
   "metadata": {
    "execution": {
     "iopub.execute_input": "2022-12-08T13:41:19.256891Z",
     "iopub.status.busy": "2022-12-08T13:41:19.256669Z",
     "iopub.status.idle": "2022-12-08T13:41:19.265787Z",
     "shell.execute_reply": "2022-12-08T13:41:19.265020Z",
     "shell.execute_reply.started": "2022-12-08T13:41:19.256863Z"
    },
    "tags": []
   },
   "outputs": [
    {
     "data": {
      "text/plain": [
       "1647"
      ]
     },
     "execution_count": 5,
     "metadata": {},
     "output_type": "execute_result"
    }
   ],
   "source": [
    "visible.sum()"
   ]
  },
  {
   "cell_type": "markdown",
   "metadata": {},
   "source": [
    "# Part 2"
   ]
  },
  {
   "cell_type": "code",
   "execution_count": 6,
   "metadata": {
    "execution": {
     "iopub.execute_input": "2022-12-08T13:41:19.267525Z",
     "iopub.status.busy": "2022-12-08T13:41:19.267210Z",
     "iopub.status.idle": "2022-12-08T13:41:19.272623Z",
     "shell.execute_reply": "2022-12-08T13:41:19.271890Z",
     "shell.execute_reply.started": "2022-12-08T13:41:19.267488Z"
    },
    "tags": []
   },
   "outputs": [],
   "source": [
    "def line_score(line, height):\n",
    "    visible = line < height\n",
    "    if 0 not in visible:\n",
    "        return len(line)\n",
    "    else:\n",
    "        return np.argmin(visible) + 1"
   ]
  },
  {
   "cell_type": "code",
   "execution_count": 7,
   "metadata": {
    "execution": {
     "iopub.execute_input": "2022-12-08T13:41:19.278027Z",
     "iopub.status.busy": "2022-12-08T13:41:19.277709Z",
     "iopub.status.idle": "2022-12-08T13:41:19.634022Z",
     "shell.execute_reply": "2022-12-08T13:41:19.632966Z",
     "shell.execute_reply.started": "2022-12-08T13:41:19.277990Z"
    },
    "tags": []
   },
   "outputs": [],
   "source": [
    "scores = np.zeros(grid.shape, dtype=np.int32)\n",
    "for (i, j), v in np.ndenumerate(grid):\n",
    "    scores[i, j] = (\n",
    "        line_score(grid[:i, j][::-1], v) *\n",
    "        line_score(grid[i+1:, j], v) *\n",
    "        line_score(grid[i, :j][::-1], v) *\n",
    "        line_score(grid[i, j+1:], v)\n",
    "    )"
   ]
  },
  {
   "cell_type": "code",
   "execution_count": 8,
   "metadata": {
    "execution": {
     "iopub.execute_input": "2022-12-08T13:41:19.634872Z",
     "iopub.status.busy": "2022-12-08T13:41:19.634739Z",
     "iopub.status.idle": "2022-12-08T13:41:19.640158Z",
     "shell.execute_reply": "2022-12-08T13:41:19.639342Z",
     "shell.execute_reply.started": "2022-12-08T13:41:19.634856Z"
    },
    "tags": []
   },
   "outputs": [
    {
     "data": {
      "text/plain": [
       "392080"
      ]
     },
     "execution_count": 8,
     "metadata": {},
     "output_type": "execute_result"
    }
   ],
   "source": [
    "scores.max()"
   ]
  },
  {
   "cell_type": "code",
   "execution_count": null,
   "metadata": {},
   "outputs": [],
   "source": []
  }
 ],
 "metadata": {
  "kernelspec": {
   "display_name": "Python 3",
   "language": "python",
   "name": "python3"
  },
  "language_info": {
   "codemirror_mode": {
    "name": "ipython",
    "version": 3
   },
   "file_extension": ".py",
   "mimetype": "text/x-python",
   "name": "python",
   "nbconvert_exporter": "python",
   "pygments_lexer": "ipython3",
   "version": "3.8.5"
  }
 },
 "nbformat": 4,
 "nbformat_minor": 4
}
