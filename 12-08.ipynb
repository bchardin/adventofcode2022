{
 "cells": [
  {
   "cell_type": "markdown",
   "metadata": {},
   "source": [
    "# Part 1"
   ]
  },
  {
   "cell_type": "code",
   "execution_count": 1,
   "metadata": {
    "execution": {
     "iopub.execute_input": "2022-12-14T13:34:12.640336Z",
     "iopub.status.busy": "2022-12-14T13:34:12.639911Z",
     "iopub.status.idle": "2022-12-14T13:34:12.717406Z",
     "shell.execute_reply": "2022-12-14T13:34:12.716753Z",
     "shell.execute_reply.started": "2022-12-14T13:34:12.640208Z"
    },
    "tags": []
   },
   "outputs": [],
   "source": [
    "import numpy as np"
   ]
  },
  {
   "cell_type": "code",
   "execution_count": 2,
   "metadata": {
    "execution": {
     "iopub.execute_input": "2022-12-14T13:34:12.719233Z",
     "iopub.status.busy": "2022-12-14T13:34:12.718810Z",
     "iopub.status.idle": "2022-12-14T13:34:12.722805Z",
     "shell.execute_reply": "2022-12-14T13:34:12.722116Z",
     "shell.execute_reply.started": "2022-12-14T13:34:12.719203Z"
    },
    "tags": []
   },
   "outputs": [],
   "source": [
    "filename = \"inputs/12-08.txt\"\n",
    "with open(filename, \"r\") as f:\n",
    "    data = f.read()"
   ]
  },
  {
   "cell_type": "code",
   "execution_count": 3,
   "metadata": {
    "execution": {
     "iopub.execute_input": "2022-12-14T13:34:12.724385Z",
     "iopub.status.busy": "2022-12-14T13:34:12.723861Z",
     "iopub.status.idle": "2022-12-14T13:34:12.733604Z",
     "shell.execute_reply": "2022-12-14T13:34:12.732899Z",
     "shell.execute_reply.started": "2022-12-14T13:34:12.724352Z"
    },
    "tags": []
   },
   "outputs": [],
   "source": [
    "grid = np.array([[int(height) for height in l] for l in data.splitlines()])"
   ]
  },
  {
   "cell_type": "code",
   "execution_count": 4,
   "metadata": {
    "execution": {
     "iopub.execute_input": "2022-12-14T13:34:12.734885Z",
     "iopub.status.busy": "2022-12-14T13:34:12.734645Z",
     "iopub.status.idle": "2022-12-14T13:34:12.874190Z",
     "shell.execute_reply": "2022-12-14T13:34:12.873089Z",
     "shell.execute_reply.started": "2022-12-14T13:34:12.734855Z"
    },
    "tags": []
   },
   "outputs": [],
   "source": [
    "visible = np.zeros(grid.shape, dtype=np.int32)\n",
    "for (i, j), v in np.ndenumerate(grid):\n",
    "    visible[i, j] = (\n",
    "        (grid[:i, j] < v).all() or\n",
    "        (grid[i+1:, j] < v).all() or\n",
    "        (grid[i, :j] < v).all() or\n",
    "        (grid[i, j+1:] < v).all()\n",
    "    )"
   ]
  },
  {
   "cell_type": "code",
   "execution_count": 5,
   "metadata": {
    "execution": {
     "iopub.execute_input": "2022-12-14T13:34:12.875064Z",
     "iopub.status.busy": "2022-12-14T13:34:12.874920Z",
     "iopub.status.idle": "2022-12-14T13:34:12.889240Z",
     "shell.execute_reply": "2022-12-14T13:34:12.888366Z",
     "shell.execute_reply.started": "2022-12-14T13:34:12.875047Z"
    },
    "tags": []
   },
   "outputs": [
    {
     "data": {
      "text/plain": [
       "1647"
      ]
     },
     "execution_count": 5,
     "metadata": {},
     "output_type": "execute_result"
    }
   ],
   "source": [
    "visible.sum()"
   ]
  },
  {
   "cell_type": "markdown",
   "metadata": {},
   "source": [
    "# Part 2"
   ]
  },
  {
   "cell_type": "code",
   "execution_count": 6,
   "metadata": {
    "execution": {
     "iopub.execute_input": "2022-12-14T13:34:12.891108Z",
     "iopub.status.busy": "2022-12-14T13:34:12.890796Z",
     "iopub.status.idle": "2022-12-14T13:34:12.897989Z",
     "shell.execute_reply": "2022-12-14T13:34:12.897137Z",
     "shell.execute_reply.started": "2022-12-14T13:34:12.891073Z"
    },
    "tags": []
   },
   "outputs": [],
   "source": [
    "def line_score(line, height):\n",
    "    visible = line < height\n",
    "    if 0 not in visible:\n",
    "        return len(line)\n",
    "    else:\n",
    "        return np.argmin(visible) + 1"
   ]
  },
  {
   "cell_type": "code",
   "execution_count": 7,
   "metadata": {
    "execution": {
     "iopub.execute_input": "2022-12-14T13:34:12.899746Z",
     "iopub.status.busy": "2022-12-14T13:34:12.899548Z",
     "iopub.status.idle": "2022-12-14T13:34:13.236529Z",
     "shell.execute_reply": "2022-12-14T13:34:13.235733Z",
     "shell.execute_reply.started": "2022-12-14T13:34:12.899723Z"
    },
    "tags": []
   },
   "outputs": [],
   "source": [
    "scores = np.zeros(grid.shape, dtype=np.int32)\n",
    "for (i, j), v in np.ndenumerate(grid):\n",
    "    scores[i, j] = (\n",
    "        line_score(grid[:i, j][::-1], v) *\n",
    "        line_score(grid[i+1:, j], v) *\n",
    "        line_score(grid[i, :j][::-1], v) *\n",
    "        line_score(grid[i, j+1:], v)\n",
    "    )"
   ]
  },
  {
   "cell_type": "code",
   "execution_count": 8,
   "metadata": {
    "execution": {
     "iopub.execute_input": "2022-12-14T13:34:13.237508Z",
     "iopub.status.busy": "2022-12-14T13:34:13.237361Z",
     "iopub.status.idle": "2022-12-14T13:34:13.243141Z",
     "shell.execute_reply": "2022-12-14T13:34:13.242060Z",
     "shell.execute_reply.started": "2022-12-14T13:34:13.237491Z"
    },
    "tags": []
   },
   "outputs": [
    {
     "data": {
      "text/plain": [
       "392080"
      ]
     },
     "execution_count": 8,
     "metadata": {},
     "output_type": "execute_result"
    }
   ],
   "source": [
    "scores.max()"
   ]
  },
  {
   "cell_type": "code",
   "execution_count": null,
   "metadata": {},
   "outputs": [],
   "source": []
  }
 ],
 "metadata": {
  "kernelspec": {
   "display_name": "Python 3",
   "language": "python",
   "name": "python3"
  },
  "language_info": {
   "codemirror_mode": {
    "name": "ipython",
    "version": 3
   },
   "file_extension": ".py",
   "mimetype": "text/x-python",
   "name": "python",
   "nbconvert_exporter": "python",
   "pygments_lexer": "ipython3",
   "version": "3.8.5"
  }
 },
 "nbformat": 4,
 "nbformat_minor": 4
}
