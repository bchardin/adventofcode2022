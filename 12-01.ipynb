{
 "cells": [
  {
   "cell_type": "code",
   "execution_count": 1,
   "id": "35e7124b-1a05-48e7-b673-59444fe9d08b",
   "metadata": {
    "execution": {
     "iopub.execute_input": "2022-12-14T13:26:11.928361Z",
     "iopub.status.busy": "2022-12-14T13:26:11.927836Z",
     "iopub.status.idle": "2022-12-14T13:26:11.992762Z",
     "shell.execute_reply": "2022-12-14T13:26:11.992085Z",
     "shell.execute_reply.started": "2022-12-14T13:26:11.928220Z"
    },
    "tags": []
   },
   "outputs": [],
   "source": [
    "import numpy as np"
   ]
  },
  {
   "cell_type": "code",
   "execution_count": 2,
   "id": "40f13244-995f-499f-9e59-87ef845318c5",
   "metadata": {
    "execution": {
     "iopub.execute_input": "2022-12-14T13:26:11.994349Z",
     "iopub.status.busy": "2022-12-14T13:26:11.993932Z",
     "iopub.status.idle": "2022-12-14T13:26:11.997865Z",
     "shell.execute_reply": "2022-12-14T13:26:11.997308Z",
     "shell.execute_reply.started": "2022-12-14T13:26:11.994318Z"
    },
    "tags": []
   },
   "outputs": [],
   "source": [
    "filename = \"inputs/12-01.txt\"\n",
    "with open(filename, \"r\") as f:\n",
    "    data = f.read()"
   ]
  },
  {
   "cell_type": "code",
   "execution_count": 3,
   "id": "57436d24-d37a-4a39-a18f-13ca0a28eee7",
   "metadata": {
    "execution": {
     "iopub.execute_input": "2022-12-14T13:26:11.999547Z",
     "iopub.status.busy": "2022-12-14T13:26:11.998980Z",
     "iopub.status.idle": "2022-12-14T13:26:12.013004Z",
     "shell.execute_reply": "2022-12-14T13:26:12.012151Z",
     "shell.execute_reply.started": "2022-12-14T13:26:11.999516Z"
    },
    "tags": []
   },
   "outputs": [
    {
     "name": "stdout",
     "output_type": "stream",
     "text": [
      "The most Calories is 71780.\n",
      "The three most loaded Elves carry a total of 212489 Calories.\n"
     ]
    }
   ],
   "source": [
    "carry = []\n",
    "current = 0\n",
    "for line in data.splitlines():\n",
    "    if not line:\n",
    "        carry.append(current)\n",
    "        current = 0\n",
    "    else:\n",
    "        current += int(line)\n",
    "carry = np.array(carry)\n",
    "print(f\"The most Calories is {np.max(carry)}.\")\n",
    "print(f\"The three most loaded Elves carry a total of {np.sort(carry)[-3:].sum()} Calories.\")"
   ]
  },
  {
   "cell_type": "code",
   "execution_count": null,
   "id": "5af53375-6b5b-4ce2-b660-342592e20d9d",
   "metadata": {},
   "outputs": [],
   "source": []
  }
 ],
 "metadata": {
  "kernelspec": {
   "display_name": "Python 3",
   "language": "python",
   "name": "python3"
  },
  "language_info": {
   "codemirror_mode": {
    "name": "ipython",
    "version": 3
   },
   "file_extension": ".py",
   "mimetype": "text/x-python",
   "name": "python",
   "nbconvert_exporter": "python",
   "pygments_lexer": "ipython3",
   "version": "3.8.5"
  }
 },
 "nbformat": 4,
 "nbformat_minor": 5
}
