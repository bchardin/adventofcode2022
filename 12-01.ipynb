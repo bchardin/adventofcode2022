{
 "cells": [
  {
   "cell_type": "code",
   "execution_count": 1,
   "id": "35e7124b-1a05-48e7-b673-59444fe9d08b",
   "metadata": {},
   "outputs": [],
   "source": [
    "import numpy as np"
   ]
  },
  {
   "cell_type": "code",
   "execution_count": 2,
   "id": "57436d24-d37a-4a39-a18f-13ca0a28eee7",
   "metadata": {},
   "outputs": [
    {
     "name": "stdout",
     "output_type": "stream",
     "text": [
      "The most Calories is 71780.\n",
      "The three most loaded Elves carry a total of 212489 Calories.\n"
     ]
    }
   ],
   "source": [
    "carry = []\n",
    "with open('12-01.txt', 'r') as f:\n",
    "    current = 0\n",
    "    for line in f:\n",
    "        if line == '\\n':\n",
    "            carry.append(current)\n",
    "            current = 0\n",
    "        else:\n",
    "            current += int(line)\n",
    "carry = np.array(carry)\n",
    "print(f\"The most Calories is {np.max(carry)}.\")\n",
    "print(f\"The three most loaded Elves carry a total of {np.sort(carry)[-3:].sum()} Calories.\")"
   ]
  },
  {
   "cell_type": "code",
   "execution_count": null,
   "id": "5af53375-6b5b-4ce2-b660-342592e20d9d",
   "metadata": {},
   "outputs": [],
   "source": []
  }
 ],
 "metadata": {
  "kernelspec": {
   "display_name": "Python 3 (ipykernel)",
   "language": "python",
   "name": "python3"
  },
  "language_info": {
   "codemirror_mode": {
    "name": "ipython",
    "version": 3
   },
   "file_extension": ".py",
   "mimetype": "text/x-python",
   "name": "python",
   "nbconvert_exporter": "python",
   "pygments_lexer": "ipython3",
   "version": "3.10.5"
  }
 },
 "nbformat": 4,
 "nbformat_minor": 5
}
