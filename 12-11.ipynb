{
 "cells": [
  {
   "cell_type": "markdown",
   "id": "d18a487b-829b-437f-872d-a1693b0800a4",
   "metadata": {},
   "source": [
    "# Part 1"
   ]
  },
  {
   "cell_type": "code",
   "execution_count": 1,
   "id": "e3f3ad80-3db4-440b-9aa4-e53bf4561739",
   "metadata": {},
   "outputs": [],
   "source": [
    "import pyparsing as pp\n",
    "import numpy as np\n",
    "from functools import partial"
   ]
  },
  {
   "cell_type": "code",
   "execution_count": 2,
   "id": "0d1d9daf-9854-4f21-b6e8-59ff92128709",
   "metadata": {},
   "outputs": [],
   "source": [
    "uint = pp.Word(pp.nums).set_parse_action(lambda toks: int(toks[0]))\n",
    "monkey = pp.Suppress(\"Monkey\") + uint(\"monkey_id\") + pp.Suppress(\":\")\n",
    "\n",
    "starting_items = pp.Suppress(\"Starting items:\") + pp.delimited_list(uint)\n",
    "\n",
    "def operation_func(string, location, tokens):\n",
    "    \"\"\"Unused, lambdas being unfortunately much slower\"\"\"\n",
    "    if tokens.operator == op_add:\n",
    "        return lambda x : (x if tokens[0] == old else tokens[0]) + (x if tokens[2] == old else tokens[2])\n",
    "    elif tokens.operator == op_mult:\n",
    "        return lambda x : (x if tokens[0] == old else tokens[0]) * (x if tokens[2] == old else tokens[2])\n",
    "    else:\n",
    "        raise ValueError(\"Unsupported operation\")\n",
    "\n",
    "def operation_func(string, location, tokens):\n",
    "    if not tokens[0] == old:\n",
    "        raise ValueError(\"Unsupported left operand\")\n",
    "    if tokens.operator == op_add:\n",
    "        if tokens[2] == old:\n",
    "            return partial(int.__mul__, 2)\n",
    "        else:\n",
    "            return partial(int.__add__, tokens[2])\n",
    "    elif tokens.operator == op_mult:\n",
    "        if tokens[2] == old:\n",
    "            return partial(pow, exp=2)\n",
    "        else:\n",
    "            return partial(int.__mul__, tokens[2])\n",
    "    else:\n",
    "        raise ValueError(\"Unsupported operation\")\n",
    "\n",
    "op_add = pp.Literal(\"+\")\n",
    "op_mult = pp.Literal(\"*\")\n",
    "op = op_add | op_mult\n",
    "old = pp.Literal(\"old\")\n",
    "variable = old | uint\n",
    "operation = pp.Suppress(\"Operation: new =\") + variable + op(\"operator\") + variable\n",
    "operation.setParseAction(operation_func)\n",
    "\n",
    "test_true = pp.Suppress(\"If true: throw to monkey\") + uint(\"true_target\")\n",
    "test_false = pp.Suppress(\"If false: throw to monkey\") + uint(\"false_target\")\n",
    "test_result = test_true + test_false | test_false + test_true\n",
    "test = pp.Suppress(\"Test: divisible by\") + uint(\"divisor\") + test_result\n",
    "\n",
    "expr = monkey + starting_items(\"item_list\") + operation(\"operation\") + test"
   ]
  },
  {
   "cell_type": "code",
   "execution_count": 3,
   "id": "1ab0ba19-ebdd-4ec4-bba5-f0cf930273b5",
   "metadata": {},
   "outputs": [],
   "source": [
    "filename = \"12-11.txt\"\n",
    "with open(filename, \"r\") as f:\n",
    "    data = f.read()"
   ]
  },
  {
   "cell_type": "code",
   "execution_count": 4,
   "id": "2390efa1-f21f-43cf-b9ba-465fbcc63259",
   "metadata": {},
   "outputs": [],
   "source": [
    "def init_monkeys(data):\n",
    "    monkeys = {}\n",
    "    for r, *_ in expr.scan_string(data):\n",
    "        monkeys[r.monkey_id] = {\n",
    "            \"items\": r.item_list.as_list(),\n",
    "            \"operation\": r.operation,\n",
    "            \"divisor\": r.divisor,\n",
    "            \"true_target\": r.true_target,\n",
    "            \"false_target\": r.false_target,\n",
    "            \"inspect\": 0\n",
    "        }\n",
    "    return monkeys"
   ]
  },
  {
   "cell_type": "code",
   "execution_count": 5,
   "id": "896bc8fc-84d3-48f6-abb3-4d8539f5e93b",
   "metadata": {},
   "outputs": [
    {
     "name": "stdout",
     "output_type": "stream",
     "text": [
      "Monkey business is 78678\n"
     ]
    }
   ],
   "source": [
    "monkeys = init_monkeys(data)\n",
    "\n",
    "for _ in range(20):\n",
    "    for monkey in monkeys.values():\n",
    "        for item in monkey[\"items\"]:\n",
    "            monkey[\"inspect\"] += 1\n",
    "            item = monkey[\"operation\"](item)\n",
    "            item = item // 3\n",
    "            if item % monkey[\"divisor\"] == 0:\n",
    "                target = monkey[\"true_target\"]\n",
    "            else:\n",
    "                target = monkey[\"false_target\"]\n",
    "            monkeys[target][\"items\"].append(item)\n",
    "        monkey[\"items\"] = []\n",
    "\n",
    "print(f\"Monkey business is {np.product(sorted([monkey['inspect'] for monkey in monkeys.values()])[-2:], dtype=np.int64)}\")"
   ]
  },
  {
   "cell_type": "markdown",
   "id": "6d652e7c-87e7-4510-b07a-ca3356134a52",
   "metadata": {},
   "source": [
    "# Part 2"
   ]
  },
  {
   "cell_type": "code",
   "execution_count": 6,
   "id": "4efb7751-926e-423d-a5c8-5533e00f6f14",
   "metadata": {},
   "outputs": [
    {
     "name": "stdout",
     "output_type": "stream",
     "text": [
      "Monkey business is 15333249714\n"
     ]
    }
   ],
   "source": [
    "monkeys = init_monkeys(data)\n",
    "lcm = int(np.lcm.reduce([monkey[\"divisor\"] for monkey in monkeys.values()]))\n",
    "\n",
    "for _ in range(10000):\n",
    "    for monkey in monkeys.values():\n",
    "        for item in monkey[\"items\"]:\n",
    "            monkey[\"inspect\"] += 1\n",
    "            item = item % lcm\n",
    "            item = monkey[\"operation\"](item)\n",
    "            if item % monkey[\"divisor\"] == 0:\n",
    "                target = monkey[\"true_target\"]\n",
    "            else:\n",
    "                target = monkey[\"false_target\"]\n",
    "            monkeys[target][\"items\"].append(item)\n",
    "        monkey[\"items\"] = []\n",
    "\n",
    "print(f\"Monkey business is {np.product(sorted([monkey['inspect'] for monkey in monkeys.values()])[-2:], dtype=np.int64)}\")"
   ]
  },
  {
   "cell_type": "code",
   "execution_count": null,
   "id": "c60c31dc-972f-4786-9a7c-8d1702bfbf33",
   "metadata": {},
   "outputs": [],
   "source": []
  }
 ],
 "metadata": {
  "kernelspec": {
   "display_name": "Python 3 (ipykernel)",
   "language": "python",
   "name": "python3"
  },
  "language_info": {
   "codemirror_mode": {
    "name": "ipython",
    "version": 3
   },
   "file_extension": ".py",
   "mimetype": "text/x-python",
   "name": "python",
   "nbconvert_exporter": "python",
   "pygments_lexer": "ipython3",
   "version": "3.10.5"
  }
 },
 "nbformat": 4,
 "nbformat_minor": 5
}
