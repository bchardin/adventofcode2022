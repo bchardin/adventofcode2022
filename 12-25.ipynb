{
 "cells": [
  {
   "cell_type": "markdown",
   "id": "b23b8c8f-15fd-40b8-923b-3beae6c4bb98",
   "metadata": {
    "tags": []
   },
   "source": [
    "# Part 1"
   ]
  },
  {
   "cell_type": "code",
   "execution_count": 1,
   "id": "f624c8b8-d5d3-4475-bccc-80a7c494b14b",
   "metadata": {
    "tags": []
   },
   "outputs": [],
   "source": [
    "filename = \"inputs/12-25.txt\"\n",
    "with open(filename, \"r\") as f:\n",
    "    data = f.read()"
   ]
  },
  {
   "cell_type": "code",
   "execution_count": 2,
   "id": "eeda6b40-ce54-44b0-9645-7bb5d4d69b35",
   "metadata": {},
   "outputs": [],
   "source": [
    "import math"
   ]
  },
  {
   "cell_type": "code",
   "execution_count": 3,
   "id": "7732b5f3-9401-4368-a798-087776098d98",
   "metadata": {},
   "outputs": [],
   "source": [
    "tests = (\n",
    "    (\"=\", -2),\n",
    "    (\"-\", -1),\n",
    "    (\"0\", 0),\n",
    "    (\"1\", 1),\n",
    "    (\"2\", 2),\n",
    "    (\"1=\", 3),\n",
    "    (\"1-\", 4),\n",
    "    (\"10\", 5),\n",
    "    (\"11\", 6),\n",
    "    (\"12\", 7),\n",
    "    (\"2=\", 8),\n",
    "    (\"2-\", 9),\n",
    "    (\"20\", 10),\n",
    "    (\"1=0\", 15),\n",
    "    (\"1-0\", 20),\n",
    "    (\"1=11-2\", 2022),\n",
    "    (\"1-0---0\", 12345),\n",
    "    (\"1121-1110-1=0\", 314159265),\n",
    "    (\"1=-0-2\", 1747),\n",
    "    (\"12111\", 906),\n",
    "    (\"2=0=\", 198),\n",
    "    (\"21\", 11),\n",
    "    (\"2=01\", 201),\n",
    "    (\"111\", 31),\n",
    "    (\"20012\", 1257),\n",
    "    (\"112\", 32),\n",
    "    (\"1=-1=\", 353),\n",
    "    (\"1-12\", 107),\n",
    "    (\"12\", 7),\n",
    "    (\"1=\", 3),\n",
    "    (\"122\", 37),\n",
    ")"
   ]
  },
  {
   "cell_type": "code",
   "execution_count": 4,
   "id": "5b40b4b8-dbb3-429a-8ebb-29b3941c137f",
   "metadata": {},
   "outputs": [],
   "source": [
    "def from_snafu(v):\n",
    "    s = 0\n",
    "    b = 1\n",
    "    values = {\n",
    "        \"=\": -2,\n",
    "        \"-\" : -1,\n",
    "        \"0\": 0,\n",
    "        \"1\": 1,\n",
    "        \"2\": 2,\n",
    "    }\n",
    "    for c in v[::-1]:\n",
    "        s += values[c] * b\n",
    "        b *= 5\n",
    "    return s\n",
    "\n",
    "def to_snafu(v):\n",
    "    values = {\n",
    "        0: \"=\",\n",
    "        1: \"-\",\n",
    "        2: \"0\",\n",
    "        3: \"1\",\n",
    "        4: \"2\",\n",
    "    }\n",
    "    if v < 1:\n",
    "        return values[v + 2]\n",
    "    n = math.ceil(math.log(2 * v - 1, 5))\n",
    "    v += 5**(n+1)/2\n",
    "    b = 5**n\n",
    "    c = \"\"\n",
    "    while b >= 1:\n",
    "        q = int(v // b)\n",
    "        if q > 5:\n",
    "            b /= 5\n",
    "            continue\n",
    "        v -= q * b\n",
    "        b /= 5\n",
    "        c = c + values[q]\n",
    "    return c.lstrip(\"0\")\n",
    "\n",
    "for v, c in tests:\n",
    "    assert from_snafu(v) == c, (v, c, from_snafu(v))\n",
    "    assert to_snafu(c) == v, (v, c, to_snafu(c))"
   ]
  },
  {
   "cell_type": "code",
   "execution_count": 5,
   "id": "f559ce7e-f3e6-4202-890c-3016201737b7",
   "metadata": {},
   "outputs": [
    {
     "name": "stdout",
     "output_type": "stream",
     "text": [
      "2=000=22-0-102=-1001\n"
     ]
    }
   ],
   "source": [
    "s = 0\n",
    "for l in data.splitlines():\n",
    "    s += from_snafu(l)\n",
    "\n",
    "print(to_snafu(s))"
   ]
  },
  {
   "cell_type": "code",
   "execution_count": null,
   "id": "7ed3bd39-8bd8-4817-afe7-b347b0961393",
   "metadata": {},
   "outputs": [],
   "source": []
  }
 ],
 "metadata": {
  "kernelspec": {
   "display_name": "Python 3 (ipykernel)",
   "language": "python",
   "name": "python3"
  },
  "language_info": {
   "codemirror_mode": {
    "name": "ipython",
    "version": 3
   },
   "file_extension": ".py",
   "mimetype": "text/x-python",
   "name": "python",
   "nbconvert_exporter": "python",
   "pygments_lexer": "ipython3",
   "version": "3.10.5"
  }
 },
 "nbformat": 4,
 "nbformat_minor": 5
}
