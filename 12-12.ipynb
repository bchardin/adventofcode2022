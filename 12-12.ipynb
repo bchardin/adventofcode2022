{
 "cells": [
  {
   "cell_type": "markdown",
   "metadata": {},
   "source": [
    "# Part 1"
   ]
  },
  {
   "cell_type": "code",
   "execution_count": 1,
   "metadata": {
    "execution": {
     "iopub.execute_input": "2022-12-14T13:37:37.855397Z",
     "iopub.status.busy": "2022-12-14T13:37:37.854873Z",
     "iopub.status.idle": "2022-12-14T13:37:38.156159Z",
     "shell.execute_reply": "2022-12-14T13:37:38.155135Z",
     "shell.execute_reply.started": "2022-12-14T13:37:37.855254Z"
    },
    "tags": []
   },
   "outputs": [],
   "source": [
    "import numpy as np\n",
    "import networkx as nx"
   ]
  },
  {
   "cell_type": "code",
   "execution_count": 2,
   "metadata": {
    "execution": {
     "iopub.execute_input": "2022-12-14T13:37:38.157500Z",
     "iopub.status.busy": "2022-12-14T13:37:38.157289Z",
     "iopub.status.idle": "2022-12-14T13:37:38.160760Z",
     "shell.execute_reply": "2022-12-14T13:37:38.160249Z",
     "shell.execute_reply.started": "2022-12-14T13:37:38.157472Z"
    },
    "tags": []
   },
   "outputs": [],
   "source": [
    "filename = \"inputs/12-12.txt\"\n",
    "with open(filename, \"r\") as f:\n",
    "    data = f.read()"
   ]
  },
  {
   "cell_type": "code",
   "execution_count": 3,
   "metadata": {
    "execution": {
     "iopub.execute_input": "2022-12-14T13:37:38.161608Z",
     "iopub.status.busy": "2022-12-14T13:37:38.161473Z",
     "iopub.status.idle": "2022-12-14T13:37:38.168712Z",
     "shell.execute_reply": "2022-12-14T13:37:38.168079Z",
     "shell.execute_reply.started": "2022-12-14T13:37:38.161591Z"
    },
    "tags": []
   },
   "outputs": [],
   "source": [
    "elevation = np.array([[int(c, 36) - 9 for c in s] for s in data.replace('S', 'a').replace('E', 'z').splitlines()])\n",
    "source, destination = (\n",
    "    (\n",
    "        data.find(c) // (elevation.shape[1] + 1),\n",
    "        data.find(c) % (elevation.shape[1] + 1)\n",
    "    )\n",
    "    for c in \"SE\"\n",
    ")"
   ]
  },
  {
   "cell_type": "code",
   "execution_count": 4,
   "metadata": {
    "execution": {
     "iopub.execute_input": "2022-12-14T13:37:38.169612Z",
     "iopub.status.busy": "2022-12-14T13:37:38.169465Z",
     "iopub.status.idle": "2022-12-14T13:37:38.177317Z",
     "shell.execute_reply": "2022-12-14T13:37:38.176755Z",
     "shell.execute_reply.started": "2022-12-14T13:37:38.169595Z"
    },
    "tags": []
   },
   "outputs": [],
   "source": [
    "def add_edge(G, elevation, from_, to_):\n",
    "    \"\"\"The distance between from_ and to_ should be exactly one.\"\"\"\n",
    "    if any(idx < 0 or idx >= elevation.shape[i] for coord in [from_, to_] for i, idx in enumerate(coord)):\n",
    "        return\n",
    "    if elevation[to_] - elevation[from_] <= 1:\n",
    "        G.add_edge(from_, to_)"
   ]
  },
  {
   "cell_type": "code",
   "execution_count": 5,
   "metadata": {
    "execution": {
     "iopub.execute_input": "2022-12-14T13:37:38.178224Z",
     "iopub.status.busy": "2022-12-14T13:37:38.178073Z",
     "iopub.status.idle": "2022-12-14T13:37:38.281541Z",
     "shell.execute_reply": "2022-12-14T13:37:38.281031Z",
     "shell.execute_reply.started": "2022-12-14T13:37:38.178206Z"
    },
    "tags": []
   },
   "outputs": [],
   "source": [
    "G = nx.DiGraph()\n",
    "G.add_nodes_from(np.ndindex(elevation.shape))\n",
    "for i, j in np.ndindex(elevation.shape):\n",
    "    for di, dj in [(-1, 0), (1, 0), (0, -1), (0, 1)]:\n",
    "        add_edge(G, elevation, (i, j), (i+di, j+dj))"
   ]
  },
  {
   "cell_type": "code",
   "execution_count": 6,
   "metadata": {
    "execution": {
     "iopub.execute_input": "2022-12-14T13:37:38.282430Z",
     "iopub.status.busy": "2022-12-14T13:37:38.282222Z",
     "iopub.status.idle": "2022-12-14T13:37:38.296778Z",
     "shell.execute_reply": "2022-12-14T13:37:38.296085Z",
     "shell.execute_reply.started": "2022-12-14T13:37:38.282413Z"
    },
    "tags": []
   },
   "outputs": [
    {
     "data": {
      "text/plain": [
       "472"
      ]
     },
     "execution_count": 6,
     "metadata": {},
     "output_type": "execute_result"
    }
   ],
   "source": [
    "nx.shortest_path_length(G, source=source, target=destination)"
   ]
  },
  {
   "cell_type": "markdown",
   "metadata": {},
   "source": [
    "# Part 2"
   ]
  },
  {
   "cell_type": "code",
   "execution_count": 7,
   "metadata": {
    "execution": {
     "iopub.execute_input": "2022-12-14T13:37:38.301054Z",
     "iopub.status.busy": "2022-12-14T13:37:38.300051Z",
     "iopub.status.idle": "2022-12-14T13:37:38.326363Z",
     "shell.execute_reply": "2022-12-14T13:37:38.325443Z",
     "shell.execute_reply.started": "2022-12-14T13:37:38.300948Z"
    },
    "tags": []
   },
   "outputs": [
    {
     "data": {
      "text/plain": [
       "465"
      ]
     },
     "execution_count": 7,
     "metadata": {},
     "output_type": "execute_result"
    }
   ],
   "source": [
    "lengths = nx.shortest_path_length(G, target=destination)\n",
    "min(lengths[s] for s in zip(*np.where(elevation == 1)) if s in lengths)"
   ]
  },
  {
   "cell_type": "code",
   "execution_count": null,
   "metadata": {},
   "outputs": [],
   "source": []
  }
 ],
 "metadata": {
  "kernelspec": {
   "display_name": "Python 3",
   "language": "python",
   "name": "python3"
  },
  "language_info": {
   "codemirror_mode": {
    "name": "ipython",
    "version": 3
   },
   "file_extension": ".py",
   "mimetype": "text/x-python",
   "name": "python",
   "nbconvert_exporter": "python",
   "pygments_lexer": "ipython3",
   "version": "3.8.5"
  }
 },
 "nbformat": 4,
 "nbformat_minor": 4
}
