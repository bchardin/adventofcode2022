{
 "cells": [
  {
   "cell_type": "markdown",
   "metadata": {},
   "source": [
    "# Part 1"
   ]
  },
  {
   "cell_type": "code",
   "execution_count": 1,
   "metadata": {
    "execution": {
     "iopub.execute_input": "2022-12-12T10:58:00.423729Z",
     "iopub.status.busy": "2022-12-12T10:58:00.423310Z",
     "iopub.status.idle": "2022-12-12T10:58:00.720472Z",
     "shell.execute_reply": "2022-12-12T10:58:00.719570Z",
     "shell.execute_reply.started": "2022-12-12T10:58:00.423606Z"
    },
    "tags": []
   },
   "outputs": [],
   "source": [
    "import numpy as np\n",
    "import networkx as nx"
   ]
  },
  {
   "cell_type": "code",
   "execution_count": 2,
   "metadata": {
    "execution": {
     "iopub.execute_input": "2022-12-12T10:58:00.721478Z",
     "iopub.status.busy": "2022-12-12T10:58:00.721310Z",
     "iopub.status.idle": "2022-12-12T10:58:00.724950Z",
     "shell.execute_reply": "2022-12-12T10:58:00.724049Z",
     "shell.execute_reply.started": "2022-12-12T10:58:00.721460Z"
    },
    "tags": []
   },
   "outputs": [],
   "source": [
    "filename = \"12-12.txt\"\n",
    "with open(filename, \"r\") as f:\n",
    "    data = f.read()"
   ]
  },
  {
   "cell_type": "code",
   "execution_count": 3,
   "metadata": {
    "execution": {
     "iopub.execute_input": "2022-12-12T10:58:00.726484Z",
     "iopub.status.busy": "2022-12-12T10:58:00.726198Z",
     "iopub.status.idle": "2022-12-12T10:58:00.735791Z",
     "shell.execute_reply": "2022-12-12T10:58:00.734943Z",
     "shell.execute_reply.started": "2022-12-12T10:58:00.726451Z"
    },
    "tags": []
   },
   "outputs": [],
   "source": [
    "elevation = np.array([[int(c, 36) - 9 for c in s] for s in data.replace('S', 'a').replace('E', 'z').splitlines()])\n",
    "source, destination = (\n",
    "    (\n",
    "        data.find(c) // (elevation.shape[1] + 1),\n",
    "        data.find(c) % (elevation.shape[1] + 1)\n",
    "    )\n",
    "    for c in \"SE\"\n",
    ")"
   ]
  },
  {
   "cell_type": "code",
   "execution_count": 4,
   "metadata": {
    "execution": {
     "iopub.execute_input": "2022-12-12T10:58:00.738156Z",
     "iopub.status.busy": "2022-12-12T10:58:00.737673Z",
     "iopub.status.idle": "2022-12-12T10:58:00.745943Z",
     "shell.execute_reply": "2022-12-12T10:58:00.745041Z",
     "shell.execute_reply.started": "2022-12-12T10:58:00.738093Z"
    },
    "tags": []
   },
   "outputs": [],
   "source": [
    "def add_edge(G, elevation, from_, to_):\n",
    "    \"\"\"The distance between from_ and to_ should be exactly one.\"\"\"\n",
    "    if any(idx < 0 or idx >= elevation.shape[i] for coord in [from_, to_] for i, idx in enumerate(coord)):\n",
    "        return\n",
    "    if elevation[to_] - elevation[from_] <= 1:\n",
    "        G.add_edge(from_, to_)"
   ]
  },
  {
   "cell_type": "code",
   "execution_count": 5,
   "metadata": {
    "execution": {
     "iopub.execute_input": "2022-12-12T10:58:00.747816Z",
     "iopub.status.busy": "2022-12-12T10:58:00.747369Z",
     "iopub.status.idle": "2022-12-12T10:58:00.852695Z",
     "shell.execute_reply": "2022-12-12T10:58:00.851904Z",
     "shell.execute_reply.started": "2022-12-12T10:58:00.747771Z"
    },
    "tags": []
   },
   "outputs": [],
   "source": [
    "G = nx.DiGraph()\n",
    "G.add_nodes_from(np.ndindex(elevation.shape))\n",
    "for i, j in np.ndindex(elevation.shape):\n",
    "    for di, dj in [(-1, 0), (1, 0), (0, -1), (0, 1)]:\n",
    "        add_edge(G, elevation, (i, j), (i+di, j+dj))"
   ]
  },
  {
   "cell_type": "code",
   "execution_count": 6,
   "metadata": {
    "execution": {
     "iopub.execute_input": "2022-12-12T10:58:00.853586Z",
     "iopub.status.busy": "2022-12-12T10:58:00.853437Z",
     "iopub.status.idle": "2022-12-12T10:58:00.875954Z",
     "shell.execute_reply": "2022-12-12T10:58:00.874721Z",
     "shell.execute_reply.started": "2022-12-12T10:58:00.853569Z"
    },
    "tags": []
   },
   "outputs": [
    {
     "data": {
      "text/plain": [
       "472"
      ]
     },
     "execution_count": 6,
     "metadata": {},
     "output_type": "execute_result"
    }
   ],
   "source": [
    "nx.shortest_path_length(G, source=source, target=destination)"
   ]
  },
  {
   "cell_type": "markdown",
   "metadata": {},
   "source": [
    "# Part 2"
   ]
  },
  {
   "cell_type": "code",
   "execution_count": 7,
   "metadata": {
    "execution": {
     "iopub.execute_input": "2022-12-12T10:58:00.878154Z",
     "iopub.status.busy": "2022-12-12T10:58:00.877892Z",
     "iopub.status.idle": "2022-12-12T10:58:00.893779Z",
     "shell.execute_reply": "2022-12-12T10:58:00.893157Z",
     "shell.execute_reply.started": "2022-12-12T10:58:00.878123Z"
    },
    "tags": []
   },
   "outputs": [
    {
     "data": {
      "text/plain": [
       "465"
      ]
     },
     "execution_count": 7,
     "metadata": {},
     "output_type": "execute_result"
    }
   ],
   "source": [
    "lengths = nx.shortest_path_length(G, target=destination)\n",
    "min(lengths[s] for s in zip(*np.where(elevation == 1)) if s in lengths)"
   ]
  },
  {
   "cell_type": "code",
   "execution_count": null,
   "metadata": {},
   "outputs": [],
   "source": []
  }
 ],
 "metadata": {
  "kernelspec": {
   "display_name": "Python 3",
   "language": "python",
   "name": "python3"
  },
  "language_info": {
   "codemirror_mode": {
    "name": "ipython",
    "version": 3
   },
   "file_extension": ".py",
   "mimetype": "text/x-python",
   "name": "python",
   "nbconvert_exporter": "python",
   "pygments_lexer": "ipython3",
   "version": "3.8.5"
  }
 },
 "nbformat": 4,
 "nbformat_minor": 4
}
