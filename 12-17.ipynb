{
 "cells": [
  {
   "cell_type": "markdown",
   "id": "17be988d-04b2-4ab5-801c-1ed24837fb34",
   "metadata": {},
   "source": [
    "# Part 1"
   ]
  },
  {
   "cell_type": "code",
   "execution_count": 1,
   "id": "9ba99ba7-474a-40db-a37a-149ef99ba9e5",
   "metadata": {
    "tags": []
   },
   "outputs": [],
   "source": [
    "filename = \"inputs/12-17.txt\"\n",
    "with open(filename, \"r\") as f:\n",
    "    data = f.read()"
   ]
  },
  {
   "cell_type": "code",
   "execution_count": 2,
   "id": "e239b3f7-dca0-4844-8aa0-e20427db24a2",
   "metadata": {},
   "outputs": [],
   "source": [
    "jet = [1 if c == \">\" else -1 for c in data.strip()]"
   ]
  },
  {
   "cell_type": "code",
   "execution_count": 3,
   "id": "fe46e502-0741-486d-aa01-60f8ce6ec220",
   "metadata": {},
   "outputs": [],
   "source": [
    "pieces_str = \"\"\"\n",
    "####\n",
    "\n",
    ".#.\n",
    "###\n",
    ".#.\n",
    "\n",
    "..#\n",
    "..#\n",
    "###\n",
    "\n",
    "#\n",
    "#\n",
    "#\n",
    "#\n",
    "\n",
    "##\n",
    "##\n",
    "\"\"\".strip()"
   ]
  },
  {
   "cell_type": "code",
   "execution_count": 4,
   "id": "ca5ae937-34ec-4540-b102-64a52ced9369",
   "metadata": {},
   "outputs": [],
   "source": [
    "pieces = []\n",
    "for piece_str in pieces_str.split(\"\\n\\n\"):\n",
    "    height = piece_str.count(\"\\n\")\n",
    "    piece = []\n",
    "    for y, l in enumerate(piece_str.split(\"\\n\")):\n",
    "        for x, c in enumerate(l):\n",
    "            if c == \"#\":\n",
    "                piece.append((x, height - y))\n",
    "    pieces.append(tuple(piece))"
   ]
  },
  {
   "cell_type": "code",
   "execution_count": 5,
   "id": "5241f9a0-718d-45f0-8095-672867b72343",
   "metadata": {},
   "outputs": [],
   "source": [
    "checks = {}\n",
    "for p in pieces:\n",
    "    checks[p] = {}\n",
    "    for direction, (dx, dy) in (\n",
    "        (1, (1, 0)),\n",
    "        (-1, (-1, 0)),\n",
    "        (\"v\", (0, -1)),\n",
    "    ):\n",
    "        checks[p][direction] = []\n",
    "        for x, y in p:\n",
    "            if (x + dx, y + dy) not in p:\n",
    "                checks[p][direction].append((x + dx, y + dy))"
   ]
  },
  {
   "cell_type": "code",
   "execution_count": 6,
   "id": "bf3b6753-8ddf-4d8a-8ef6-939e85116150",
   "metadata": {},
   "outputs": [
    {
     "data": {
      "text/plain": [
       "3193"
      ]
     },
     "execution_count": 6,
     "metadata": {},
     "output_type": "execute_result"
    }
   ],
   "source": [
    "j = 0\n",
    "h = 0\n",
    "cave = []\n",
    "for i in range(2022):\n",
    "    px, py = 2, h + 3\n",
    "    p = pieces[i % len(pieces)]\n",
    "    rest = False\n",
    "    while not rest:\n",
    "        # try to move sideways\n",
    "        d = jet[j % len(jet)]\n",
    "        j += 1\n",
    "        blocked = False\n",
    "        for dx, dy in checks[p][d]:\n",
    "            if not 0 <= px + dx <= 6 or (px + dx, py + dy) in cave:\n",
    "                blocked = True\n",
    "        if not blocked:\n",
    "            px += d\n",
    "        # move down\n",
    "        for dx, dy in checks[p][\"v\"]:\n",
    "            if py + dy < 0 or (px + dx, py + dy) in cave:\n",
    "                rest = True\n",
    "        if not rest:\n",
    "            py -= 1\n",
    "        else:\n",
    "            ph = 0\n",
    "            for x, y in p:\n",
    "                cave.append((px + x, py + y))\n",
    "                ph = max(ph, y + 1)\n",
    "            h = max(h, py + ph)\n",
    "h"
   ]
  },
  {
   "cell_type": "markdown",
   "id": "96b486b9-0918-4ec0-be51-6a405aacf57f",
   "metadata": {},
   "source": [
    "# Part 2"
   ]
  },
  {
   "cell_type": "code",
   "execution_count": 7,
   "id": "f9222dc6-cb06-4d38-869f-8583f4bbc99f",
   "metadata": {},
   "outputs": [
    {
     "name": "stdout",
     "output_type": "stream",
     "text": [
      "Cycle of length 1745 with height increase 2753 found at iteration 3486\n",
      "Fast-forward to iteration 999999998986, height increase is 1577650422700\n"
     ]
    },
    {
     "data": {
      "text/plain": [
       "1577650429835"
      ]
     },
     "execution_count": 7,
     "metadata": {},
     "output_type": "execute_result"
    }
   ],
   "source": [
    "j = 0\n",
    "h = 0\n",
    "cave = []\n",
    "cycle = {}\n",
    "iterations = 10**12\n",
    "i = 0\n",
    "ff = False\n",
    "fh = 0\n",
    "while i < iterations:\n",
    "    px, py = 2, h + 3\n",
    "    p = pieces[i % len(pieces)]\n",
    "    rest = False\n",
    "    # try to find a cycle after the first iteration on jet patterns\n",
    "    if not ff and j >= len(jet):\n",
    "        if (i % len(pieces), j % len(jet)) in cycle:\n",
    "            previ, prevj, prevh = cycle[i % len(pieces), j % len(jet)]\n",
    "            print(f\"Cycle of length {i - previ} with height increase {h - prevh} found at iteration {i}\")\n",
    "            # fast-forward to the end\n",
    "            ff = True\n",
    "            fh = ((iterations - 1 - i) // (i - previ)) * (h - prevh)\n",
    "            i += ((iterations - 1 - i) // (i - previ)) * (i - previ)\n",
    "            print(f\"Fast-forward to iteration {i}, height increase is {fh}\")\n",
    "        else:\n",
    "            cycle[i % len(pieces), j % len(jet)] = (i, j, h)\n",
    "    if j == 1:\n",
    "        print(f\"i: {i} ({i % len(pieces)}), di: {i - previ}\")\n",
    "        print(f\"h: {h}, dh: {h - prevh}\")\n",
    "        previ = i\n",
    "        prevh = h\n",
    "    while not rest:\n",
    "        # try to move sideways\n",
    "        d = jet[j % len(jet)]\n",
    "        j += 1\n",
    "        blocked = False\n",
    "        for dx, dy in checks[p][d]:\n",
    "            if not 0 <= px + dx <= 6 or (px + dx, py + dy) in cave:\n",
    "                blocked = True\n",
    "        if not blocked:\n",
    "            px += d\n",
    "        # move down\n",
    "        for dx, dy in checks[p][\"v\"]:\n",
    "            if py + dy < 0 or (px + dx, py + dy) in cave:\n",
    "                rest = True\n",
    "        if not rest:\n",
    "            py -= 1\n",
    "        else:\n",
    "            ph = 0\n",
    "            for x, y in p:\n",
    "                cave.append((px + x, py + y))\n",
    "                ph = max(ph, y + 1)\n",
    "            h = max(h, py + ph)\n",
    "    i += 1\n",
    "h + fh"
   ]
  },
  {
   "cell_type": "code",
   "execution_count": null,
   "id": "cac0d0d5-525e-4210-b7a6-351e29949da7",
   "metadata": {},
   "outputs": [],
   "source": []
  }
 ],
 "metadata": {
  "kernelspec": {
   "display_name": "Python 3 (ipykernel)",
   "language": "python",
   "name": "python3"
  },
  "language_info": {
   "codemirror_mode": {
    "name": "ipython",
    "version": 3
   },
   "file_extension": ".py",
   "mimetype": "text/x-python",
   "name": "python",
   "nbconvert_exporter": "python",
   "pygments_lexer": "ipython3",
   "version": "3.10.5"
  }
 },
 "nbformat": 4,
 "nbformat_minor": 5
}
