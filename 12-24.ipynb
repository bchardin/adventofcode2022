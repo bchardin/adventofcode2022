{
 "cells": [
  {
   "cell_type": "markdown",
   "id": "390b1c34-02ca-41f5-8cf4-d44b25a8cb91",
   "metadata": {
    "tags": []
   },
   "source": [
    "# Part 1"
   ]
  },
  {
   "cell_type": "code",
   "execution_count": 1,
   "id": "ef8d3980-3203-4ca4-9e10-fe8f2fb94fca",
   "metadata": {
    "tags": []
   },
   "outputs": [],
   "source": [
    "filename = \"inputs/12-24.txt\"\n",
    "with open(filename, \"r\") as f:\n",
    "    data = f.read()"
   ]
  },
  {
   "cell_type": "code",
   "execution_count": 2,
   "id": "7875848d-7f96-434c-a5ca-9b117840a72c",
   "metadata": {},
   "outputs": [],
   "source": [
    "from collections import defaultdict"
   ]
  },
  {
   "cell_type": "code",
   "execution_count": 3,
   "id": "a85b0935-1d98-4d7a-9028-e26ee90252bd",
   "metadata": {},
   "outputs": [],
   "source": [
    "blizzards = defaultdict(list)\n",
    "for j, l in enumerate(data.splitlines()):\n",
    "    for i, c in enumerate(l):\n",
    "        if j == 0 and c == \".\":\n",
    "            entrance = i - 1, j - 1\n",
    "        if j == len(data.splitlines()) - 1 and c == \".\":\n",
    "            exit = i - 1, j - 1\n",
    "        if c in \"<>v^\":\n",
    "            blizzards[i - 1, j - 1].append(c)\n",
    "mx = len(data.splitlines()[0]) - 2\n",
    "my = exit[1]"
   ]
  },
  {
   "cell_type": "code",
   "execution_count": 4,
   "id": "aedb18b6-81bf-4ef1-9ac4-0fc9d5813f4c",
   "metadata": {},
   "outputs": [],
   "source": [
    "DIRS = {\n",
    "    \"<\": (-1, 0),\n",
    "    \">\": (1, 0),\n",
    "    \"v\": (0, 1),\n",
    "    \"^\": (0, -1),\n",
    "}\n",
    "def move(blizzards):\n",
    "    nbliz = defaultdict(list)\n",
    "    for (bx, by), d in blizzards.items():\n",
    "        for c in d:\n",
    "            dx, dy = DIRS[c]\n",
    "            tx = (bx + dx) % mx\n",
    "            ty = (by + dy) % my\n",
    "            nbliz[tx, ty].append(c)\n",
    "    return nbliz"
   ]
  },
  {
   "cell_type": "code",
   "execution_count": 5,
   "id": "58770c05-afd9-419a-a708-28137615f9d0",
   "metadata": {},
   "outputs": [],
   "source": [
    "def print_blizzards(blizzards, mx=mx, my=my):\n",
    "    for j in range(my):\n",
    "        line = []\n",
    "        for i in range(mx):\n",
    "            qty = len(blizzards[i, j])\n",
    "            if qty == 0:\n",
    "                line.append(\".\")\n",
    "            elif qty > 1:\n",
    "                line.append(str(qty))\n",
    "            else:\n",
    "                line.append(blizzards[i, j][0])\n",
    "        print(\"\".join(line))\n",
    "    print()"
   ]
  },
  {
   "cell_type": "code",
   "execution_count": 6,
   "id": "2d7383e5-20e6-4166-84db-702afcce4347",
   "metadata": {},
   "outputs": [],
   "source": [
    "def roam(blizzards, entrance, exit):\n",
    "    i = 0\n",
    "    reachable = {entrance}\n",
    "    exited = False\n",
    "    while not exited:\n",
    "        i += 1\n",
    "        blizzards = move(blizzards)\n",
    "        nreachable = set()\n",
    "        for x, y in reachable:\n",
    "            for dx, dy in ((0, 0), (-1, 0), (1, 0), (0, 1), (0, -1)):\n",
    "                nx = x + dx\n",
    "                ny = y + dy\n",
    "                if (nx, ny) == exit:\n",
    "                    exited = True\n",
    "                if (nx, ny) == entrance or 0 <= nx < mx and 0 <= ny < my and (nx, ny) not in blizzards:\n",
    "                    nreachable.add((nx, ny))\n",
    "        reachable = nreachable\n",
    "    return i, blizzards"
   ]
  },
  {
   "cell_type": "code",
   "execution_count": 7,
   "id": "5b116db6-d4aa-41fd-8f8c-09143a368e3b",
   "metadata": {},
   "outputs": [
    {
     "name": "stdout",
     "output_type": "stream",
     "text": [
      "266\n"
     ]
    }
   ],
   "source": [
    "i, _ = roam(blizzards.copy(), entrance, exit)\n",
    "print(i)"
   ]
  },
  {
   "cell_type": "markdown",
   "id": "bddf5e37-0d9b-4f54-8c9b-02b296648911",
   "metadata": {},
   "source": [
    "# Part 2"
   ]
  },
  {
   "cell_type": "code",
   "execution_count": 8,
   "id": "f8a022ce-a395-480d-a3cb-3701437b0489",
   "metadata": {},
   "outputs": [
    {
     "name": "stdout",
     "output_type": "stream",
     "text": [
      "853\n"
     ]
    }
   ],
   "source": [
    "i, b = roam(blizzards.copy(), entrance, exit)\n",
    "j, b = roam(b, exit, entrance)\n",
    "i += j\n",
    "j, b = roam(b, entrance, exit)\n",
    "i += j\n",
    "\n",
    "print(i)"
   ]
  },
  {
   "cell_type": "code",
   "execution_count": null,
   "id": "622d475f-6a0b-4be5-85f2-7940e1e29c0d",
   "metadata": {},
   "outputs": [],
   "source": []
  }
 ],
 "metadata": {
  "kernelspec": {
   "display_name": "Python 3 (ipykernel)",
   "language": "python",
   "name": "python3"
  },
  "language_info": {
   "codemirror_mode": {
    "name": "ipython",
    "version": 3
   },
   "file_extension": ".py",
   "mimetype": "text/x-python",
   "name": "python",
   "nbconvert_exporter": "python",
   "pygments_lexer": "ipython3",
   "version": "3.10.5"
  }
 },
 "nbformat": 4,
 "nbformat_minor": 5
}
