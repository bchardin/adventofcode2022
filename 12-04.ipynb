{
 "cells": [
  {
   "cell_type": "markdown",
   "id": "dff0d948-5933-43f3-8f0a-188c9143e961",
   "metadata": {},
   "source": [
    "# Part 1"
   ]
  },
  {
   "cell_type": "code",
   "execution_count": 1,
   "id": "770dec4d-6db6-4eaf-ab4f-4a2cc160cd64",
   "metadata": {},
   "outputs": [],
   "source": [
    "import pandas as pd"
   ]
  },
  {
   "cell_type": "code",
   "execution_count": 2,
   "id": "c2e5330a-bca5-42e2-bfe3-2db0135d929f",
   "metadata": {},
   "outputs": [],
   "source": [
    "df = pd.read_csv(\"12-04.txt\", names=[\"first\", \"second\"])"
   ]
  },
  {
   "cell_type": "code",
   "execution_count": 3,
   "id": "95746e86-5348-4680-b425-777cc89e26fd",
   "metadata": {},
   "outputs": [],
   "source": [
    "for which in [\"first\", \"second\"]:\n",
    "    df[[f\"{which}_start\", f\"{which}_end\"]] = df[which].str.split(\"-\", expand=True).astype(int)"
   ]
  },
  {
   "cell_type": "code",
   "execution_count": 4,
   "id": "7d71de47-74fa-4afc-be57-d2445afde19e",
   "metadata": {},
   "outputs": [
    {
     "data": {
      "text/plain": [
       "602"
      ]
     },
     "execution_count": 4,
     "metadata": {},
     "output_type": "execute_result"
    }
   ],
   "source": [
    "len(df[\n",
    "    (df[\"first_start\"] <= df[\"second_start\"]) & (df[\"first_end\"] >= df[\"second_end\"]) |\n",
    "    (df[\"first_start\"] >= df[\"second_start\"]) & (df[\"first_end\"] <= df[\"second_end\"])\n",
    "])"
   ]
  },
  {
   "cell_type": "markdown",
   "id": "5fa27552-e11a-487b-997a-4aee1593290a",
   "metadata": {},
   "source": [
    "# Part 2"
   ]
  },
  {
   "cell_type": "code",
   "execution_count": 5,
   "id": "472eac41-d790-4bf9-a167-86d15016221d",
   "metadata": {},
   "outputs": [
    {
     "data": {
      "text/plain": [
       "891"
      ]
     },
     "execution_count": 5,
     "metadata": {},
     "output_type": "execute_result"
    }
   ],
   "source": [
    "len(df[\n",
    "    ~(\n",
    "        (df[\"first_start\"] > df[\"second_end\"]) |\n",
    "        (df[\"second_start\"] > df[\"first_end\"])\n",
    "    )\n",
    "])"
   ]
  },
  {
   "cell_type": "code",
   "execution_count": null,
   "id": "4d455f65-363d-4ff7-8bcb-421d95b6db0c",
   "metadata": {},
   "outputs": [],
   "source": []
  }
 ],
 "metadata": {
  "kernelspec": {
   "display_name": "Python 3 (ipykernel)",
   "language": "python",
   "name": "python3"
  },
  "language_info": {
   "codemirror_mode": {
    "name": "ipython",
    "version": 3
   },
   "file_extension": ".py",
   "mimetype": "text/x-python",
   "name": "python",
   "nbconvert_exporter": "python",
   "pygments_lexer": "ipython3",
   "version": "3.10.5"
  }
 },
 "nbformat": 4,
 "nbformat_minor": 5
}
