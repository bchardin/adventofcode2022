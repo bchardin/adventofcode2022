{
 "cells": [
  {
   "cell_type": "markdown",
   "id": "8cdc241d-1dc7-46c4-bd0b-5c4a5d6e1bb0",
   "metadata": {},
   "source": [
    "# Part 1"
   ]
  },
  {
   "cell_type": "code",
   "execution_count": 1,
   "id": "c9f93d51-9427-42bc-9b1c-0595279dfb35",
   "metadata": {
    "tags": []
   },
   "outputs": [],
   "source": [
    "filename, row = \"inputs/12-15.txt\", 2000000\n",
    "with open(filename, \"r\") as f:\n",
    "    data = f.read()"
   ]
  },
  {
   "cell_type": "code",
   "execution_count": 2,
   "id": "4ebee26a-4661-4815-a510-e30dbab039be",
   "metadata": {},
   "outputs": [],
   "source": [
    "import re"
   ]
  },
  {
   "cell_type": "code",
   "execution_count": 3,
   "id": "eaaa6f37-910d-485b-a3f5-8b162561e98f",
   "metadata": {},
   "outputs": [],
   "source": [
    "sensors = []\n",
    "for l in data.splitlines():\n",
    "    x, y, bx, by = (int(v) for v in re.findall(\"-?\\d+\", l))\n",
    "    d = abs(bx -x) + abs(by - y)\n",
    "    sensors.append((x, y, bx, by, d))"
   ]
  },
  {
   "cell_type": "code",
   "execution_count": 4,
   "id": "7f2d4000-7794-4f23-bc1f-15ff646c42af",
   "metadata": {},
   "outputs": [],
   "source": [
    "def add_range(ranges, range_):\n",
    "    x, y = range_\n",
    "    ret = []\n",
    "    for (rx, ry) in ranges:\n",
    "        if rx > y or x > ry:\n",
    "            ret.append((rx, ry))\n",
    "        else:\n",
    "            x = min(x, rx)\n",
    "            y = max(y, ry)\n",
    "    ret.append((x, y))\n",
    "    return ret"
   ]
  },
  {
   "cell_type": "code",
   "execution_count": 5,
   "id": "3b7690c4-b06f-4927-94b5-daf4674889f9",
   "metadata": {},
   "outputs": [
    {
     "data": {
      "text/plain": [
       "5403290"
      ]
     },
     "execution_count": 5,
     "metadata": {},
     "output_type": "execute_result"
    }
   ],
   "source": [
    "ranges = []\n",
    "row_stations = set()\n",
    "for x, y, bx, by, d in sensors:\n",
    "    for s in ((x, y), (by, by)):\n",
    "        if s[1] == row:\n",
    "            row_stations.add(s)\n",
    "    x_range = d - abs(y - row)\n",
    "    if x_range > 0:\n",
    "        ranges = add_range(ranges, (x - x_range, x + x_range))\n",
    "\n",
    "sum(y - x + 1 for x, y in ranges) - len(row_stations)"
   ]
  },
  {
   "cell_type": "markdown",
   "id": "e6c2ed67-acfc-4bac-aee5-2844e6100232",
   "metadata": {},
   "source": [
    "# Part 2\n",
    "\n",
    "An inefficient (brute force) solution."
   ]
  },
  {
   "cell_type": "code",
   "execution_count": 6,
   "id": "817259db-e900-4288-9c71-7abe4130ac49",
   "metadata": {},
   "outputs": [],
   "source": [
    "MIN_POS, MAX_POS = 0, 4000000"
   ]
  },
  {
   "cell_type": "code",
   "execution_count": 7,
   "id": "caf8c68a-5e5c-4c4e-a45d-6a1ecd37b8cc",
   "metadata": {},
   "outputs": [],
   "source": [
    "def scan_row(row, x0=MIN_POS, y0=MAX_POS):\n",
    "    ranges = []\n",
    "    for x, y, bx, by, d in sensors:\n",
    "        x_range = d - abs(y - row)\n",
    "        if x_range > 0:\n",
    "            ranges = add_range(ranges, (x - x_range, x + x_range))\n",
    "\n",
    "    if sum(min(y, y0) - max(x, x0) for x, y in ranges) < y0 - x0:\n",
    "        dbx = max(y for _, y in ranges if y < y0) + 1\n",
    "        return dbx*y0 + row"
   ]
  },
  {
   "cell_type": "code",
   "execution_count": null,
   "id": "fa69c24a-84a5-449e-bf8b-864863ee06e0",
   "metadata": {},
   "outputs": [],
   "source": [
    "\"\"\"\n",
    "for row in range(4000001):\n",
    "    tf = scan_row(row)\n",
    "    if tf is not None:\n",
    "        print(tf)\n",
    "        break\n",
    "\"\"\""
   ]
  },
  {
   "cell_type": "markdown",
   "id": "e8c2591f-1937-444e-9f79-6268eae9c10d",
   "metadata": {},
   "source": [
    "A slightly less inefficient linear programming solution."
   ]
  },
  {
   "cell_type": "code",
   "execution_count": 8,
   "id": "2b619d55-21f8-417c-ac59-38f69dc78f89",
   "metadata": {},
   "outputs": [],
   "source": [
    "import mip"
   ]
  },
  {
   "cell_type": "code",
   "execution_count": 9,
   "id": "a6b5177e-38ff-4318-8787-97f02ca136ac",
   "metadata": {},
   "outputs": [
    {
     "data": {
      "text/plain": [
       "10291582906626"
      ]
     },
     "execution_count": 9,
     "metadata": {},
     "output_type": "execute_result"
    }
   ],
   "source": [
    "def abs_value(model, x):\n",
    "    HUGE = 1000000000\n",
    "    absx = m.add_var(var_type=mip.INTEGER)\n",
    "    sgn = m.add_var(var_type=mip.BINARY)\n",
    "    model += absx <= x + HUGE * (1 - sgn)\n",
    "    model += absx >= x - HUGE * (1 - sgn)\n",
    "    model += absx <= -x + HUGE * sgn\n",
    "    model += absx >= -x - HUGE * sgn\n",
    "    return absx\n",
    "\n",
    "m = mip.Model()\n",
    "x = m.add_var(\"x\", lb=MIN_POS, ub=MAX_POS, var_type=mip.INTEGER)\n",
    "y = m.add_var(\"y\", lb=MIN_POS, ub=MAX_POS, var_type=mip.INTEGER)\n",
    "for sx, sy, *_, d in sensors:\n",
    "    dx = abs_value(m, sx - x)\n",
    "    dy = abs_value(m, sy - y)\n",
    "    m += dx + dy >= d + 1\n",
    "status = m.optimize()\n",
    "tfx = int(x.x)\n",
    "tfy = int(y.x)\n",
    "tfx*MAX_POS + tfy"
   ]
  },
  {
   "cell_type": "code",
   "execution_count": null,
   "id": "bb3fa48f-5c03-4ce7-b662-000cca731fd5",
   "metadata": {},
   "outputs": [],
   "source": []
  }
 ],
 "metadata": {
  "kernelspec": {
   "display_name": "Python 3 (ipykernel)",
   "language": "python",
   "name": "python3"
  },
  "language_info": {
   "codemirror_mode": {
    "name": "ipython",
    "version": 3
   },
   "file_extension": ".py",
   "mimetype": "text/x-python",
   "name": "python",
   "nbconvert_exporter": "python",
   "pygments_lexer": "ipython3",
   "version": "3.10.5"
  }
 },
 "nbformat": 4,
 "nbformat_minor": 5
}
