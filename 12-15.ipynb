{
 "cells": [
  {
   "cell_type": "markdown",
   "metadata": {},
   "source": [
    "# Part 1"
   ]
  },
  {
   "cell_type": "code",
   "execution_count": 1,
   "metadata": {
    "tags": []
   },
   "outputs": [],
   "source": [
    "filename, row = \"inputs/12-15.txt\", 2000000\n",
    "with open(filename, \"r\") as f:\n",
    "    data = f.read()"
   ]
  },
  {
   "cell_type": "code",
   "execution_count": 2,
   "metadata": {},
   "outputs": [],
   "source": [
    "import re"
   ]
  },
  {
   "cell_type": "code",
   "execution_count": 3,
   "metadata": {},
   "outputs": [],
   "source": [
    "sensors = []\n",
    "for l in data.splitlines():\n",
    "    x, y, bx, by = (int(v) for v in re.findall(\"-?\\d+\", l))\n",
    "    d = abs(bx -x) + abs(by - y)\n",
    "    sensors.append((x, y, bx, by, d))"
   ]
  },
  {
   "cell_type": "code",
   "execution_count": 4,
   "metadata": {},
   "outputs": [],
   "source": [
    "def add_range(ranges, range_):\n",
    "    x, y = range_\n",
    "    ret = []\n",
    "    for (rx, ry) in ranges:\n",
    "        if rx > y or x > ry:\n",
    "            ret.append((rx, ry))\n",
    "        else:\n",
    "            x = min(x, rx)\n",
    "            y = max(y, ry)\n",
    "    ret.append((x, y))\n",
    "    return ret"
   ]
  },
  {
   "cell_type": "code",
   "execution_count": 5,
   "metadata": {},
   "outputs": [
    {
     "data": {
      "text/plain": [
       "5403290"
      ]
     },
     "execution_count": 5,
     "metadata": {},
     "output_type": "execute_result"
    }
   ],
   "source": [
    "ranges = []\n",
    "row_stations = set()\n",
    "for x, y, bx, by, d in sensors:\n",
    "    for s in ((x, y), (by, by)):\n",
    "        if s[1] == row:\n",
    "            row_stations.add(s)\n",
    "    x_range = d - abs(y - row)\n",
    "    if x_range > 0:\n",
    "        ranges = add_range(ranges, (x - x_range, x + x_range))\n",
    "\n",
    "sum(y - x + 1 for x, y in ranges) - len(row_stations)"
   ]
  },
  {
   "cell_type": "markdown",
   "metadata": {},
   "source": [
    "# Part 2\n",
    "\n",
    "An inefficient (brute force) solution."
   ]
  },
  {
   "cell_type": "code",
   "execution_count": 6,
   "metadata": {},
   "outputs": [],
   "source": [
    "MIN_POS, MAX_POS = 0, 4000000"
   ]
  },
  {
   "cell_type": "code",
   "execution_count": 7,
   "metadata": {},
   "outputs": [],
   "source": [
    "def scan_row(row, x0=MIN_POS, y0=MAX_POS):\n",
    "    ranges = []\n",
    "    for x, y, bx, by, d in sensors:\n",
    "        x_range = d - abs(y - row)\n",
    "        if x_range > 0:\n",
    "            ranges = add_range(ranges, (x - x_range, x + x_range))\n",
    "\n",
    "    if sum(min(y, y0) - max(x, x0) for x, y in ranges) < y0 - x0:\n",
    "        dbx = max(y for _, y in ranges if y < y0) + 1\n",
    "        return dbx*y0 + row"
   ]
  },
  {
   "cell_type": "code",
   "execution_count": null,
   "metadata": {},
   "outputs": [],
   "source": [
    "\"\"\"\n",
    "for row in range(4000001):\n",
    "    tf = scan_row(row)\n",
    "    if tf is not None:\n",
    "        print(tf)\n",
    "        break\n",
    "\"\"\""
   ]
  },
  {
   "cell_type": "markdown",
   "metadata": {},
   "source": [
    "A slightly less inefficient linear programming solution."
   ]
  },
  {
   "cell_type": "code",
   "execution_count": 8,
   "metadata": {},
   "outputs": [],
   "source": [
    "import mip"
   ]
  },
  {
   "cell_type": "code",
   "execution_count": 9,
   "metadata": {},
   "outputs": [
    {
     "data": {
      "text/plain": [
       "10291582906626"
      ]
     },
     "execution_count": 9,
     "metadata": {},
     "output_type": "execute_result"
    }
   ],
   "source": [
    "def abs_value(model, x):\n",
    "    HUGE = 1000000000\n",
    "    absx = m.add_var(var_type=mip.INTEGER)\n",
    "    sgn = m.add_var(var_type=mip.BINARY)\n",
    "    model += absx <= x + HUGE * (1 - sgn)\n",
    "    model += absx >= x - HUGE * (1 - sgn)\n",
    "    model += absx <= -x + HUGE * sgn\n",
    "    model += absx >= -x - HUGE * sgn\n",
    "    return absx\n",
    "\n",
    "m = mip.Model()\n",
    "x = m.add_var(\"x\", lb=MIN_POS, ub=MAX_POS, var_type=mip.INTEGER)\n",
    "y = m.add_var(\"y\", lb=MIN_POS, ub=MAX_POS, var_type=mip.INTEGER)\n",
    "for sx, sy, *_, d in sensors:\n",
    "    dx = abs_value(m, sx - x)\n",
    "    dy = abs_value(m, sy - y)\n",
    "    m += dx + dy >= d + 1\n",
    "status = m.optimize()\n",
    "tfx = int(x.x)\n",
    "tfy = int(y.x)\n",
    "tfx*MAX_POS + tfy"
   ]
  },
  {
   "cell_type": "markdown",
   "metadata": {},
   "source": [
    "A more efficient solution based on the following property.  \n",
    "The beacon location should be at the intersection of two 1-wide bands based on pairs of squares.\n",
    "\n",
    "If the beacon is on the border of the considered area, this solution does not work."
   ]
  },
  {
   "cell_type": "code",
   "execution_count": 10,
   "metadata": {},
   "outputs": [],
   "source": [
    "downslope = []\n",
    "upslope = []\n",
    "for i, (x1, y1, *_, d1) in enumerate(sensors):\n",
    "    for x2, y2, *_, d2 in sensors[:i]:\n",
    "        if abs(x2 - x1) + abs(y2 - y1) == d2 + d1 + 2:\n",
    "            assert x1 != x2 and y1 != y2, \"Not supported\"\n",
    "            # compute the intersection with x = 0\n",
    "            if (x1 < x2) == (y1 < y2):\n",
    "                if x1 < x2:\n",
    "                    o = y1 + x1 + d1 + 1\n",
    "                else:\n",
    "                    o = x2 + y2 + d2 + 1\n",
    "                downslope.append(o)\n",
    "            else:\n",
    "                if x1 < x2:\n",
    "                    o = y1 - x1 - d1 - 1\n",
    "                else:\n",
    "                    o = y2 - x2 - d2 - 1\n",
    "                upslope.append(o)"
   ]
  },
  {
   "cell_type": "code",
   "execution_count": 11,
   "metadata": {},
   "outputs": [],
   "source": [
    "def is_unknown(sensors, point):\n",
    "    px, py = point\n",
    "    for x, y, *_, d in sensors:\n",
    "        if abs(x - px) + abs(y - py) <= d:\n",
    "            return False\n",
    "    return True"
   ]
  },
  {
   "cell_type": "code",
   "execution_count": 12,
   "metadata": {},
   "outputs": [
    {
     "name": "stdout",
     "output_type": "stream",
     "text": [
      "Valid intersection at (2572895, 2906626): tuning frequency is 10291582906626\n"
     ]
    }
   ],
   "source": [
    "for u in upslope:\n",
    "    for d in downslope:\n",
    "        x = (d - u) // 2\n",
    "        y = u + x\n",
    "        assert u + x == d - x\n",
    "        if is_unknown(sensors, (x, y)):\n",
    "            print(f\"Valid intersection at ({x}, {y}): tuning frequency is {x*4000000 + y}\")\n",
    "        else:\n",
    "            print(f\"Invalid intersection at ({x}, {y})\")"
   ]
  },
  {
   "cell_type": "code",
   "execution_count": null,
   "metadata": {},
   "outputs": [],
   "source": []
  }
 ],
 "metadata": {
  "kernelspec": {
   "display_name": "Python 3",
   "language": "python",
   "name": "python3"
  },
  "language_info": {
   "codemirror_mode": {
    "name": "ipython",
    "version": 3
   },
   "file_extension": ".py",
   "mimetype": "text/x-python",
   "name": "python",
   "nbconvert_exporter": "python",
   "pygments_lexer": "ipython3",
   "version": "3.8.10"
  }
 },
 "nbformat": 4,
 "nbformat_minor": 5
}
