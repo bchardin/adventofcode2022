{
 "cells": [
  {
   "cell_type": "markdown",
   "id": "8cdc241d-1dc7-46c4-bd0b-5c4a5d6e1bb0",
   "metadata": {},
   "source": [
    "# Part 1"
   ]
  },
  {
   "cell_type": "code",
   "execution_count": 1,
   "id": "c9f93d51-9427-42bc-9b1c-0595279dfb35",
   "metadata": {
    "tags": []
   },
   "outputs": [],
   "source": [
    "filename, row = \"inputs/12-15.txt\", 2000000\n",
    "with open(filename, \"r\") as f:\n",
    "    data = f.read()"
   ]
  },
  {
   "cell_type": "code",
   "execution_count": 2,
   "id": "4ebee26a-4661-4815-a510-e30dbab039be",
   "metadata": {},
   "outputs": [],
   "source": [
    "import re"
   ]
  },
  {
   "cell_type": "code",
   "execution_count": 3,
   "id": "eaaa6f37-910d-485b-a3f5-8b162561e98f",
   "metadata": {},
   "outputs": [],
   "source": [
    "sensors = []\n",
    "for l in data.splitlines():\n",
    "    x, y, bx, by = (int(v) for v in re.findall(\"-?\\d+\", l))\n",
    "    d = abs(bx -x) + abs(by - y)\n",
    "    sensors.append((x, y, bx, by, d))"
   ]
  },
  {
   "cell_type": "code",
   "execution_count": 4,
   "id": "7f2d4000-7794-4f23-bc1f-15ff646c42af",
   "metadata": {},
   "outputs": [],
   "source": [
    "def add_range(ranges, range_):\n",
    "    x, y = range_\n",
    "    ret = []\n",
    "    for (rx, ry) in ranges:\n",
    "        if rx > y or x > ry:\n",
    "            ret.append((rx, ry))\n",
    "        else:\n",
    "            x = min(x, rx)\n",
    "            y = max(y, ry)\n",
    "    ret.append((x, y))\n",
    "    return ret"
   ]
  },
  {
   "cell_type": "code",
   "execution_count": 5,
   "id": "3b7690c4-b06f-4927-94b5-daf4674889f9",
   "metadata": {},
   "outputs": [
    {
     "data": {
      "text/plain": [
       "5403290"
      ]
     },
     "execution_count": 5,
     "metadata": {},
     "output_type": "execute_result"
    }
   ],
   "source": [
    "ranges = []\n",
    "row_stations = set()\n",
    "for x, y, bx, by, d in sensors:\n",
    "    for s in ((x, y), (by, by)):\n",
    "        if s[1] == row:\n",
    "            row_stations.add(s)\n",
    "    x_range = d - abs(y - row)\n",
    "    if x_range > 0:\n",
    "        ranges = add_range(ranges, (x - x_range, x + x_range))\n",
    "\n",
    "sum(y - x + 1 for x, y in ranges) - len(row_stations)"
   ]
  },
  {
   "cell_type": "markdown",
   "id": "e6c2ed67-acfc-4bac-aee5-2844e6100232",
   "metadata": {},
   "source": [
    "# Part 2\n",
    "\n",
    "An inefficient (brute force) solution."
   ]
  },
  {
   "cell_type": "code",
   "execution_count": 6,
   "id": "aacd2cd8-ae53-4251-abc4-2d76c7893d05",
   "metadata": {},
   "outputs": [],
   "source": [
    "def scan_row(row, x0=0, y0=4000000):\n",
    "    ranges = []\n",
    "    for x, y, bx, by, d in sensors:\n",
    "        x_range = d - abs(y - row)\n",
    "        if x_range > 0:\n",
    "            ranges = add_range(ranges, (x - x_range, x + x_range))\n",
    "\n",
    "    if sum(min(y, y0) - max(x, x0) for x, y in ranges) < y0 - x0:\n",
    "        dbx = max(y for _, y in ranges if y < y0) + 1\n",
    "        return dbx*y0 + row"
   ]
  },
  {
   "cell_type": "code",
   "execution_count": 7,
   "id": "d0c172d2-a830-4fad-8a72-6c50e096cecf",
   "metadata": {},
   "outputs": [
    {
     "name": "stdout",
     "output_type": "stream",
     "text": [
      "10291582906626\n"
     ]
    }
   ],
   "source": [
    "for row in range(4000001):\n",
    "    tf = scan_row(row)\n",
    "    if tf is not None:\n",
    "        print(tf)\n",
    "        break"
   ]
  },
  {
   "cell_type": "code",
   "execution_count": null,
   "id": "1cbf4152-4e71-459d-bf71-e9a03945c69a",
   "metadata": {},
   "outputs": [],
   "source": []
  }
 ],
 "metadata": {
  "kernelspec": {
   "display_name": "Python 3 (ipykernel)",
   "language": "python",
   "name": "python3"
  },
  "language_info": {
   "codemirror_mode": {
    "name": "ipython",
    "version": 3
   },
   "file_extension": ".py",
   "mimetype": "text/x-python",
   "name": "python",
   "nbconvert_exporter": "python",
   "pygments_lexer": "ipython3",
   "version": "3.10.5"
  }
 },
 "nbformat": 4,
 "nbformat_minor": 5
}
