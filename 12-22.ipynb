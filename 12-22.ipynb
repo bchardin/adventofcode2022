{
 "cells": [
  {
   "cell_type": "markdown",
   "id": "9a0626cf-5a0b-4cfc-b97a-a912a94fd7f9",
   "metadata": {},
   "source": [
    "# Part 1"
   ]
  },
  {
   "cell_type": "code",
   "execution_count": 1,
   "id": "9bc08da7-ced8-47c9-80f7-95e84fcbc3c8",
   "metadata": {
    "tags": []
   },
   "outputs": [],
   "source": [
    "filename = \"inputs/12-22.txt\"\n",
    "with open(filename, \"r\") as f:\n",
    "    data = f.read()"
   ]
  },
  {
   "cell_type": "code",
   "execution_count": 2,
   "id": "7b2aff12-5241-4aff-8c95-fba4da95d17d",
   "metadata": {},
   "outputs": [],
   "source": [
    "from collections import deque\n",
    "import math\n",
    "import re"
   ]
  },
  {
   "cell_type": "code",
   "execution_count": 3,
   "id": "f2ab959e-369f-4178-8cf2-f9298d265e48",
   "metadata": {},
   "outputs": [],
   "source": [
    "map_, path = data.split(\"\\n\\n\")\n",
    "path = [(int(l), -90 if r == \"R\" else 90 if r == \"L\" else 0) for l, r in re.findall(\"([0-9]+)([RL]?)\", path)]\n",
    "map_ = map_.splitlines()\n",
    "my = len(map_)\n",
    "mx = max([len(l) for l in map_])\n",
    "m = {}\n",
    "for j, l in enumerate(map_):\n",
    "    for i, c in enumerate(l):\n",
    "        if c != \" \":\n",
    "            m[i, j] = c"
   ]
  },
  {
   "cell_type": "code",
   "execution_count": 4,
   "id": "774526c2-1a64-4469-a4db-c0b06bfb891a",
   "metadata": {},
   "outputs": [],
   "source": [
    "def apply_isometry(p, rotation_angle=0, rotation_center=(0, 0), translation=(0, 0)):\n",
    "    \"\"\"Apply a translation followed by a rotation.\"\"\"\n",
    "    x, y = p\n",
    "    dx, dy = translation\n",
    "    x += dx\n",
    "    y += dy\n",
    "    cx, cy = rotation_center\n",
    "    x, y = x - cx, y - cy\n",
    "    if rotation_angle == -90:  # R\n",
    "        x, y = -y, x\n",
    "    if rotation_angle == 90:  # L\n",
    "        x, y = y, -x\n",
    "    if rotation_angle == 180:\n",
    "        x, y = -x, -y\n",
    "    return round(cx + x), round(cy + y)\n",
    "\n",
    "def move(x, y, dx, dy, m=m, mx=mx, my=my):\n",
    "    tx = (x + dx) % mx\n",
    "    ty = (y + dy) % my\n",
    "    while not (tx, ty) in m:\n",
    "        tx = (tx + dx) % mx\n",
    "        ty = (ty + dy) % my\n",
    "    return tx, ty, dx, dy"
   ]
  },
  {
   "cell_type": "code",
   "execution_count": 5,
   "id": "d45c34b1-8e01-4e63-9ead-150dd0cd2071",
   "metadata": {},
   "outputs": [
    {
     "name": "stdout",
     "output_type": "stream",
     "text": [
      "196134\n"
     ]
    }
   ],
   "source": [
    "def get_password(m, move_func):\n",
    "    orientations = [(1, 0), (0, 1), (-1, 0), (0, -1)]\n",
    "    for p in sorted(m.keys(), key=lambda t: (t[1], t[0])):\n",
    "        if m[p] == \".\":\n",
    "            start = p\n",
    "            break\n",
    "    x, y = start\n",
    "    dx, dy = (1, 0)\n",
    "    for length, angle in path:\n",
    "        for _ in range(length):\n",
    "            tx, ty, dtx, dty = move_func(x, y, dx, dy)\n",
    "            if m[tx, ty] == \"#\":\n",
    "                break\n",
    "            else:\n",
    "                x, y, dx, dy = tx, ty, dtx, dty\n",
    "        dx, dy = apply_isometry((dx, dy), angle)\n",
    "\n",
    "    return 1000 * (y + 1) + 4 * (x + 1) + orientations.index((dx, dy))\n",
    "\n",
    "print(get_password(m, move))"
   ]
  },
  {
   "cell_type": "markdown",
   "id": "162b1944-ce08-4093-a64a-35ce86eac81f",
   "metadata": {},
   "source": [
    "# Part 2"
   ]
  },
  {
   "cell_type": "code",
   "execution_count": 6,
   "id": "1ceb75b9-87e8-40ef-80d3-0050464b873c",
   "metadata": {},
   "outputs": [],
   "source": [
    "if mx <= 16:\n",
    "    cx, cy = (4, 4)\n",
    "else:\n",
    "    cx, cy = (50, 50)\n",
    "sides = deque()\n",
    "for i in range(mx//cx):\n",
    "    for j in range(my//cy):\n",
    "        if (i * cx, j * cy) in m:\n",
    "            sides.appendleft((i, j))\n",
    "\n",
    "mi = max([i for i, _ in sides]) + 1\n",
    "mj = max([j for _, j in sides]) + 1"
   ]
  },
  {
   "cell_type": "code",
   "execution_count": 7,
   "id": "8f1df59e-bc2b-4980-9bfc-620397260926",
   "metadata": {},
   "outputs": [],
   "source": [
    "# dict of top-left, top-right, botom-right, bottom-left corners 3D coordinates\n",
    "coordinates = {sides.pop(): ((0, 0, 0), (1, 0, 0), (1, 1, 0), (0, 1, 0))}\n",
    "\n",
    "while sides:\n",
    "    (i, j) = sides.pop()\n",
    "    adjacent = False\n",
    "    for di, dj in ((-1, 0), (1, 0), (0, -1), (0, 1)):\n",
    "        if (i + di, j + dj) in coordinates:\n",
    "            # faces share an edge on the map\n",
    "            adjacent = True\n",
    "            tl, tr, br, bl = coordinates[i + di, j + dj]\n",
    "            x, y, z = zip(tl, tr, br, bl)\n",
    "            dx = 0 if min(x) != max(x) else 1 - 2 * min(x)\n",
    "            dy = 0 if min(y) != max(y) else 1 - 2 * min(y)\n",
    "            dz = 0 if min(z) != max(z) else 1 - 2 * min(z)\n",
    "            if di == -1:\n",
    "                ftl = tr\n",
    "                fbl = br\n",
    "                x, y, z = ftl\n",
    "                ftr = x + dx, y + dy, z + dz \n",
    "                x, y, z = fbl\n",
    "                fbr = x + dx, y + dy, z + dz\n",
    "            if di == 1:\n",
    "                ftr = tl\n",
    "                fbr = bl\n",
    "                x, y, z = ftr\n",
    "                ftl = x + dx, y + dy, z + dz\n",
    "                x, y, z = fbr\n",
    "                fbl = x + dx, y + dy, z + dz\n",
    "            if dj == -1:\n",
    "                ftl = bl\n",
    "                ftr = br\n",
    "                x, y, z = ftr\n",
    "                fbr = x + dx, y + dy, z + dz\n",
    "                x, y, z = ftl\n",
    "                fbl = x + dx, y + dy, z + dz\n",
    "            if dj == 1:\n",
    "                fbr = tr\n",
    "                fbl = tl\n",
    "                x, y, z = fbl\n",
    "                ftl = x + dx, y + dy, z + dz\n",
    "                x, y, z = fbr\n",
    "                ftr = x + dx, y + dy, z + dz\n",
    "            coordinates[i, j] = (ftl, ftr, fbr, fbl)\n",
    "    if not adjacent:\n",
    "        sides.appendleft((i, j))"
   ]
  },
  {
   "cell_type": "code",
   "execution_count": 8,
   "id": "4c9f0025-05ad-45f3-8483-db181fa3a042",
   "metadata": {},
   "outputs": [],
   "source": [
    "def compute_isometry(a, b, ta, tb):\n",
    "    ax, ay = a\n",
    "    bx, by = b\n",
    "    tax, tay = ta\n",
    "    tbx, tby = tb\n",
    "    angle = math.atan2((tay - tby) * (bx - ax) - (tbx - tax) * (ay - by), (tbx - tax) * (bx - ax) + (tay - tby) * (ay - by))\n",
    "    deg_angle = round(angle * 180 / math.pi)\n",
    "    if deg_angle == -180:\n",
    "        deg_angle = 180\n",
    "    if deg_angle != 0:\n",
    "        cx = round((-math.cos(angle) * (ax + tax) + math.sin(angle) * (-ay + tay) + ax + tax)/(2 - 2 * math.cos(angle)), 1)\n",
    "        cy = -round((math.sin(angle) * (tax - ax) - math.cos(angle) * (-ay - tay) - ay - tay)/(2 - 2 * math.cos(angle)), 1)\n",
    "        return (cx, cy), deg_angle, (0, 0)\n",
    "    else:\n",
    "        return (0, 0), 0, (tbx - bx, tby - by)\n",
    "\n",
    "def compute_isometries(sides, cx=cx, cy=cy):\n",
    "    isometries = {}\n",
    "    for i, j in sides:\n",
    "        isometries[i, j] = {}\n",
    "        tl, tr, br, bl = sides[i, j]\n",
    "        top = j * cy\n",
    "        bottom = (j + 1) * cy - 1\n",
    "        left = i * cx\n",
    "        right = (i + 1) * cx - 1\n",
    "        for di, dj, a, b, oa, ob in (\n",
    "            (-1, 0, tl, bl, (left - 1, top), (left - 1, bottom)),\n",
    "            (1, 0, tr, br, (right + 1, top), (right + 1, bottom)),\n",
    "            (0, -1, tl, tr, (left, top - 1), (right, top - 1)),\n",
    "            (0, 1, bl, br, (left, bottom + 1), (right, bottom + 1))\n",
    "        ):\n",
    "            if (i + di, j + dj) not in sides:\n",
    "                # if the edge is a cut on the map\n",
    "                # find the face that shares edge [a, b]\n",
    "                # and the transformation to apply in the original map coordinate system\n",
    "                for f in sides:\n",
    "                    if f == (i, j):\n",
    "                        continue\n",
    "                    pts = sides[f]\n",
    "                    if len(set(pts).intersection((a, b))) == 2:\n",
    "                        ti, tj = f\n",
    "                        top = tj * cy\n",
    "                        bottom = (tj + 1) * cy - 1\n",
    "                        left = ti * cx\n",
    "                        right = (ti + 1) * cx - 1\n",
    "                        ot = [(left, top), (right, top), (right, bottom), (left, bottom)]\n",
    "                        isometries[i, j][di, dj] = compute_isometry(oa, ob, ot[pts.index(a)], ot[pts.index(b)])\n",
    "    return isometries\n",
    "\n",
    "isometries = compute_isometries(coordinates)"
   ]
  },
  {
   "cell_type": "code",
   "execution_count": 9,
   "id": "e0ecf819-6cf6-473f-945f-83cdfbe15bbf",
   "metadata": {},
   "outputs": [],
   "source": [
    "def cube_move(x, y, dx, dy, m=m, mi=mi, mj=mj):\n",
    "    tx = x + dx\n",
    "    ty = y + dy\n",
    "    if (tx, ty) not in m:\n",
    "        # warp\n",
    "        i = (x // cx) % mi\n",
    "        j = (y // cy) % mj\n",
    "        c, rot, tr = isometries[i, j][dx, dy]\n",
    "        # compute new coordinates\n",
    "        tx, ty = apply_isometry((tx, ty), rot, c, tr)\n",
    "        dx, dy = apply_isometry((dx, dy), rot)\n",
    "    return tx, ty, dx, dy"
   ]
  },
  {
   "cell_type": "code",
   "execution_count": 10,
   "id": "60002bdf-618b-4a50-8029-3b77b6d20f63",
   "metadata": {},
   "outputs": [
    {
     "name": "stdout",
     "output_type": "stream",
     "text": [
      "146011\n"
     ]
    }
   ],
   "source": [
    "print(get_password(m, cube_move))"
   ]
  },
  {
   "cell_type": "code",
   "execution_count": null,
   "id": "9886d806-4d0c-4ab6-a496-dd2a7b623034",
   "metadata": {},
   "outputs": [],
   "source": []
  }
 ],
 "metadata": {
  "kernelspec": {
   "display_name": "Python 3 (ipykernel)",
   "language": "python",
   "name": "python3"
  },
  "language_info": {
   "codemirror_mode": {
    "name": "ipython",
    "version": 3
   },
   "file_extension": ".py",
   "mimetype": "text/x-python",
   "name": "python",
   "nbconvert_exporter": "python",
   "pygments_lexer": "ipython3",
   "version": "3.10.5"
  }
 },
 "nbformat": 4,
 "nbformat_minor": 5
}
